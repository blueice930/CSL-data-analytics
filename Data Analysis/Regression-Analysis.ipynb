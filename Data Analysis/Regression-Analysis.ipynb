{
 "cells": [
  {
   "cell_type": "code",
   "execution_count": 3,
   "metadata": {},
   "outputs": [],
   "source": [
    "import pandas as pd\n",
    "from numpy import *\n",
    "from sklearn import *\n",
    "random.seed(20200108)"
   ]
  },
  {
   "cell_type": "markdown",
   "metadata": {},
   "source": [
    "## Read Data"
   ]
  },
  {
   "cell_type": "code",
   "execution_count": 10,
   "metadata": {},
   "outputs": [],
   "source": [
    "file_path = 'Updated-CSV/specification'"
   ]
  },
  {
   "cell_type": "code",
   "execution_count": 13,
   "metadata": {},
   "outputs": [],
   "source": [
    "data_hktv = pd.read_csv(f\"{file_path}/HKTVMALL_specification.csv\")\n",
    "data_hktv = data_hktv.drop(data_hktv.columns[0], axis=1)\n",
    "data_suning = pd.read_csv(f\"{file_path}/Suning_specification.csv\")\n",
    "data_suning = data_suning.drop(data_suning.columns[0], axis=1)"
   ]
  },
  {
   "cell_type": "code",
   "execution_count": 17,
   "metadata": {},
   "outputs": [
    {
     "data": {
      "text/html": [
       "<div>\n",
       "<style scoped>\n",
       "    .dataframe tbody tr th:only-of-type {\n",
       "        vertical-align: middle;\n",
       "    }\n",
       "\n",
       "    .dataframe tbody tr th {\n",
       "        vertical-align: top;\n",
       "    }\n",
       "\n",
       "    .dataframe thead th {\n",
       "        text-align: right;\n",
       "    }\n",
       "</style>\n",
       "<table border=\"1\" class=\"dataframe\">\n",
       "  <thead>\n",
       "    <tr style=\"text-align: right;\">\n",
       "      <th></th>\n",
       "      <th>Product Index</th>\n",
       "      <th>Product Name</th>\n",
       "      <th>Product Specification</th>\n",
       "      <th>Product Brand Number</th>\n",
       "      <th>Product Price</th>\n",
       "    </tr>\n",
       "  </thead>\n",
       "  <tbody>\n",
       "    <tr>\n",
       "      <th>0</th>\n",
       "      <td>1.058485e+10</td>\n",
       "      <td>APPLE IPHONE XS 64GB 手機 金色</td>\n",
       "      <td>64GB</td>\n",
       "      <td>1501</td>\n",
       "      <td>7409.0</td>\n",
       "    </tr>\n",
       "    <tr>\n",
       "      <th>1</th>\n",
       "      <td>1.067406e+10</td>\n",
       "      <td>HUAWEI MATE 20 X 手機 藍色</td>\n",
       "      <td>None</td>\n",
       "      <td>1351</td>\n",
       "      <td>4988.0</td>\n",
       "    </tr>\n",
       "    <tr>\n",
       "      <th>2</th>\n",
       "      <td>1.058485e+10</td>\n",
       "      <td>APPLE IPHONE XR 128GB 手機 黑色</td>\n",
       "      <td>128GB</td>\n",
       "      <td>1501</td>\n",
       "      <td>5699.0</td>\n",
       "    </tr>\n",
       "    <tr>\n",
       "      <th>3</th>\n",
       "      <td>1.058485e+10</td>\n",
       "      <td>APPLE IPHONE XS MAX 256GB 手機 金色</td>\n",
       "      <td>256GB</td>\n",
       "      <td>1501</td>\n",
       "      <td>9199.0</td>\n",
       "    </tr>\n",
       "    <tr>\n",
       "      <th>4</th>\n",
       "      <td>1.055580e+10</td>\n",
       "      <td>Apple iPad Pro 11 256GB Wi-Fi Space Gray MTXQ2...</td>\n",
       "      <td>256GB</td>\n",
       "      <td>1451</td>\n",
       "      <td>6799.0</td>\n",
       "    </tr>\n",
       "    <tr>\n",
       "      <th>...</th>\n",
       "      <td>...</td>\n",
       "      <td>...</td>\n",
       "      <td>...</td>\n",
       "      <td>...</td>\n",
       "      <td>...</td>\n",
       "    </tr>\n",
       "    <tr>\n",
       "      <th>331</th>\n",
       "      <td>1.135650e+10</td>\n",
       "      <td>APPLE IPHONE 11 64GB 手機 白色</td>\n",
       "      <td>64GB</td>\n",
       "      <td>1501</td>\n",
       "      <td>5999.0</td>\n",
       "    </tr>\n",
       "    <tr>\n",
       "      <th>332</th>\n",
       "      <td>1.135651e+10</td>\n",
       "      <td>APPLE IPHONE 11 64GB 手機 綠色</td>\n",
       "      <td>64GB</td>\n",
       "      <td>1501</td>\n",
       "      <td>5999.0</td>\n",
       "    </tr>\n",
       "    <tr>\n",
       "      <th>333</th>\n",
       "      <td>1.136269e+10</td>\n",
       "      <td>HUAWEI P30 PRO 8+256GB 手機 薰衣草</td>\n",
       "      <td>256GB</td>\n",
       "      <td>1351</td>\n",
       "      <td>5988.0</td>\n",
       "    </tr>\n",
       "    <tr>\n",
       "      <th>334</th>\n",
       "      <td>1.135651e+10</td>\n",
       "      <td>APPLE IPHONE 11 PRO 64GB 手機 太空灰</td>\n",
       "      <td>64GB</td>\n",
       "      <td>1501</td>\n",
       "      <td>8599.0</td>\n",
       "    </tr>\n",
       "    <tr>\n",
       "      <th>335</th>\n",
       "      <td>1.135651e+10</td>\n",
       "      <td>APPLE IPHONE 11 PRO 64GB 手機 金色</td>\n",
       "      <td>64GB</td>\n",
       "      <td>1501</td>\n",
       "      <td>8599.0</td>\n",
       "    </tr>\n",
       "  </tbody>\n",
       "</table>\n",
       "<p>336 rows × 5 columns</p>\n",
       "</div>"
      ],
      "text/plain": [
       "     Product Index                                       Product Name  \\\n",
       "0     1.058485e+10                         APPLE IPHONE XS 64GB 手機 金色   \n",
       "1     1.067406e+10                             HUAWEI MATE 20 X 手機 藍色   \n",
       "2     1.058485e+10                        APPLE IPHONE XR 128GB 手機 黑色   \n",
       "3     1.058485e+10                    APPLE IPHONE XS MAX 256GB 手機 金色   \n",
       "4     1.055580e+10  Apple iPad Pro 11 256GB Wi-Fi Space Gray MTXQ2...   \n",
       "..             ...                                                ...   \n",
       "331   1.135650e+10                         APPLE IPHONE 11 64GB 手機 白色   \n",
       "332   1.135651e+10                         APPLE IPHONE 11 64GB 手機 綠色   \n",
       "333   1.136269e+10                      HUAWEI P30 PRO 8+256GB 手機 薰衣草   \n",
       "334   1.135651e+10                    APPLE IPHONE 11 PRO 64GB 手機 太空灰   \n",
       "335   1.135651e+10                     APPLE IPHONE 11 PRO 64GB 手機 金色   \n",
       "\n",
       "    Product Specification  Product Brand Number  Product Price  \n",
       "0                    64GB                  1501         7409.0  \n",
       "1                    None                  1351         4988.0  \n",
       "2                   128GB                  1501         5699.0  \n",
       "3                   256GB                  1501         9199.0  \n",
       "4                   256GB                  1451         6799.0  \n",
       "..                    ...                   ...            ...  \n",
       "331                  64GB                  1501         5999.0  \n",
       "332                  64GB                  1501         5999.0  \n",
       "333                 256GB                  1351         5988.0  \n",
       "334                  64GB                  1501         8599.0  \n",
       "335                  64GB                  1501         8599.0  \n",
       "\n",
       "[336 rows x 5 columns]"
      ]
     },
     "execution_count": 17,
     "metadata": {},
     "output_type": "execute_result"
    }
   ],
   "source": [
    "data_suning"
   ]
  },
  {
   "cell_type": "markdown",
   "metadata": {},
   "source": [
    "## Price Factors"
   ]
  },
  {
   "cell_type": "code",
   "execution_count": 15,
   "metadata": {},
   "outputs": [
    {
     "data": {
      "text/plain": [
       "(1339, 5)"
      ]
     },
     "execution_count": 15,
     "metadata": {},
     "output_type": "execute_result"
    }
   ],
   "source": [
    "overall_df = pd.concat([data_hktv, data_suning])\n",
    "overall_df.shape"
   ]
  },
  {
   "cell_type": "code",
   "execution_count": 19,
   "metadata": {},
   "outputs": [],
   "source": [
    "Y_price = overall_df[\"Product Price\"]"
   ]
  },
  {
   "cell_type": "code",
   "execution_count": 20,
   "metadata": {},
   "outputs": [
    {
     "data": {
      "text/plain": [
       "(1339, 3)"
      ]
     },
     "execution_count": 20,
     "metadata": {},
     "output_type": "execute_result"
    }
   ],
   "source": [
    "X_price = overall_df.drop(\n",
    "    columns=[\"Product Index\", \"Product Name\"]\n",
    ")\n",
    "X_price.shape"
   ]
  },
  {
   "cell_type": "markdown",
   "metadata": {},
   "source": [
    "### Decision Tree Regressor"
   ]
  },
  {
   "cell_type": "code",
   "execution_count": 21,
   "metadata": {},
   "outputs": [],
   "source": [
    "dtr_price = tree.DecisionTreeRegressor(max_depth=8)"
   ]
  },
  {
   "cell_type": "code",
   "execution_count": null,
   "metadata": {},
   "outputs": [],
   "source": [
    "dtr_price.fit(X_price, Y_price)"
   ]
  },
  {
   "cell_type": "code",
   "execution_count": null,
   "metadata": {},
   "outputs": [],
   "source": [
    "dtr_price.feature_importances_"
   ]
  },
  {
   "cell_type": "code",
   "execution_count": null,
   "metadata": {},
   "outputs": [],
   "source": []
  },
  {
   "cell_type": "code",
   "execution_count": null,
   "metadata": {},
   "outputs": [],
   "source": []
  },
  {
   "cell_type": "code",
   "execution_count": null,
   "metadata": {},
   "outputs": [],
   "source": []
  },
  {
   "cell_type": "markdown",
   "metadata": {},
   "source": [
    "## Sales Factors"
   ]
  },
  {
   "cell_type": "code",
   "execution_count": null,
   "metadata": {},
   "outputs": [],
   "source": []
  },
  {
   "cell_type": "code",
   "execution_count": null,
   "metadata": {},
   "outputs": [],
   "source": []
  },
  {
   "cell_type": "code",
   "execution_count": null,
   "metadata": {},
   "outputs": [],
   "source": []
  },
  {
   "cell_type": "code",
   "execution_count": null,
   "metadata": {},
   "outputs": [],
   "source": []
  },
  {
   "cell_type": "code",
   "execution_count": null,
   "metadata": {},
   "outputs": [],
   "source": []
  },
  {
   "cell_type": "code",
   "execution_count": null,
   "metadata": {},
   "outputs": [],
   "source": []
  }
 ],
 "metadata": {
  "kernelspec": {
   "display_name": "Python 3",
   "language": "python",
   "name": "python3"
  },
  "language_info": {
   "codemirror_mode": {
    "name": "ipython",
    "version": 3
   },
   "file_extension": ".py",
   "mimetype": "text/x-python",
   "name": "python",
   "nbconvert_exporter": "python",
   "pygments_lexer": "ipython3",
   "version": "3.7.5"
  }
 },
 "nbformat": 4,
 "nbformat_minor": 4
}
