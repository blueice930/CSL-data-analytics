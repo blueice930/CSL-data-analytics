{
 "cells": [
  {
   "cell_type": "code",
   "execution_count": 7,
   "metadata": {},
   "outputs": [],
   "source": [
    "import pandas as pd\n",
    "from numpy import *\n",
    "from sklearn import *\n",
    "random.seed(20200108)"
   ]
  },
  {
   "cell_type": "markdown",
   "metadata": {},
   "source": [
    "## Read Data"
   ]
  },
  {
   "cell_type": "code",
   "execution_count": 8,
   "metadata": {},
   "outputs": [],
   "source": [
    "file_path = 'Updated-CSV/specification'"
   ]
  },
  {
   "cell_type": "code",
   "execution_count": 9,
   "metadata": {},
   "outputs": [],
   "source": [
    "data_hktv = pd.read_csv(f\"{file_path}/HKTVMALL_specification.csv\")\n",
    "data_hktv = data_hktv.drop(data_hktv.columns[0], axis=1)\n",
    "data_suning = pd.read_csv(f\"{file_path}/Suning_specification.csv\")\n",
    "data_suning = data_suning.drop(data_suning.columns[0], axis=1)"
   ]
  },
  {
   "cell_type": "code",
   "execution_count": 10,
   "metadata": {},
   "outputs": [
    {
     "data": {
      "text/html": [
       "<div>\n",
       "<style scoped>\n",
       "    .dataframe tbody tr th:only-of-type {\n",
       "        vertical-align: middle;\n",
       "    }\n",
       "\n",
       "    .dataframe tbody tr th {\n",
       "        vertical-align: top;\n",
       "    }\n",
       "\n",
       "    .dataframe thead th {\n",
       "        text-align: right;\n",
       "    }\n",
       "</style>\n",
       "<table border=\"1\" class=\"dataframe\">\n",
       "  <thead>\n",
       "    <tr style=\"text-align: right;\">\n",
       "      <th></th>\n",
       "      <th>index</th>\n",
       "      <th>name</th>\n",
       "      <th>ram</th>\n",
       "      <th>storage</th>\n",
       "      <th>brand_in_num</th>\n",
       "      <th>mean_rate</th>\n",
       "      <th>total_comment</th>\n",
       "      <th>price</th>\n",
       "    </tr>\n",
       "  </thead>\n",
       "  <tbody>\n",
       "    <tr>\n",
       "      <th>0</th>\n",
       "      <td>1.058485e+10</td>\n",
       "      <td>APPLE IPHONE XS 64GB 手機 金色</td>\n",
       "      <td>0</td>\n",
       "      <td>64</td>\n",
       "      <td>1501</td>\n",
       "      <td>5.0</td>\n",
       "      <td>472.0</td>\n",
       "      <td>7409.0</td>\n",
       "    </tr>\n",
       "    <tr>\n",
       "      <th>1</th>\n",
       "      <td>1.067406e+10</td>\n",
       "      <td>HUAWEI MATE 20 X 手機 藍色</td>\n",
       "      <td>0</td>\n",
       "      <td>0</td>\n",
       "      <td>1351</td>\n",
       "      <td>5.0</td>\n",
       "      <td>505.0</td>\n",
       "      <td>4988.0</td>\n",
       "    </tr>\n",
       "    <tr>\n",
       "      <th>2</th>\n",
       "      <td>1.058485e+10</td>\n",
       "      <td>APPLE IPHONE XR 128GB 手機 黑色</td>\n",
       "      <td>0</td>\n",
       "      <td>128</td>\n",
       "      <td>1501</td>\n",
       "      <td>5.0</td>\n",
       "      <td>510.0</td>\n",
       "      <td>5699.0</td>\n",
       "    </tr>\n",
       "    <tr>\n",
       "      <th>3</th>\n",
       "      <td>1.058485e+10</td>\n",
       "      <td>APPLE IPHONE XS MAX 256GB 手機 金色</td>\n",
       "      <td>0</td>\n",
       "      <td>256</td>\n",
       "      <td>1501</td>\n",
       "      <td>5.0</td>\n",
       "      <td>509.0</td>\n",
       "      <td>9199.0</td>\n",
       "    </tr>\n",
       "    <tr>\n",
       "      <th>4</th>\n",
       "      <td>1.055580e+10</td>\n",
       "      <td>Apple iPad Pro 11 256GB Wi-Fi Space Gray MTXQ2...</td>\n",
       "      <td>0</td>\n",
       "      <td>256</td>\n",
       "      <td>1451</td>\n",
       "      <td>5.0</td>\n",
       "      <td>508.0</td>\n",
       "      <td>6799.0</td>\n",
       "    </tr>\n",
       "    <tr>\n",
       "      <th>...</th>\n",
       "      <td>...</td>\n",
       "      <td>...</td>\n",
       "      <td>...</td>\n",
       "      <td>...</td>\n",
       "      <td>...</td>\n",
       "      <td>...</td>\n",
       "      <td>...</td>\n",
       "      <td>...</td>\n",
       "    </tr>\n",
       "    <tr>\n",
       "      <th>331</th>\n",
       "      <td>1.135650e+10</td>\n",
       "      <td>APPLE IPHONE 11 64GB 手機 白色</td>\n",
       "      <td>0</td>\n",
       "      <td>64</td>\n",
       "      <td>1501</td>\n",
       "      <td>0.0</td>\n",
       "      <td>0.0</td>\n",
       "      <td>5999.0</td>\n",
       "    </tr>\n",
       "    <tr>\n",
       "      <th>332</th>\n",
       "      <td>1.135651e+10</td>\n",
       "      <td>APPLE IPHONE 11 64GB 手機 綠色</td>\n",
       "      <td>0</td>\n",
       "      <td>64</td>\n",
       "      <td>1501</td>\n",
       "      <td>0.0</td>\n",
       "      <td>0.0</td>\n",
       "      <td>5999.0</td>\n",
       "    </tr>\n",
       "    <tr>\n",
       "      <th>333</th>\n",
       "      <td>1.136269e+10</td>\n",
       "      <td>HUAWEI P30 PRO 8+256GB 手機 薰衣草</td>\n",
       "      <td>0</td>\n",
       "      <td>256</td>\n",
       "      <td>1351</td>\n",
       "      <td>0.0</td>\n",
       "      <td>0.0</td>\n",
       "      <td>5988.0</td>\n",
       "    </tr>\n",
       "    <tr>\n",
       "      <th>334</th>\n",
       "      <td>1.135651e+10</td>\n",
       "      <td>APPLE IPHONE 11 PRO 64GB 手機 太空灰</td>\n",
       "      <td>0</td>\n",
       "      <td>64</td>\n",
       "      <td>1501</td>\n",
       "      <td>0.0</td>\n",
       "      <td>0.0</td>\n",
       "      <td>8599.0</td>\n",
       "    </tr>\n",
       "    <tr>\n",
       "      <th>335</th>\n",
       "      <td>1.135651e+10</td>\n",
       "      <td>APPLE IPHONE 11 PRO 64GB 手機 金色</td>\n",
       "      <td>0</td>\n",
       "      <td>64</td>\n",
       "      <td>1501</td>\n",
       "      <td>0.0</td>\n",
       "      <td>0.0</td>\n",
       "      <td>8599.0</td>\n",
       "    </tr>\n",
       "  </tbody>\n",
       "</table>\n",
       "<p>336 rows × 8 columns</p>\n",
       "</div>"
      ],
      "text/plain": [
       "            index                                               name  ram  \\\n",
       "0    1.058485e+10                         APPLE IPHONE XS 64GB 手機 金色    0   \n",
       "1    1.067406e+10                             HUAWEI MATE 20 X 手機 藍色    0   \n",
       "2    1.058485e+10                        APPLE IPHONE XR 128GB 手機 黑色    0   \n",
       "3    1.058485e+10                    APPLE IPHONE XS MAX 256GB 手機 金色    0   \n",
       "4    1.055580e+10  Apple iPad Pro 11 256GB Wi-Fi Space Gray MTXQ2...    0   \n",
       "..            ...                                                ...  ...   \n",
       "331  1.135650e+10                         APPLE IPHONE 11 64GB 手機 白色    0   \n",
       "332  1.135651e+10                         APPLE IPHONE 11 64GB 手機 綠色    0   \n",
       "333  1.136269e+10                      HUAWEI P30 PRO 8+256GB 手機 薰衣草    0   \n",
       "334  1.135651e+10                    APPLE IPHONE 11 PRO 64GB 手機 太空灰    0   \n",
       "335  1.135651e+10                     APPLE IPHONE 11 PRO 64GB 手機 金色    0   \n",
       "\n",
       "     storage  brand_in_num  mean_rate  total_comment   price  \n",
       "0         64          1501        5.0          472.0  7409.0  \n",
       "1          0          1351        5.0          505.0  4988.0  \n",
       "2        128          1501        5.0          510.0  5699.0  \n",
       "3        256          1501        5.0          509.0  9199.0  \n",
       "4        256          1451        5.0          508.0  6799.0  \n",
       "..       ...           ...        ...            ...     ...  \n",
       "331       64          1501        0.0            0.0  5999.0  \n",
       "332       64          1501        0.0            0.0  5999.0  \n",
       "333      256          1351        0.0            0.0  5988.0  \n",
       "334       64          1501        0.0            0.0  8599.0  \n",
       "335       64          1501        0.0            0.0  8599.0  \n",
       "\n",
       "[336 rows x 8 columns]"
      ]
     },
     "execution_count": 10,
     "metadata": {},
     "output_type": "execute_result"
    }
   ],
   "source": [
    "data_suning"
   ]
  },
  {
   "cell_type": "markdown",
   "metadata": {},
   "source": [
    "## Price Factors"
   ]
  },
  {
   "cell_type": "code",
   "execution_count": 11,
   "metadata": {},
   "outputs": [
    {
     "data": {
      "text/plain": [
       "(1339, 8)"
      ]
     },
     "execution_count": 11,
     "metadata": {},
     "output_type": "execute_result"
    }
   ],
   "source": [
    "overall_df = pd.concat([data_hktv, data_suning])\n",
    "overall_df.shape"
   ]
  },
  {
   "cell_type": "code",
   "execution_count": 12,
   "metadata": {},
   "outputs": [],
   "source": [
    "Y_price = overall_df[\"price\"]"
   ]
  },
  {
   "cell_type": "code",
   "execution_count": 13,
   "metadata": {},
   "outputs": [
    {
     "data": {
      "text/plain": [
       "(1339, 5)"
      ]
     },
     "execution_count": 13,
     "metadata": {},
     "output_type": "execute_result"
    }
   ],
   "source": [
    "X_price = overall_df.drop(\n",
    "    columns=[\"index\", \"name\", \"price\"]\n",
    ")\n",
    "X_price.shape"
   ]
  },
  {
   "cell_type": "markdown",
   "metadata": {},
   "source": [
    "### Decision Tree Regressor"
   ]
  },
  {
   "cell_type": "code",
   "execution_count": 14,
   "metadata": {},
   "outputs": [],
   "source": [
    "dtr_price = tree.DecisionTreeRegressor(random_state=5201314)"
   ]
  },
  {
   "cell_type": "code",
   "execution_count": 15,
   "metadata": {},
   "outputs": [
    {
     "data": {
      "text/plain": [
       "DecisionTreeRegressor(criterion='mse', max_depth=None, max_features=None,\n",
       "                      max_leaf_nodes=None, min_impurity_decrease=0.0,\n",
       "                      min_impurity_split=None, min_samples_leaf=1,\n",
       "                      min_samples_split=2, min_weight_fraction_leaf=0.0,\n",
       "                      presort=False, random_state=5201314, splitter='best')"
      ]
     },
     "execution_count": 15,
     "metadata": {},
     "output_type": "execute_result"
    }
   ],
   "source": [
    "dtr_price.fit(X_price, Y_price)"
   ]
  },
  {
   "cell_type": "code",
   "execution_count": 16,
   "metadata": {},
   "outputs": [],
   "source": [
    "important_price = dtr_price.feature_importances_"
   ]
  },
  {
   "cell_type": "code",
   "execution_count": 17,
   "metadata": {},
   "outputs": [
    {
     "data": {
      "text/html": [
       "<div>\n",
       "<style scoped>\n",
       "    .dataframe tbody tr th:only-of-type {\n",
       "        vertical-align: middle;\n",
       "    }\n",
       "\n",
       "    .dataframe tbody tr th {\n",
       "        vertical-align: top;\n",
       "    }\n",
       "\n",
       "    .dataframe thead th {\n",
       "        text-align: right;\n",
       "    }\n",
       "</style>\n",
       "<table border=\"1\" class=\"dataframe\">\n",
       "  <thead>\n",
       "    <tr style=\"text-align: right;\">\n",
       "      <th></th>\n",
       "      <th>Impact on price</th>\n",
       "    </tr>\n",
       "    <tr>\n",
       "      <th>Spec</th>\n",
       "      <th></th>\n",
       "    </tr>\n",
       "  </thead>\n",
       "  <tbody>\n",
       "    <tr>\n",
       "      <th>mean_rate</th>\n",
       "      <td>0.007985</td>\n",
       "    </tr>\n",
       "    <tr>\n",
       "      <th>total_comment</th>\n",
       "      <td>0.032145</td>\n",
       "    </tr>\n",
       "    <tr>\n",
       "      <th>ram</th>\n",
       "      <td>0.033270</td>\n",
       "    </tr>\n",
       "    <tr>\n",
       "      <th>storage</th>\n",
       "      <td>0.225387</td>\n",
       "    </tr>\n",
       "    <tr>\n",
       "      <th>brand_in_num</th>\n",
       "      <td>0.701213</td>\n",
       "    </tr>\n",
       "  </tbody>\n",
       "</table>\n",
       "</div>"
      ],
      "text/plain": [
       "               Impact on price\n",
       "Spec                          \n",
       "mean_rate             0.007985\n",
       "total_comment         0.032145\n",
       "ram                   0.033270\n",
       "storage               0.225387\n",
       "brand_in_num          0.701213"
      ]
     },
     "execution_count": 17,
     "metadata": {},
     "output_type": "execute_result"
    }
   ],
   "source": [
    "result_price = pd.DataFrame(\n",
    "    data=important_price,\n",
    "    index=X_price.columns.values\n",
    ")\n",
    "result_price.index.name = \"Spec\"\n",
    "result_price.columns = [\"Impact on price\"]\n",
    "result_price = result_price.sort_values(\"Impact on price\")\n",
    "result_price"
   ]
  },
  {
   "cell_type": "markdown",
   "metadata": {},
   "source": [
    "## Sales Factors"
   ]
  },
  {
   "cell_type": "code",
   "execution_count": 18,
   "metadata": {},
   "outputs": [
    {
     "data": {
      "text/plain": [
       "(336, 5)"
      ]
     },
     "execution_count": 18,
     "metadata": {},
     "output_type": "execute_result"
    }
   ],
   "source": [
    "Y_sales = data_suning[\"total_comment\"]\n",
    "X_sales = data_suning.drop(\n",
    "    columns=[\"index\", \"name\", \"total_comment\"]\n",
    ")\n",
    "X_sales.shape"
   ]
  },
  {
   "cell_type": "code",
   "execution_count": null,
   "metadata": {},
   "outputs": [],
   "source": []
  },
  {
   "cell_type": "code",
   "execution_count": 19,
   "metadata": {},
   "outputs": [],
   "source": [
    "dtr_sales = tree.DecisionTreeRegressor(random_state=5201314)"
   ]
  },
  {
   "cell_type": "code",
   "execution_count": 20,
   "metadata": {},
   "outputs": [
    {
     "data": {
      "text/plain": [
       "DecisionTreeRegressor(criterion='mse', max_depth=None, max_features=None,\n",
       "                      max_leaf_nodes=None, min_impurity_decrease=0.0,\n",
       "                      min_impurity_split=None, min_samples_leaf=1,\n",
       "                      min_samples_split=2, min_weight_fraction_leaf=0.0,\n",
       "                      presort=False, random_state=5201314, splitter='best')"
      ]
     },
     "execution_count": 20,
     "metadata": {},
     "output_type": "execute_result"
    }
   ],
   "source": [
    "dtr_sales.fit(X_sales, Y_sales)"
   ]
  },
  {
   "cell_type": "code",
   "execution_count": 21,
   "metadata": {},
   "outputs": [],
   "source": [
    "important_sales = dtr_sales.feature_importances_"
   ]
  },
  {
   "cell_type": "code",
   "execution_count": 22,
   "metadata": {},
   "outputs": [
    {
     "data": {
      "text/html": [
       "<div>\n",
       "<style scoped>\n",
       "    .dataframe tbody tr th:only-of-type {\n",
       "        vertical-align: middle;\n",
       "    }\n",
       "\n",
       "    .dataframe tbody tr th {\n",
       "        vertical-align: top;\n",
       "    }\n",
       "\n",
       "    .dataframe thead th {\n",
       "        text-align: right;\n",
       "    }\n",
       "</style>\n",
       "<table border=\"1\" class=\"dataframe\">\n",
       "  <thead>\n",
       "    <tr style=\"text-align: right;\">\n",
       "      <th></th>\n",
       "      <th>Impact on sales</th>\n",
       "    </tr>\n",
       "    <tr>\n",
       "      <th>Spec</th>\n",
       "      <th></th>\n",
       "    </tr>\n",
       "  </thead>\n",
       "  <tbody>\n",
       "    <tr>\n",
       "      <th>storage</th>\n",
       "      <td>0.061594</td>\n",
       "    </tr>\n",
       "    <tr>\n",
       "      <th>ram</th>\n",
       "      <td>0.068450</td>\n",
       "    </tr>\n",
       "    <tr>\n",
       "      <th>brand_in_num</th>\n",
       "      <td>0.200978</td>\n",
       "    </tr>\n",
       "    <tr>\n",
       "      <th>mean_rate</th>\n",
       "      <td>0.208340</td>\n",
       "    </tr>\n",
       "    <tr>\n",
       "      <th>price</th>\n",
       "      <td>0.460638</td>\n",
       "    </tr>\n",
       "  </tbody>\n",
       "</table>\n",
       "</div>"
      ],
      "text/plain": [
       "              Impact on sales\n",
       "Spec                         \n",
       "storage              0.061594\n",
       "ram                  0.068450\n",
       "brand_in_num         0.200978\n",
       "mean_rate            0.208340\n",
       "price                0.460638"
      ]
     },
     "execution_count": 22,
     "metadata": {},
     "output_type": "execute_result"
    }
   ],
   "source": [
    "result_sales = pd.DataFrame(\n",
    "    data=important_sales,\n",
    "    index=X_sales.columns.values\n",
    ")\n",
    "result_sales.index.name = \"Spec\"\n",
    "result_sales.columns = [\"Impact on sales\"]\n",
    "result_sales = result_sales.sort_values(\"Impact on sales\")\n",
    "result_sales"
   ]
  },
  {
   "cell_type": "code",
   "execution_count": null,
   "metadata": {},
   "outputs": [],
   "source": []
  },
  {
   "cell_type": "markdown",
   "metadata": {},
   "source": [
    "## Plot the Trees"
   ]
  },
  {
   "cell_type": "code",
   "execution_count": 23,
   "metadata": {},
   "outputs": [],
   "source": [
    "from sklearn.externals.six import StringIO\n",
    "from IPython.display import Image\n",
    "from sklearn.tree import export_graphviz\n",
    "import pydotplus"
   ]
  },
  {
   "cell_type": "code",
   "execution_count": 24,
   "metadata": {},
   "outputs": [],
   "source": [
    "def plot_a_tree(tree, name):\n",
    "    dot_data = StringIO()\n",
    "    \n",
    "    export_graphviz(\n",
    "        tree, \n",
    "        out_file=dot_data,\n",
    "        filled=True,\n",
    "        rounded=True,\n",
    "        special_characters=True\n",
    "    )\n",
    "    \n",
    "    graph = pydotplus.graph_from_dot_data(dot_data.getvalue())\n",
    "    graph.write_png(name)"
   ]
  },
  {
   "cell_type": "code",
   "execution_count": 26,
   "metadata": {},
   "outputs": [
    {
     "name": "stdout",
     "output_type": "stream",
     "text": [
      "dot: graph is too large for cairo-renderer bitmaps. Scaling by 0.934731 to fit\n",
      "\n"
     ]
    }
   ],
   "source": [
    "plot_a_tree(dtr_price, \"price-tree\")"
   ]
  },
  {
   "cell_type": "code",
   "execution_count": 27,
   "metadata": {},
   "outputs": [],
   "source": [
    "plot_a_tree(dtr_sales, \"sales-tree\")"
   ]
  },
  {
   "cell_type": "code",
   "execution_count": null,
   "metadata": {},
   "outputs": [],
   "source": []
  }
 ],
 "metadata": {
  "kernelspec": {
   "display_name": "Python 3",
   "language": "python",
   "name": "python3"
  },
  "language_info": {
   "codemirror_mode": {
    "name": "ipython",
    "version": 3
   },
   "file_extension": ".py",
   "mimetype": "text/x-python",
   "name": "python",
   "nbconvert_exporter": "python",
   "pygments_lexer": "ipython3",
   "version": "3.7.5"
  }
 },
 "nbformat": 4,
 "nbformat_minor": 4
}
