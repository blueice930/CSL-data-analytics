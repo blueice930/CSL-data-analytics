{
 "nbformat": 4,
 "nbformat_minor": 2,
 "metadata": {
  "language_info": {
   "name": "python",
   "codemirror_mode": {
    "name": "ipython",
    "version": 3
   }
  },
  "orig_nbformat": 2,
  "file_extension": ".py",
  "mimetype": "text/x-python",
  "name": "python",
  "npconvert_exporter": "python",
  "pygments_lexer": "ipython3",
  "version": 3
 },
 "cells": [
  {
   "cell_type": "code",
   "execution_count": 1,
   "metadata": {},
   "outputs": [],
   "source": [
    "from pyppeteer import launch\n",
    "import asyncio\n",
    "import nest_asyncio\n",
    "from bs4 import BeautifulSoup as bs\n",
    "import re\n",
    "import time\n",
    "import pandas as pd\n",
    "import requests\n",
    "import urllib.request"
   ]
  },
  {
   "cell_type": "code",
   "execution_count": 2,
   "metadata": {},
   "outputs": [],
   "source": [
    "pd.set_option('display.max_columns', None)\n",
    "pd.set_option('display.width', 1000)\n",
    "pd.set_option('display.max_colwidth', 100)\n",
    "\n",
    "nest_asyncio.apply()"
   ]
  },
  {
   "cell_type": "code",
   "execution_count": null,
   "metadata": {},
   "outputs": [],
   "source": []
  },
  {
   "cell_type": "code",
   "execution_count": 3,
   "metadata": {},
   "outputs": [],
   "source": [
    "async def get_item(categroy: str):\n",
    "    # browser = await launch()\n",
    "    print(\"Setting up broswer for web page...\")\n",
    "    \n",
    "    browser = await launch({\n",
    "            \"headless\": False,\n",
    "        })\n",
    "    page = await browser.newPage()\n",
    "    \n",
    "    await page.setViewport({'width': 1920, 'height': 1080})\n",
    "    await page.goto(categroy, {'timeout': 10000*30})\n",
    "    return page, browser"
   ]
  },
  {
   "cell_type": "code",
   "execution_count": 4,
   "metadata": {},
   "outputs": [],
   "source": [
    "dir_path = \"Web Crawling/data/Suning/\"\n",
    "p = pd.read_csv(f\"{dir_path}Products_Suning.csv\")\n",
    "c = pd.read_csv(f\"{dir_path}Customers_Suning.csv\")"
   ]
  },
  {
   "cell_type": "code",
   "execution_count": 10,
   "metadata": {},
   "outputs": [],
   "source": []
  },
  {
   "cell_type": "code",
   "execution_count": 5,
   "metadata": {},
   "outputs": [],
   "source": [
    "filtered = p.sort_values(['total_comment'], ascending=False).groupby(['product_type']).head(9)"
   ]
  },
  {
   "cell_type": "code",
   "execution_count": 6,
   "metadata": {},
   "outputs": [
    {
     "data": {
      "text/html": "<div>\n<style scoped>\n    .dataframe tbody tr th:only-of-type {\n        vertical-align: middle;\n    }\n\n    .dataframe tbody tr th {\n        vertical-align: top;\n    }\n\n    .dataframe thead th {\n        text-align: right;\n    }\n</style>\n<table border=\"1\" class=\"dataframe\">\n  <thead>\n    <tr style=\"text-align: right;\">\n      <th></th>\n      <th>Unnamed: 0</th>\n      <th>product_index</th>\n      <th>product_type</th>\n      <th>product_name</th>\n      <th>prodect_brand</th>\n      <th>price</th>\n      <th>avg_rating</th>\n      <th>total_comment</th>\n      <th>seller</th>\n      <th>website</th>\n    </tr>\n  </thead>\n  <tbody>\n    <tr>\n      <th>239</th>\n      <td>239</td>\n      <td>10584849457</td>\n      <td>Mobile Phone</td>\n      <td>APPLE IPHONE XR 128GB 手機 黑色</td>\n      <td>APPLE</td>\n      <td>5699.0</td>\n      <td>0</td>\n      <td>510</td>\n      <td>香港蘇寧</td>\n      <td>https://product.hksuning.com/0000000000/10584849457.html</td>\n    </tr>\n    <tr>\n      <th>167</th>\n      <td>167</td>\n      <td>10584849382</td>\n      <td>Mobile Phone</td>\n      <td>APPLE IPHONE XS MAX 256GB 手機 金色</td>\n      <td>APPLE</td>\n      <td>9199.0</td>\n      <td>0</td>\n      <td>509</td>\n      <td>香港蘇寧</td>\n      <td>https://product.hksuning.com/0000000000/10584849382.html</td>\n    </tr>\n    <tr>\n      <th>75</th>\n      <td>75</td>\n      <td>10555802003</td>\n      <td>Tablet</td>\n      <td>Apple iPad Pro 11 256GB Wi-Fi Space Gray MTXQ2ZP/A 平板電腦</td>\n      <td>Apple</td>\n      <td>6799.0</td>\n      <td>0</td>\n      <td>508</td>\n      <td>香港蘇寧</td>\n      <td>https://product.hksuning.com/0000000000/10555802003.html</td>\n    </tr>\n    <tr>\n      <th>302</th>\n      <td>302</td>\n      <td>10584849492</td>\n      <td>Mobile Phone</td>\n      <td>APPLE IPHONE XR 128GB 手機 白色</td>\n      <td>APPLE</td>\n      <td>5699.0</td>\n      <td>0</td>\n      <td>507</td>\n      <td>香港蘇寧</td>\n      <td>https://product.hksuning.com/0000000000/10584849492.html</td>\n    </tr>\n    <tr>\n      <th>285</th>\n      <td>285</td>\n      <td>10584849437</td>\n      <td>Mobile Phone</td>\n      <td>APPLE IPHONE XR 64GB 手機 黑色</td>\n      <td>APPLE</td>\n      <td>5199.0</td>\n      <td>0</td>\n      <td>507</td>\n      <td>香港蘇寧</td>\n      <td>https://product.hksuning.com/0000000000/10584849437.html</td>\n    </tr>\n    <tr>\n      <th>251</th>\n      <td>251</td>\n      <td>10584849318</td>\n      <td>Mobile Phone</td>\n      <td>APPLE IPHONE XS MAX 256GB 手機 太空灰</td>\n      <td>APPLE</td>\n      <td>9199.0</td>\n      <td>0</td>\n      <td>506</td>\n      <td>香港蘇寧</td>\n      <td>https://product.hksuning.com/0000000000/10584849318.html</td>\n    </tr>\n    <tr>\n      <th>339</th>\n      <td>339</td>\n      <td>10674060101</td>\n      <td>Mobile Phone</td>\n      <td>HUAWEI MATE 20 X 手機 藍色</td>\n      <td>HUAWEI</td>\n      <td>4988.0</td>\n      <td>0</td>\n      <td>505</td>\n      <td>香港蘇寧</td>\n      <td>https://product.hksuning.com/0000000000/10674060101.html</td>\n    </tr>\n    <tr>\n      <th>280</th>\n      <td>280</td>\n      <td>10584849373</td>\n      <td>Mobile Phone</td>\n      <td>APPLE IPHONE XS MAX 256GB 手機 銀色</td>\n      <td>APPLE</td>\n      <td>9199.0</td>\n      <td>0</td>\n      <td>504</td>\n      <td>香港蘇寧</td>\n      <td>https://product.hksuning.com/0000000000/10584849373.html</td>\n    </tr>\n    <tr>\n      <th>248</th>\n      <td>248</td>\n      <td>10584849315</td>\n      <td>Mobile Phone</td>\n      <td>APPLE IPHONE XS MAX 64GB 手機 金色</td>\n      <td>APPLE</td>\n      <td>8169.0</td>\n      <td>0</td>\n      <td>504</td>\n      <td>香港蘇寧</td>\n      <td>https://product.hksuning.com/0000000000/10584849315.html</td>\n    </tr>\n    <tr>\n      <th>159</th>\n      <td>159</td>\n      <td>10674060100</td>\n      <td>Mobile Phone</td>\n      <td>HUAWEI MATE 20 PRO 手機 極光色</td>\n      <td>HUAWEI</td>\n      <td>5988.0</td>\n      <td>0</td>\n      <td>504</td>\n      <td>香港蘇寧</td>\n      <td>https://product.hksuning.com/0000000000/10674060100.html</td>\n    </tr>\n    <tr>\n      <th>44</th>\n      <td>44</td>\n      <td>10395357178</td>\n      <td>Tablet</td>\n      <td>Apple iPad (2018) Wi-Fi 128GB MRJP2ZP/A 金色</td>\n      <td>Apple</td>\n      <td>3088.0</td>\n      <td>0</td>\n      <td>503</td>\n      <td>香港蘇寧</td>\n      <td>https://product.hksuning.com/0000000000/10395357178.html</td>\n    </tr>\n    <tr>\n      <th>94</th>\n      <td>94</td>\n      <td>624902167</td>\n      <td>Laptop</td>\n      <td>Apple MacBook Pro 13 2.3GHz i5 256GB 手提電腦</td>\n      <td>Apple</td>\n      <td>10798.0</td>\n      <td>0</td>\n      <td>484</td>\n      <td>香港蘇寧</td>\n      <td>https://product.hksuning.com/0000000000/624902167.html</td>\n    </tr>\n    <tr>\n      <th>45</th>\n      <td>45</td>\n      <td>10395189998</td>\n      <td>Tablet</td>\n      <td>Apple iPad (2018) Wi-Fi 128GB MR7K2ZP/A 銀色</td>\n      <td>Apple</td>\n      <td>3088.0</td>\n      <td>0</td>\n      <td>481</td>\n      <td>香港蘇寧</td>\n      <td>https://product.hksuning.com/0000000000/10395189998.html</td>\n    </tr>\n    <tr>\n      <th>135</th>\n      <td>135</td>\n      <td>624902159</td>\n      <td>Laptop</td>\n      <td>Apple MacBook Pro 13 2.3GHz i5 128GB 手提電腦</td>\n      <td>Apple</td>\n      <td>9388.0</td>\n      <td>0</td>\n      <td>466</td>\n      <td>香港蘇寧</td>\n      <td>https://product.hksuning.com/0000000000/624902159.html</td>\n    </tr>\n    <tr>\n      <th>105</th>\n      <td>105</td>\n      <td>765126282</td>\n      <td>Laptop</td>\n      <td>DELL Inspiron 15-5570 15L-R1740-S-W10 i7 256GB 手提電腦</td>\n      <td>DELL</td>\n      <td>7599.0</td>\n      <td>0</td>\n      <td>459</td>\n      <td>香港蘇寧</td>\n      <td>https://product.hksuning.com/0000000000/765126282.html</td>\n    </tr>\n    <tr>\n      <th>144</th>\n      <td>144</td>\n      <td>624902162</td>\n      <td>Laptop</td>\n      <td>Apple MacBook Pro 13 2.3GHz i5 256GB 手提電腦</td>\n      <td>Apple</td>\n      <td>10798.0</td>\n      <td>0</td>\n      <td>453</td>\n      <td>香港蘇寧</td>\n      <td>https://product.hksuning.com/0000000000/624902162.html</td>\n    </tr>\n    <tr>\n      <th>73</th>\n      <td>73</td>\n      <td>10395130356</td>\n      <td>Tablet</td>\n      <td>Apple iPad (2018) Wi-Fi 32GB MR7F2ZP/A 太空灰</td>\n      <td>Apple</td>\n      <td>2428.0</td>\n      <td>0</td>\n      <td>438</td>\n      <td>香港蘇寧</td>\n      <td>https://product.hksuning.com/0000000000/10395130356.html</td>\n    </tr>\n    <tr>\n      <th>33</th>\n      <td>33</td>\n      <td>10580223969</td>\n      <td>Tablet</td>\n      <td>Microsoft Surface Go (Intel 4415Y/128GB/8GB RAM)</td>\n      <td>Microsoft</td>\n      <td>4288.0</td>\n      <td>0</td>\n      <td>436</td>\n      <td>香港蘇寧</td>\n      <td>https://product.hksuning.com/0000000000/10580223969.html</td>\n    </tr>\n    <tr>\n      <th>72</th>\n      <td>72</td>\n      <td>10395156079</td>\n      <td>Tablet</td>\n      <td>Apple iPad (2018) Wi-Fi 32GB MR7G2ZP/A 銀色</td>\n      <td>Apple</td>\n      <td>2428.0</td>\n      <td>0</td>\n      <td>436</td>\n      <td>香港蘇寧</td>\n      <td>https://product.hksuning.com/0000000000/10395156079.html</td>\n    </tr>\n    <tr>\n      <th>93</th>\n      <td>93</td>\n      <td>624902250</td>\n      <td>Laptop</td>\n      <td>Apple MacBook Air 13'' 1.8GHz i5 128GB 手提電腦</td>\n      <td>Apple</td>\n      <td>7038.0</td>\n      <td>0</td>\n      <td>408</td>\n      <td>香港蘇寧</td>\n      <td>https://product.hksuning.com/0000000000/624902250.html</td>\n    </tr>\n    <tr>\n      <th>143</th>\n      <td>143</td>\n      <td>624902161</td>\n      <td>Laptop</td>\n      <td>Apple Macbook Pro 13 2.3GHz i5 128GB Silver MPXR2ZP/A</td>\n      <td>Apple</td>\n      <td>9388.0</td>\n      <td>0</td>\n      <td>401</td>\n      <td>香港蘇寧</td>\n      <td>https://product.hksuning.com/0000000000/624902161.html</td>\n    </tr>\n    <tr>\n      <th>142</th>\n      <td>142</td>\n      <td>10555845058</td>\n      <td>Laptop</td>\n      <td>Apple MacBook Pro 13 2.3GHz i5 256GB 手提電腦</td>\n      <td>Apple</td>\n      <td>12888.0</td>\n      <td>0</td>\n      <td>389</td>\n      <td>香港蘇寧</td>\n      <td>https://product.hksuning.com/0000000000/10555845058.html</td>\n    </tr>\n    <tr>\n      <th>49</th>\n      <td>49</td>\n      <td>10555786341</td>\n      <td>Tablet</td>\n      <td>Apple iPad Pro 11 256GB Wi-Fi Silver MTXR2ZP/A 平板電腦</td>\n      <td>Apple</td>\n      <td>6799.0</td>\n      <td>0</td>\n      <td>385</td>\n      <td>香港蘇寧</td>\n      <td>https://product.hksuning.com/0000000000/10555786341.html</td>\n    </tr>\n    <tr>\n      <th>38</th>\n      <td>38</td>\n      <td>10576193971</td>\n      <td>Tablet</td>\n      <td>Microsoft Surface Pro i5/128GB/8GB RAM/ Signature Cover Bundle (Platinum）手提電腦</td>\n      <td>Microsoft</td>\n      <td>7888.0</td>\n      <td>0</td>\n      <td>375</td>\n      <td>香港蘇寧</td>\n      <td>https://product.hksuning.com/0000000000/10576193971.html</td>\n    </tr>\n    <tr>\n      <th>36</th>\n      <td>36</td>\n      <td>10818305893</td>\n      <td>Tablet</td>\n      <td>Microsoft Surface Pro 6 (Core i5/ 256GB/8GB RAM)</td>\n      <td>Microsoft</td>\n      <td>9988.0</td>\n      <td>0</td>\n      <td>324</td>\n      <td>香港蘇寧</td>\n      <td>https://product.hksuning.com/0000000000/10818305893.html</td>\n    </tr>\n    <tr>\n      <th>101</th>\n      <td>101</td>\n      <td>10613855369</td>\n      <td>Laptop</td>\n      <td>DELL Inspiron 14-5480 R1500-S-W10 14'' i5 256SSD 手提電腦</td>\n      <td>DELL</td>\n      <td>6799.0</td>\n      <td>0</td>\n      <td>320</td>\n      <td>香港蘇寧</td>\n      <td>https://product.hksuning.com/0000000000/10613855369.html</td>\n    </tr>\n    <tr>\n      <th>111</th>\n      <td>111</td>\n      <td>10574051200</td>\n      <td>Laptop</td>\n      <td>Apple Macbook Air 13 1.6GHz I5 256GB Space Gray MRE92ZP/A 手提電腦</td>\n      <td>Apple</td>\n      <td>10339.0</td>\n      <td>0</td>\n      <td>258</td>\n      <td>香港蘇寧</td>\n      <td>https://product.hksuning.com/0000000000/10574051200.html</td>\n    </tr>\n  </tbody>\n</table>\n</div>",
      "text/plain": "     Unnamed: 0  product_index  product_type                                                                   product_name prodect_brand    price  avg_rating  total_comment seller                                                   website\n239         239    10584849457  Mobile Phone                                                    APPLE IPHONE XR 128GB 手機 黑色         APPLE   5699.0           0            510   香港蘇寧  https://product.hksuning.com/0000000000/10584849457.html\n167         167    10584849382  Mobile Phone                                                APPLE IPHONE XS MAX 256GB 手機 金色         APPLE   9199.0           0            509   香港蘇寧  https://product.hksuning.com/0000000000/10584849382.html\n75           75    10555802003        Tablet                        Apple iPad Pro 11 256GB Wi-Fi Space Gray MTXQ2ZP/A 平板電腦         Apple   6799.0           0            508   香港蘇寧  https://product.hksuning.com/0000000000/10555802003.html\n302         302    10584849492  Mobile Phone                                                    APPLE IPHONE XR 128GB 手機 白色         APPLE   5699.0           0            507   香港蘇寧  https://product.hksuning.com/0000000000/10584849492.html\n285         285    10584849437  Mobile Phone                                                     APPLE IPHONE XR 64GB 手機 黑色         APPLE   5199.0           0            507   香港蘇寧  https://product.hksuning.com/0000000000/10584849437.html\n251         251    10584849318  Mobile Phone                                               APPLE IPHONE XS MAX 256GB 手機 太空灰         APPLE   9199.0           0            506   香港蘇寧  https://product.hksuning.com/0000000000/10584849318.html\n339         339    10674060101  Mobile Phone                                                         HUAWEI MATE 20 X 手機 藍色        HUAWEI   4988.0           0            505   香港蘇寧  https://product.hksuning.com/0000000000/10674060101.html\n280         280    10584849373  Mobile Phone                                                APPLE IPHONE XS MAX 256GB 手機 銀色         APPLE   9199.0           0            504   香港蘇寧  https://product.hksuning.com/0000000000/10584849373.html\n248         248    10584849315  Mobile Phone                                                 APPLE IPHONE XS MAX 64GB 手機 金色         APPLE   8169.0           0            504   香港蘇寧  https://product.hksuning.com/0000000000/10584849315.html\n159         159    10674060100  Mobile Phone                                                      HUAWEI MATE 20 PRO 手機 極光色        HUAWEI   5988.0           0            504   香港蘇寧  https://product.hksuning.com/0000000000/10674060100.html\n44           44    10395357178        Tablet                                     Apple iPad (2018) Wi-Fi 128GB MRJP2ZP/A 金色         Apple   3088.0           0            503   香港蘇寧  https://product.hksuning.com/0000000000/10395357178.html\n94           94      624902167        Laptop                                      Apple MacBook Pro 13 2.3GHz i5 256GB 手提電腦         Apple  10798.0           0            484   香港蘇寧    https://product.hksuning.com/0000000000/624902167.html\n45           45    10395189998        Tablet                                     Apple iPad (2018) Wi-Fi 128GB MR7K2ZP/A 銀色         Apple   3088.0           0            481   香港蘇寧  https://product.hksuning.com/0000000000/10395189998.html\n135         135      624902159        Laptop                                      Apple MacBook Pro 13 2.3GHz i5 128GB 手提電腦         Apple   9388.0           0            466   香港蘇寧    https://product.hksuning.com/0000000000/624902159.html\n105         105      765126282        Laptop                            DELL Inspiron 15-5570 15L-R1740-S-W10 i7 256GB 手提電腦          DELL   7599.0           0            459   香港蘇寧    https://product.hksuning.com/0000000000/765126282.html\n144         144      624902162        Laptop                                      Apple MacBook Pro 13 2.3GHz i5 256GB 手提電腦         Apple  10798.0           0            453   香港蘇寧    https://product.hksuning.com/0000000000/624902162.html\n73           73    10395130356        Tablet                                     Apple iPad (2018) Wi-Fi 32GB MR7F2ZP/A 太空灰         Apple   2428.0           0            438   香港蘇寧  https://product.hksuning.com/0000000000/10395130356.html\n33           33    10580223969        Tablet                               Microsoft Surface Go (Intel 4415Y/128GB/8GB RAM)     Microsoft   4288.0           0            436   香港蘇寧  https://product.hksuning.com/0000000000/10580223969.html\n72           72    10395156079        Tablet                                      Apple iPad (2018) Wi-Fi 32GB MR7G2ZP/A 銀色         Apple   2428.0           0            436   香港蘇寧  https://product.hksuning.com/0000000000/10395156079.html\n93           93      624902250        Laptop                                    Apple MacBook Air 13'' 1.8GHz i5 128GB 手提電腦         Apple   7038.0           0            408   香港蘇寧    https://product.hksuning.com/0000000000/624902250.html\n143         143      624902161        Laptop                          Apple Macbook Pro 13 2.3GHz i5 128GB Silver MPXR2ZP/A         Apple   9388.0           0            401   香港蘇寧    https://product.hksuning.com/0000000000/624902161.html\n142         142    10555845058        Laptop                                      Apple MacBook Pro 13 2.3GHz i5 256GB 手提電腦         Apple  12888.0           0            389   香港蘇寧  https://product.hksuning.com/0000000000/10555845058.html\n49           49    10555786341        Tablet                            Apple iPad Pro 11 256GB Wi-Fi Silver MTXR2ZP/A 平板電腦         Apple   6799.0           0            385   香港蘇寧  https://product.hksuning.com/0000000000/10555786341.html\n38           38    10576193971        Tablet  Microsoft Surface Pro i5/128GB/8GB RAM/ Signature Cover Bundle (Platinum）手提電腦     Microsoft   7888.0           0            375   香港蘇寧  https://product.hksuning.com/0000000000/10576193971.html\n36           36    10818305893        Tablet                               Microsoft Surface Pro 6 (Core i5/ 256GB/8GB RAM)     Microsoft   9988.0           0            324   香港蘇寧  https://product.hksuning.com/0000000000/10818305893.html\n101         101    10613855369        Laptop                          DELL Inspiron 14-5480 R1500-S-W10 14'' i5 256SSD 手提電腦          DELL   6799.0           0            320   香港蘇寧  https://product.hksuning.com/0000000000/10613855369.html\n111         111    10574051200        Laptop                 Apple Macbook Air 13 1.6GHz I5 256GB Space Gray MRE92ZP/A 手提電腦         Apple  10339.0           0            258   香港蘇寧  https://product.hksuning.com/0000000000/10574051200.html"
     },
     "execution_count": 6,
     "metadata": {},
     "output_type": "execute_result"
    }
   ],
   "source": [
    "filtered"
   ]
  },
  {
   "cell_type": "code",
   "execution_count": null,
   "metadata": {},
   "outputs": [],
   "source": []
  },
  {
   "cell_type": "code",
   "execution_count": 60,
   "metadata": {},
   "outputs": [],
   "source": [
    "async def get_imgs():\n",
    "    for index, row in filtered.iterrows():\n",
    "        print(f\"Processing product {index}\")\n",
    "        p_type = row['product_type'].replace(' ', '_')\n",
    "        p_name = row['product_name'].replace(' ', '_')\n",
    "        p_sales = str(row['total_comment'])\n",
    "        p_url = row['website']\n",
    "\n",
    "        page, browser = asyncio.get_event_loop().run_until_complete(get_item(p_url))\n",
    "        source = bs(await page.content(), 'lxml').prettify()\n",
    "\n",
    "        img_regex = re.compile(r'src=\"(//imgservice.suning.cn/\\S+/\\S+/\\S+/\\S+.jpg_800w_800h_4e)\"/>')\n",
    "        img_url = re.findall(img_regex, source)[0]\n",
    "        img_path = f\"{dir_path}Top-Ten-Img/{p_type}-{p_sales}.jpg\"\n",
    "\n",
    "        urllib.request.urlretrieve(f\"http:{img_url}\", img_path)\n",
    "\n",
    "        print(f\"Saved image in {img_path}\\n\")\n",
    "\n",
    "        await browser.close()\n"
   ]
  },
  {
   "cell_type": "code",
   "execution_count": 59,
   "metadata": {},
   "outputs": [
    {
     "name": "stdout",
     "output_type": "stream",
     "text": "Setting up broswer for web page...\nSaved image in Web Crawling/data/Suning/Top-Ten-Img/Mobile_Phone-510.jpg\n\nSetting up broswer for web page...\nSaved image in Web Crawling/data/Suning/Top-Ten-Img/Mobile_Phone-509.jpg\n\nSetting up broswer for web page...\nSaved image in Web Crawling/data/Suning/Top-Ten-Img/Tablet-508.jpg\n\nSetting up broswer for web page...\nSaved image in Web Crawling/data/Suning/Top-Ten-Img/Mobile_Phone-507.jpg\n\nSetting up broswer for web page...\nSaved image in Web Crawling/data/Suning/Top-Ten-Img/Mobile_Phone-507.jpg\n\nSetting up broswer for web page...\nSaved image in Web Crawling/data/Suning/Top-Ten-Img/Mobile_Phone-506.jpg\n\nSetting up broswer for web page...\nSaved image in Web Crawling/data/Suning/Top-Ten-Img/Mobile_Phone-505.jpg\n\nSetting up broswer for web page...\nSaved image in Web Crawling/data/Suning/Top-Ten-Img/Mobile_Phone-504.jpg\n\nSetting up broswer for web page...\nSaved image in Web Crawling/data/Suning/Top-Ten-Img/Mobile_Phone-504.jpg\n\nSetting up broswer for web page...\nSaved image in Web Crawling/data/Suning/Top-Ten-Img/Mobile_Phone-504.jpg\n\nSetting up broswer for web page...\nSaved image in Web Crawling/data/Suning/Top-Ten-Img/Tablet-503.jpg\n\nSetting up broswer for web page...\nSaved image in Web Crawling/data/Suning/Top-Ten-Img/Laptop-484.jpg\n\nSetting up broswer for web page...\nSaved image in Web Crawling/data/Suning/Top-Ten-Img/Tablet-481.jpg\n\nSetting up broswer for web page...\nSaved image in Web Crawling/data/Suning/Top-Ten-Img/Laptop-466.jpg\n\nSetting up broswer for web page...\nSaved image in Web Crawling/data/Suning/Top-Ten-Img/Laptop-459.jpg\n\nSetting up broswer for web page...\nSaved image in Web Crawling/data/Suning/Top-Ten-Img/Laptop-453.jpg\n\nSetting up broswer for web page...\nSaved image in Web Crawling/data/Suning/Top-Ten-Img/Tablet-438.jpg\n\nSetting up broswer for web page...\nSaved image in Web Crawling/data/Suning/Top-Ten-Img/Tablet-436.jpg\n\nSetting up broswer for web page...\nSaved image in Web Crawling/data/Suning/Top-Ten-Img/Tablet-436.jpg\n\nSetting up broswer for web page...\nSaved image in Web Crawling/data/Suning/Top-Ten-Img/Laptop-408.jpg\n\nSetting up broswer for web page...\nSaved image in Web Crawling/data/Suning/Top-Ten-Img/Laptop-401.jpg\n\nSetting up broswer for web page...\nSaved image in Web Crawling/data/Suning/Top-Ten-Img/Laptop-389.jpg\n\nSetting up broswer for web page...\nSaved image in Web Crawling/data/Suning/Top-Ten-Img/Tablet-385.jpg\n\nSetting up broswer for web page...\nSaved image in Web Crawling/data/Suning/Top-Ten-Img/Tablet-375.jpg\n\nSetting up broswer for web page...\nSaved image in Web Crawling/data/Suning/Top-Ten-Img/Tablet-324.jpg\n\nSetting up broswer for web page...\nSaved image in Web Crawling/data/Suning/Top-Ten-Img/Laptop-320.jpg\n\nSetting up broswer for web page...\nSaved image in Web Crawling/data/Suning/Top-Ten-Img/Laptop-258.jpg\n\n"
    }
   ],
   "source": [
    "asyncio.get_event_loop().run_until_complete(get_imgs())"
   ]
  },
  {
   "cell_type": "code",
   "execution_count": null,
   "metadata": {},
   "outputs": [],
   "source": []
  },
  {
   "cell_type": "code",
   "execution_count": null,
   "metadata": {},
   "outputs": [],
   "source": []
  }
 ]
}