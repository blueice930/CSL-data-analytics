{
 "cells": [
  {
   "cell_type": "markdown",
   "metadata": {
    "colab_type": "text",
    "id": "SvphuJLD141j"
   },
   "source": [
    "# Website\n",
    "### https://www.hksuning.com/\n",
    "\n",
    "***"
   ]
  },
  {
   "cell_type": "markdown",
   "metadata": {
    "colab_type": "text",
    "id": "hRy3Kw2bO0ns"
   },
   "source": [
    "# Installation\n",
    "### If you are running this notebook for the first time, please the follow one sell, otherwise, please ignore."
   ]
  },
  {
   "cell_type": "code",
   "execution_count": 1,
   "metadata": {
    "colab": {},
    "colab_type": "code",
    "id": "spVhs0um0boM"
   },
   "outputs": [
    {
     "name": "stdout",
     "output_type": "stream",
     "text": [
      "Collecting pyppeteer\n",
      "\u001b[?25l  Downloading https://files.pythonhosted.org/packages/b0/16/a5e8d617994cac605f972523bb25f12e3ff9c30baee29b4a9c50467229d9/pyppeteer-0.0.25.tar.gz (1.2MB)\n",
      "\u001b[K     |████████████████████████████████| 1.2MB 4.5MB/s eta 0:00:01\n",
      "\u001b[?25hCollecting pyee (from pyppeteer)\n",
      "  Downloading https://files.pythonhosted.org/packages/ad/d8/5608d571ffad3d7de0192b0b3099fe3f38d87c0817ebff3cee19264f0bc2/pyee-6.0.0-py2.py3-none-any.whl\n",
      "Collecting websockets (from pyppeteer)\n",
      "\u001b[?25l  Downloading https://files.pythonhosted.org/packages/8b/6b/dcbafe10a1b889f3d31bef7048dbfb23973d4b56e8fb47c9158c47fa5643/websockets-8.0.2-cp37-cp37m-macosx_10_6_intel.whl (65kB)\n",
      "\u001b[K     |████████████████████████████████| 71kB 9.1MB/s  eta 0:00:01\n",
      "\u001b[?25hCollecting appdirs (from pyppeteer)\n",
      "  Downloading https://files.pythonhosted.org/packages/56/eb/810e700ed1349edde4cbdc1b2a21e28cdf115f9faf263f6bbf8447c1abf3/appdirs-1.4.3-py2.py3-none-any.whl\n",
      "Requirement already satisfied: urllib3 in /Library/Frameworks/Python.framework/Versions/3.7/lib/python3.7/site-packages (from pyppeteer) (1.25.3)\n",
      "Collecting tqdm (from pyppeteer)\n",
      "\u001b[?25l  Downloading https://files.pythonhosted.org/packages/e1/c1/bc1dba38b48f4ae3c4428aea669c5e27bd5a7642a74c8348451e0bd8ff86/tqdm-4.36.1-py2.py3-none-any.whl (52kB)\n",
      "\u001b[K     |████████████████████████████████| 61kB 6.7MB/s eta 0:00:011\n",
      "\u001b[?25hBuilding wheels for collected packages: pyppeteer\n",
      "  Building wheel for pyppeteer (setup.py) ... \u001b[?25ldone\n",
      "\u001b[?25h  Created wheel for pyppeteer: filename=pyppeteer-0.0.25-cp37-none-any.whl size=78362 sha256=34d1b5340a7c5804c84119faee83ba8f2c84f7449da4deaff6b437cbc5addcf3\n",
      "  Stored in directory: /Users/kevinxue/Library/Caches/pip/wheels/34/e0/5d/070e22eceecf7ecd5fa4b86bbc18c1c7d0b90e02e9b57f35eb\n",
      "Successfully built pyppeteer\n",
      "Installing collected packages: pyee, websockets, appdirs, tqdm, pyppeteer\n",
      "Successfully installed appdirs-1.4.3 pyee-6.0.0 pyppeteer-0.0.25 tqdm-4.36.1 websockets-8.0.2\n",
      "Collecting beautifulsoup4\n",
      "\u001b[?25l  Downloading https://files.pythonhosted.org/packages/3b/c8/a55eb6ea11cd7e5ac4bacdf92bac4693b90d3ba79268be16527555e186f0/beautifulsoup4-4.8.1-py3-none-any.whl (101kB)\n",
      "\u001b[K     |████████████████████████████████| 102kB 4.1MB/s ta 0:00:011\n",
      "\u001b[?25hCollecting soupsieve>=1.2 (from beautifulsoup4)\n",
      "  Downloading https://files.pythonhosted.org/packages/5d/42/d821581cf568e9b7dfc5b415aa61952b0f5e3dede4f3cbd650e3a1082992/soupsieve-1.9.4-py2.py3-none-any.whl\n",
      "Installing collected packages: soupsieve, beautifulsoup4\n",
      "Successfully installed beautifulsoup4-4.8.1 soupsieve-1.9.4\n",
      "Collecting nest_asyncio\n",
      "  Downloading https://files.pythonhosted.org/packages/81/f3/e59eb5fa5c41c7e6ae9741ed18534dbfae15ad29040a3927396678934b28/nest_asyncio-1.2.0-py3-none-any.whl\n",
      "Installing collected packages: nest-asyncio\n",
      "Successfully installed nest-asyncio-1.2.0\n",
      "Collecting asyncio\n",
      "\u001b[?25l  Downloading https://files.pythonhosted.org/packages/22/74/07679c5b9f98a7cb0fc147b1ef1cc1853bc07a4eb9cb5731e24732c5f773/asyncio-3.4.3-py3-none-any.whl (101kB)\n",
      "\u001b[K     |████████████████████████████████| 102kB 4.7MB/s ta 0:00:01\n",
      "\u001b[?25hInstalling collected packages: asyncio\n",
      "Successfully installed asyncio-3.4.3\n",
      "Collecting lxml\n",
      "\u001b[?25l  Downloading https://files.pythonhosted.org/packages/bd/9f/6cda4672d3ad1aa4cf818ab8401a763787efba751c88aaf4b38fc8f923bb/lxml-4.4.1-cp37-cp37m-macosx_10_6_intel.macosx_10_9_intel.macosx_10_9_x86_64.macosx_10_10_intel.macosx_10_10_x86_64.whl (8.9MB)\n",
      "\u001b[K     |████████████████████████████████| 8.9MB 3.8MB/s eta 0:00:01\n",
      "\u001b[?25hInstalling collected packages: lxml\n",
      "Successfully installed lxml-4.4.1\n"
     ]
    }
   ],
   "source": [
    "!pip install pyppeteer\n",
    "!pip install beautifulsoup4\n",
    "!pip install nest_asyncio\n",
    "!pip install asyncio\n",
    "!pip install lxml"
   ]
  },
  {
   "cell_type": "markdown",
   "metadata": {
    "colab_type": "text",
    "id": "39tTDWFOPah3"
   },
   "source": [
    "# Importing"
   ]
  },
  {
   "cell_type": "code",
   "execution_count": 1,
   "metadata": {},
   "outputs": [],
   "source": [
    "# coding=utf-8\n",
    "\n",
    "from pyppeteer import launch\n",
    "import asyncio\n",
    "import nest_asyncio\n",
    "from bs4 import BeautifulSoup as bs\n",
    "import re\n",
    "from dataclasses import dataclass\n",
    "import xml.etree.ElementTree as et\n",
    "import time\n",
    "import pandas as pd"
   ]
  },
  {
   "cell_type": "code",
   "execution_count": 2,
   "metadata": {},
   "outputs": [],
   "source": [
    "nest_asyncio.apply()"
   ]
  },
  {
   "cell_type": "markdown",
   "metadata": {
    "colab_type": "text",
    "id": "9C8K1jqCPqKV"
   },
   "source": [
    "# Websites that are needed to be crawling"
   ]
  },
  {
   "cell_type": "code",
   "execution_count": 15,
   "metadata": {},
   "outputs": [],
   "source": [
    "urls = [\n",
    "        \"https://search.hksuning.com/search/list?ci=503692\", # url_tablet\n",
    "        \"https://search.hksuning.com/search/list?ci=503694\", # url_laptop\n",
    "        \"https://search.hksuning.com/search/list?ci=503505\" # url_phone\n",
    "]"
   ]
  },
  {
   "cell_type": "markdown",
   "metadata": {
    "colab_type": "text",
    "id": "37o8-YWxP0bP"
   },
   "source": [
    "# Return all web pages of each category"
   ]
  },
  {
   "cell_type": "code",
   "execution_count": 18,
   "metadata": {},
   "outputs": [],
   "source": [
    "async def get_item(categroy: str):\n",
    "    browser = await launch()\n",
    "    page = await browser.newPage()\n",
    "    await page.setViewport(viewport={'width': 3840, 'height': 2160})\n",
    "    await page.goto(categroy)\n",
    "    return page, browser"
   ]
  },
  {
   "cell_type": "markdown",
   "metadata": {
    "colab_type": "text",
    "id": "m7Ed6qjvQdfy"
   },
   "source": [
    "# Start crawling"
   ]
  },
  {
   "cell_type": "markdown",
   "metadata": {
    "colab_type": "text",
    "id": "Yo3wEqHZghwb"
   },
   "source": [
    "## Get pages of each item page"
   ]
  },
  {
   "cell_type": "code",
   "execution_count": 5,
   "metadata": {},
   "outputs": [],
   "source": [
    "list_pages = []\n",
    "list_browsers = []"
   ]
  },
  {
   "cell_type": "code",
   "execution_count": 6,
   "metadata": {},
   "outputs": [],
   "source": [
    "async def get_page_num(page) -> int:\n",
    "    content = bs(await page.content(), 'lxml')\n",
    "    page_num = re.findall(re.compile(r\"共\\d頁\"), content.prettify())[0][1]\n",
    "    return int(page_num)"
   ]
  },
  {
   "cell_type": "code",
   "execution_count": 7,
   "metadata": {},
   "outputs": [],
   "source": [
    "for url in urls:\n",
    "    page, browser = asyncio.get_event_loop().run_until_complete(get_item(url))\n",
    "    list_pages.append(page)\n",
    "    list_browsers.append(browser)"
   ]
  },
  {
   "cell_type": "code",
   "execution_count": 85,
   "metadata": {},
   "outputs": [
    {
     "name": "stdout",
     "output_type": "stream",
     "text": [
      "There are total 2 pages about tablet\n"
     ]
    }
   ],
   "source": [
    "page_tablet, browser_tablet = asyncio.get_event_loop().run_until_complete(get_item(urls[0]))\n",
    "\n",
    "page_num_tablet = asyncio.get_event_loop().run_until_complete(\n",
    "        get_page_num(page_tablet)\n",
    "    )\n",
    "print(f\"There are total {page_num_tablet} pages about tablet\")"
   ]
  },
  {
   "cell_type": "code",
   "execution_count": 10,
   "metadata": {},
   "outputs": [
    {
     "name": "stdout",
     "output_type": "stream",
     "text": [
      "There are total 2 pages about laptop\n"
     ]
    }
   ],
   "source": [
    "page_laptop, browser_laptop = asyncio.get_event_loop().run_until_complete(get_item(urls[1]))\n",
    "\n",
    "page_num_laptop = asyncio.get_event_loop().run_until_complete(\n",
    "        get_page_num(page_laptop)\n",
    "    )\n",
    "print(f\"There are total {page_num_laptop} pages about laptop\")"
   ]
  },
  {
   "cell_type": "markdown",
   "metadata": {
    "colab_type": "text",
    "id": "JHiqgF0yKZM1"
   },
   "source": [
    "## Debug!!!"
   ]
  },
  {
   "cell_type": "code",
   "execution_count": 17,
   "metadata": {},
   "outputs": [
    {
     "ename": "TimeoutError",
     "evalue": "Navigation Timeout Exceeded: 30000 ms exceeded.",
     "output_type": "error",
     "traceback": [
      "\u001b[1;31m---------------------------------------------------------------------------\u001b[0m",
      "\u001b[1;31mTimeoutError\u001b[0m                              Traceback (most recent call last)",
      "\u001b[1;32m<ipython-input-17-d732eb5034cb>\u001b[0m in \u001b[0;36m<module>\u001b[1;34m\u001b[0m\n\u001b[1;32m----> 1\u001b[1;33m \u001b[0mpage_phone\u001b[0m\u001b[1;33m,\u001b[0m \u001b[0mbrowser_phone\u001b[0m \u001b[1;33m=\u001b[0m \u001b[0masyncio\u001b[0m\u001b[1;33m.\u001b[0m\u001b[0mget_event_loop\u001b[0m\u001b[1;33m(\u001b[0m\u001b[1;33m)\u001b[0m\u001b[1;33m.\u001b[0m\u001b[0mrun_until_complete\u001b[0m\u001b[1;33m(\u001b[0m\u001b[0mget_item\u001b[0m\u001b[1;33m(\u001b[0m\u001b[0murls\u001b[0m\u001b[1;33m[\u001b[0m\u001b[1;36m2\u001b[0m\u001b[1;33m]\u001b[0m\u001b[1;33m)\u001b[0m\u001b[1;33m)\u001b[0m\u001b[1;33m\u001b[0m\u001b[1;33m\u001b[0m\u001b[0m\n\u001b[0m\u001b[0;32m      2\u001b[0m \u001b[1;33m\u001b[0m\u001b[0m\n\u001b[0;32m      3\u001b[0m page_num_phone = asyncio.get_event_loop().run_until_complete(\n\u001b[0;32m      4\u001b[0m         \u001b[0mget_page_num\u001b[0m\u001b[1;33m(\u001b[0m\u001b[0mpage_phone\u001b[0m\u001b[1;33m)\u001b[0m\u001b[1;33m\u001b[0m\u001b[1;33m\u001b[0m\u001b[0m\n\u001b[0;32m      5\u001b[0m     )\n",
      "\u001b[1;32mC:\\ProgramData\\Anaconda3\\lib\\asyncio\\base_events.py\u001b[0m in \u001b[0;36mrun_until_complete\u001b[1;34m(self, future)\u001b[0m\n\u001b[0;32m    577\u001b[0m             \u001b[1;32mraise\u001b[0m \u001b[0mRuntimeError\u001b[0m\u001b[1;33m(\u001b[0m\u001b[1;34m'Event loop stopped before Future completed.'\u001b[0m\u001b[1;33m)\u001b[0m\u001b[1;33m\u001b[0m\u001b[1;33m\u001b[0m\u001b[0m\n\u001b[0;32m    578\u001b[0m \u001b[1;33m\u001b[0m\u001b[0m\n\u001b[1;32m--> 579\u001b[1;33m         \u001b[1;32mreturn\u001b[0m \u001b[0mfuture\u001b[0m\u001b[1;33m.\u001b[0m\u001b[0mresult\u001b[0m\u001b[1;33m(\u001b[0m\u001b[1;33m)\u001b[0m\u001b[1;33m\u001b[0m\u001b[1;33m\u001b[0m\u001b[0m\n\u001b[0m\u001b[0;32m    580\u001b[0m \u001b[1;33m\u001b[0m\u001b[0m\n\u001b[0;32m    581\u001b[0m     \u001b[1;32mdef\u001b[0m \u001b[0mstop\u001b[0m\u001b[1;33m(\u001b[0m\u001b[0mself\u001b[0m\u001b[1;33m)\u001b[0m\u001b[1;33m:\u001b[0m\u001b[1;33m\u001b[0m\u001b[1;33m\u001b[0m\u001b[0m\n",
      "\u001b[1;32mC:\\ProgramData\\Anaconda3\\lib\\asyncio\\futures.py\u001b[0m in \u001b[0;36mresult\u001b[1;34m(self)\u001b[0m\n\u001b[0;32m    176\u001b[0m         \u001b[0mself\u001b[0m\u001b[1;33m.\u001b[0m\u001b[0m__log_traceback\u001b[0m \u001b[1;33m=\u001b[0m \u001b[1;32mFalse\u001b[0m\u001b[1;33m\u001b[0m\u001b[1;33m\u001b[0m\u001b[0m\n\u001b[0;32m    177\u001b[0m         \u001b[1;32mif\u001b[0m \u001b[0mself\u001b[0m\u001b[1;33m.\u001b[0m\u001b[0m_exception\u001b[0m \u001b[1;32mis\u001b[0m \u001b[1;32mnot\u001b[0m \u001b[1;32mNone\u001b[0m\u001b[1;33m:\u001b[0m\u001b[1;33m\u001b[0m\u001b[1;33m\u001b[0m\u001b[0m\n\u001b[1;32m--> 178\u001b[1;33m             \u001b[1;32mraise\u001b[0m \u001b[0mself\u001b[0m\u001b[1;33m.\u001b[0m\u001b[0m_exception\u001b[0m\u001b[1;33m\u001b[0m\u001b[1;33m\u001b[0m\u001b[0m\n\u001b[0m\u001b[0;32m    179\u001b[0m         \u001b[1;32mreturn\u001b[0m \u001b[0mself\u001b[0m\u001b[1;33m.\u001b[0m\u001b[0m_result\u001b[0m\u001b[1;33m\u001b[0m\u001b[1;33m\u001b[0m\u001b[0m\n\u001b[0;32m    180\u001b[0m \u001b[1;33m\u001b[0m\u001b[0m\n",
      "\u001b[1;32mC:\\ProgramData\\Anaconda3\\lib\\asyncio\\tasks.py\u001b[0m in \u001b[0;36m__step\u001b[1;34m(***failed resolving arguments***)\u001b[0m\n\u001b[0;32m    247\u001b[0m                 \u001b[1;31m# We use the `send` method directly, because coroutines\u001b[0m\u001b[1;33m\u001b[0m\u001b[1;33m\u001b[0m\u001b[1;33m\u001b[0m\u001b[0m\n\u001b[0;32m    248\u001b[0m                 \u001b[1;31m# don't have `__iter__` and `__next__` methods.\u001b[0m\u001b[1;33m\u001b[0m\u001b[1;33m\u001b[0m\u001b[1;33m\u001b[0m\u001b[0m\n\u001b[1;32m--> 249\u001b[1;33m                 \u001b[0mresult\u001b[0m \u001b[1;33m=\u001b[0m \u001b[0mcoro\u001b[0m\u001b[1;33m.\u001b[0m\u001b[0msend\u001b[0m\u001b[1;33m(\u001b[0m\u001b[1;32mNone\u001b[0m\u001b[1;33m)\u001b[0m\u001b[1;33m\u001b[0m\u001b[1;33m\u001b[0m\u001b[0m\n\u001b[0m\u001b[0;32m    250\u001b[0m             \u001b[1;32melse\u001b[0m\u001b[1;33m:\u001b[0m\u001b[1;33m\u001b[0m\u001b[1;33m\u001b[0m\u001b[0m\n\u001b[0;32m    251\u001b[0m                 \u001b[0mresult\u001b[0m \u001b[1;33m=\u001b[0m \u001b[0mcoro\u001b[0m\u001b[1;33m.\u001b[0m\u001b[0mthrow\u001b[0m\u001b[1;33m(\u001b[0m\u001b[0mexc\u001b[0m\u001b[1;33m)\u001b[0m\u001b[1;33m\u001b[0m\u001b[1;33m\u001b[0m\u001b[0m\n",
      "\u001b[1;32m<ipython-input-4-68f4c5327e07>\u001b[0m in \u001b[0;36mget_item\u001b[1;34m(categroy)\u001b[0m\n\u001b[0;32m      3\u001b[0m     \u001b[0mpage\u001b[0m \u001b[1;33m=\u001b[0m \u001b[1;32mawait\u001b[0m \u001b[0mbrowser\u001b[0m\u001b[1;33m.\u001b[0m\u001b[0mnewPage\u001b[0m\u001b[1;33m(\u001b[0m\u001b[1;33m)\u001b[0m\u001b[1;33m\u001b[0m\u001b[1;33m\u001b[0m\u001b[0m\n\u001b[0;32m      4\u001b[0m     \u001b[1;32mawait\u001b[0m \u001b[0mpage\u001b[0m\u001b[1;33m.\u001b[0m\u001b[0msetViewport\u001b[0m\u001b[1;33m(\u001b[0m\u001b[0mviewport\u001b[0m\u001b[1;33m=\u001b[0m\u001b[1;33m{\u001b[0m\u001b[1;34m'width'\u001b[0m\u001b[1;33m:\u001b[0m \u001b[1;36m3840\u001b[0m\u001b[1;33m,\u001b[0m \u001b[1;34m'height'\u001b[0m\u001b[1;33m:\u001b[0m \u001b[1;36m2160\u001b[0m\u001b[1;33m}\u001b[0m\u001b[1;33m)\u001b[0m\u001b[1;33m\u001b[0m\u001b[1;33m\u001b[0m\u001b[0m\n\u001b[1;32m----> 5\u001b[1;33m     \u001b[1;32mawait\u001b[0m \u001b[0mpage\u001b[0m\u001b[1;33m.\u001b[0m\u001b[0mgoto\u001b[0m\u001b[1;33m(\u001b[0m\u001b[0mcategroy\u001b[0m\u001b[1;33m)\u001b[0m\u001b[1;33m\u001b[0m\u001b[1;33m\u001b[0m\u001b[0m\n\u001b[0m\u001b[0;32m      6\u001b[0m     \u001b[1;31m# pages = await browser.pages()\u001b[0m\u001b[1;33m\u001b[0m\u001b[1;33m\u001b[0m\u001b[1;33m\u001b[0m\u001b[0m\n\u001b[0;32m      7\u001b[0m \u001b[1;31m#     await browser.close()\u001b[0m\u001b[1;33m\u001b[0m\u001b[1;33m\u001b[0m\u001b[1;33m\u001b[0m\u001b[0m\n",
      "\u001b[1;32mC:\\ProgramData\\Anaconda3\\lib\\site-packages\\pyppeteer\\page.py\u001b[0m in \u001b[0;36mgoto\u001b[1;34m(self, url, options, **kwargs)\u001b[0m\n\u001b[0;32m    860\u001b[0m         \u001b[0merror\u001b[0m \u001b[1;33m=\u001b[0m \u001b[0mresult\u001b[0m\u001b[1;33m[\u001b[0m\u001b[1;36m0\u001b[0m\u001b[1;33m]\u001b[0m\u001b[1;33m.\u001b[0m\u001b[0mpop\u001b[0m\u001b[1;33m(\u001b[0m\u001b[1;33m)\u001b[0m\u001b[1;33m.\u001b[0m\u001b[0mexception\u001b[0m\u001b[1;33m(\u001b[0m\u001b[1;33m)\u001b[0m  \u001b[1;31m# type: ignore\u001b[0m\u001b[1;33m\u001b[0m\u001b[1;33m\u001b[0m\u001b[0m\n\u001b[0;32m    861\u001b[0m         \u001b[1;32mif\u001b[0m \u001b[0merror\u001b[0m\u001b[1;33m:\u001b[0m\u001b[1;33m\u001b[0m\u001b[1;33m\u001b[0m\u001b[0m\n\u001b[1;32m--> 862\u001b[1;33m             \u001b[1;32mraise\u001b[0m \u001b[0merror\u001b[0m\u001b[1;33m\u001b[0m\u001b[1;33m\u001b[0m\u001b[0m\n\u001b[0m\u001b[0;32m    863\u001b[0m \u001b[1;33m\u001b[0m\u001b[0m\n\u001b[0;32m    864\u001b[0m         \u001b[0mrequest\u001b[0m \u001b[1;33m=\u001b[0m \u001b[0mrequests\u001b[0m\u001b[1;33m.\u001b[0m\u001b[0mget\u001b[0m\u001b[1;33m(\u001b[0m\u001b[0mmainFrame\u001b[0m\u001b[1;33m.\u001b[0m\u001b[0m_navigationURL\u001b[0m\u001b[1;33m)\u001b[0m\u001b[1;33m\u001b[0m\u001b[1;33m\u001b[0m\u001b[0m\n",
      "\u001b[1;31mTimeoutError\u001b[0m: Navigation Timeout Exceeded: 30000 ms exceeded."
     ]
    }
   ],
   "source": [
    "page_phone, browser_phone = asyncio.get_event_loop().run_until_complete(get_item(urls[2]))\n",
    "\n",
    "page_num_phone = asyncio.get_event_loop().run_until_complete(\n",
    "        get_page_num(page_phone)\n",
    "    )\n",
    "print(f\"There are total {page_num_phone} pages about mobile phone\")"
   ]
  },
  {
   "cell_type": "markdown",
   "metadata": {
    "colab_type": "text",
    "id": "J0BrgSZclmfK"
   },
   "source": [
    "## Next Page"
   ]
  },
  {
   "cell_type": "markdown",
   "metadata": {
    "colab_type": "text",
    "id": "K0cSf5QeZ2oU"
   },
   "source": [
    "### Have next page button?"
   ]
  },
  {
   "cell_type": "code",
   "execution_count": 19,
   "metadata": {},
   "outputs": [
    {
     "data": {
      "text/plain": [
       "True"
      ]
     },
     "execution_count": 19,
     "metadata": {},
     "output_type": "execute_result"
    }
   ],
   "source": [
    "async def have_button(page) -> bool:\n",
    "\n",
    "    source = bs(await page.content(), 'lxml').prettify()\n",
    "    if 'name=\"ssdln_503692_bottom_pgup02-3\" style=\"display: none;\"' in source:\n",
    "        return False\n",
    "    else:\n",
    "        return True\n",
    "\n",
    "asyncio.get_event_loop().run_until_complete(have_button(page_tablet))"
   ]
  },
  {
   "cell_type": "markdown",
   "metadata": {},
   "source": [
    "### Last page"
   ]
  },
  {
   "cell_type": "code",
   "execution_count": 91,
   "metadata": {},
   "outputs": [
    {
     "data": {
      "text/plain": [
       "True"
      ]
     },
     "execution_count": 91,
     "metadata": {},
     "output_type": "execute_result"
    }
   ],
   "source": [
    "async def click_last_page(page) ->bool:\n",
    "    last_btn_selector = \"#bottom_pager > div > a.prev\"\n",
    "    try:\n",
    "        await page.click(last_btn_selector)\n",
    "        return True\n",
    "    except:\n",
    "        return False\n",
    "        \n",
    "asyncio.get_event_loop().run_until_complete(click_last_page(page_tablet))"
   ]
  },
  {
   "cell_type": "markdown",
   "metadata": {
    "colab_type": "text",
    "id": "6x1hzpQ6lZQ9"
   },
   "source": [
    "### Click next page button"
   ]
  },
  {
   "cell_type": "code",
   "execution_count": 21,
   "metadata": {},
   "outputs": [],
   "source": [
    "async def click_next_page(page) -> bool:\n",
    "    next_btn_selector = \"#bottom_pager > div > a.next\"\n",
    "    is_next = asyncio.get_event_loop().run_until_complete(have_button(page))\n",
    "\n",
    "    if is_next:\n",
    "        await page.click(next_btn_selector)\n",
    "        return True\n",
    "    else:\n",
    "        # print(\"No next page!\")\n",
    "        return False"
   ]
  },
  {
   "cell_type": "markdown",
   "metadata": {},
   "source": [
    "## Data storage"
   ]
  },
  {
   "cell_type": "markdown",
   "metadata": {},
   "source": [
    "### Data Class"
   ]
  },
  {
   "cell_type": "code",
   "execution_count": 152,
   "metadata": {},
   "outputs": [],
   "source": [
    "@dataclass\n",
    "class Product:\n",
    "    product_index: int\n",
    "    product_type: str\n",
    "    product_name: str\n",
    "    prodect_brand: str\n",
    "    price: float\n",
    "    avg_rating: float\n",
    "    total_comment: int\n",
    "    seller: str\n",
    "    website: str\n",
    "\n",
    "@dataclass\n",
    "class Customer:\n",
    "    product_index: int\n",
    "    username: str\n",
    "    user_rate: float\n",
    "    rate_date: str\n",
    "    buyer_comment: str\n",
    "\n",
    "        \n",
    "product_type_dict = {\n",
    "    \"平板電腦\": \"Tablet\",\n",
    "    \"手機\": \"Mobile Phone\",\n",
    "    \"手提電腦\": \"Laptop\"\n",
    "}\n",
    "\n",
    "pd.set_option('display.max_columns', None)\n",
    "pd.set_option('display.width', 500)\n",
    "pd.set_option('display.max_colwidth', 50)\n",
    "\n",
    "all_product = []\n",
    "all_customer = []\n",
    "column_product = ['product_index', 'product_type', 'product_name', 'prodect_brand', 'price', 'avg_rating', 'total_comment', 'seller', 'website']\n",
    "column_customer = ['product_index', 'username', 'user_rate', 'rate_date', 'buyer_comment']"
   ]
  },
  {
   "cell_type": "markdown",
   "metadata": {},
   "source": [
    "### Resolve Data"
   ]
  },
  {
   "cell_type": "code",
   "execution_count": 146,
   "metadata": {},
   "outputs": [],
   "source": [
    "async def resolve_data(page, key):\n",
    "    # Click the comment tab\n",
    "    await page.click('#commentNum')\n",
    "\n",
    "    while not await page.querySelector('#rv-main > div > div.rv-main-target > div > div:nth-child(1) > div > div.rv-target-topic.clearfix > div.topic-right > div.topic-main.l > div.topic-title.clearfix') :\n",
    "        pass\n",
    "\n",
    "    source = bs(await page.content(), 'lxml')\n",
    "\n",
    "    _product_index = key\n",
    "    \n",
    "    type_html = source.select('#pcFourth > div:nth-child(1) > div > ul > li:nth-child(5) > span > a')\n",
    "    _product_type = product_type_dict[type_html[0].get_text()]\n",
    "    \n",
    "    title = source.h1.get_text()\n",
    "    _product_name = title.replace(\"自營\", \"\").replace(\"香港倉\", \"\").strip()\n",
    "    \n",
    "    _product_brand = _product_name.split(\" \")[0]\n",
    "    \n",
    "    text_price = f\"{source.find('span', class_='integer').get_text()}.{source.find('span', class_='decimal').get_text()}\".strip()\n",
    "    _price = float(text_price)\n",
    "    \n",
    "    tmp_rate = source.select('#appraise > div.rv-wrap > div.rv-container.db > div.rv-rate.rv-bars > div.rv-rate-wrap.clearfix.rv-rate-empty > div.rv-rate-item.rv-rate-score.l > div > p.score > span')\n",
    "    _avg_rating = float(tmp_rate[0].get_text()) / 20  # Full score is 5\n",
    "    \n",
    "    try:\n",
    "        _total_comment = int(source.select('#commentNum > a > span')[0].get_text()[1])  # To be modifying\n",
    "    except:\n",
    "        _total_comment = 0\n",
    "    \n",
    "    tmp_seller = source.select('#pcFourth > div.wrapper.mt15 > div.procon-side > div.si-intro > div.si-intro-list > dl > dd')[0]\n",
    "    _seller = tmp_seller.get_text().replace(\"<dd>\", \"\").replace(\"</dd>\", \"\").strip()\n",
    "    \n",
    "    _website = dict_urls.get(key)\n",
    "\n",
    "    # print(_total_comment)\n",
    "\n",
    "    if _total_comment > 0:\n",
    "        source = bs(await page.content(), 'lxml')\n",
    "\n",
    "        # To-Do: while...\n",
    "        _total_comment = resolve_customer(source, key)\n",
    "\n",
    "    one_product = [_product_index, _product_type, _product_name, _product_brand, _price, _avg_rating, _total_comment, _seller, _website]\n",
    "    all_product.append(one_product)\n"
   ]
  },
  {
   "cell_type": "code",
   "execution_count": 150,
   "metadata": {},
   "outputs": [],
   "source": [
    "def resolve_customer(source, key) -> int:\n",
    "    _product_index = key\n",
    "    \n",
    "    _user_regex = re.compile(r'<span>(\\S+)</span>')\n",
    "    _date_regex = re.compile(r'<span>(\\d+-\\d+-\\d+ \\d+:\\d+:\\d+)</span>')\n",
    "    _comment_regex = re.compile(r'<p class=\"body-content\">\\s*(\\S+)\\s*</p>')\n",
    "\n",
    "\n",
    "    all_username = source.find_all('div', {'class': 'username'})\n",
    "    all_date = source.find_all('div', {'class': 'date l'})\n",
    "    all_comment = source.find_all('p', {'class': 'body-content'})\n",
    "\n",
    "    num_user = len(all_username)\n",
    "\n",
    "    for n in range(num_user):\n",
    "        _username = re.findall(_user_regex, str(all_username[n]))[0]\n",
    "        _buyer_comment = re.findall(_comment_regex, str(all_comment[n]))[0]\n",
    "        _user_rate = ''\n",
    "        _rate_date = re.findall(_date_regex, str(all_date[n]))[0]\n",
    "\n",
    "        one_customer = [_product_index, _username, _user_rate, _rate_date, _buyer_comment]\n",
    "        all_customer.append(one_customer)   \n",
    "        # print(_rate_date)\n",
    " \n",
    "\n",
    "    return len(one_customer)"
   ]
  },
  {
   "cell_type": "code",
   "execution_count": 97,
   "metadata": {},
   "outputs": [],
   "source": [
    "u = list(dict_urls.items())[0]\n",
    "page_tmp, browser_tmp = asyncio.get_event_loop().run_until_complete(get_item(u[1]))"
   ]
  },
  {
   "cell_type": "code",
   "execution_count": 153,
   "metadata": {},
   "outputs": [
    {
     "name": "stdout",
     "output_type": "stream",
     "text": [
      "product_index username user_rate            rate_date buyer_comment\n",
      "0    10964145615    9***0            2019-08-15 13:22:14   很方便，正品正貨還有折\n",
      "1    10964145615    9***7            2019-08-24 08:06:18          發貨迅速\n",
      "2    10964145615    7***2            2019-10-09 18:26:13   买家没有填写评价内容！\n",
      "3    10964145615    7***7            2019-10-09 16:15:23   买家没有填写评价内容！\n",
      "4    10964145615    7***1            2019-10-09 15:51:05   买家没有填写评价内容！\n",
      "5    10964145615    7***1            2019-10-09 14:55:41   买家没有填写评价内容！\n",
      "6    10964145615    6***7            2019-10-08 11:45:27   买家没有填写评价内容！\n",
      "7    10964145615    7***2            2019-10-07 20:46:22   买家没有填写评价内容！\n",
      "8    10964145615    7***2            2019-10-07 18:11:29   买家没有填写评价内容！\n",
      "9    10964145615    7***3            2019-10-06 19:37:04   买家没有填写评价内容！\n",
      "10   10964145615    7***2            2019-10-06 17:56:22   买家没有填写评价内容！\n",
      "11   10964145615    7***7            2019-10-05 14:31:39   买家没有填写评价内容！\n"
     ]
    }
   ],
   "source": [
    "asyncio.get_event_loop().run_until_complete(resolve_data(page_tmp, u[0]))\n",
    "save_csv()"
   ]
  },
  {
   "cell_type": "code",
   "execution_count": null,
   "metadata": {},
   "outputs": [],
   "source": []
  },
  {
   "cell_type": "markdown",
   "metadata": {},
   "source": [
    "### Store Data"
   ]
  },
  {
   "cell_type": "code",
   "execution_count": 148,
   "metadata": {},
   "outputs": [],
   "source": [
    "def save_csv():\n",
    "    df_product = pd.DataFrame(all_product, columns=column_product)\n",
    "    df_product.to_csv('Products.csv', sep=',', na_rep='N/A', encoding=\"utf_8_sig\")\n",
    "    # print(df_product)\n",
    "\n",
    "    df_customer = pd.DataFrame(all_customer, columns=column_customer)\n",
    "    df_customer.to_csv('Customers.csv', sep=',', na_rep='N/A', encoding=\"utf_8_sig\")\n",
    "    print(df_customer)\n"
   ]
  },
  {
   "cell_type": "markdown",
   "metadata": {},
   "source": [
    "## URLs"
   ]
  },
  {
   "cell_type": "code",
   "execution_count": 92,
   "metadata": {},
   "outputs": [],
   "source": [
    "dict_urls = {}"
   ]
  },
  {
   "cell_type": "markdown",
   "metadata": {
    "colab_type": "text",
    "id": "2_pHSJaNo6YF"
   },
   "source": [
    "### Get all item url"
   ]
  },
  {
   "cell_type": "code",
   "execution_count": 93,
   "metadata": {},
   "outputs": [
    {
     "name": "stdout",
     "output_type": "stream",
     "text": [
      "next\n",
      "80\n",
      "Got\n",
      "80\n"
     ]
    }
   ],
   "source": [
    "async def get_url(page):   \n",
    "\n",
    "    source = bs(await page.content(), 'lxml').prettify()\n",
    "\n",
    "    item_id = re.findall(\n",
    "            re.compile(r'(?<=//product.hksuning.com/0000000000/)(\\d*).html'),\n",
    "            source\n",
    "        )\n",
    "    item_id = list(dict.fromkeys(item_id))\n",
    "    tmp_dict = {}\n",
    "    \n",
    "    for i in item_id:\n",
    "        url_patten = f\"https://product.hksuning.com/0000000000/{i}.html\"\n",
    "        tmp_dict[i] = url_patten\n",
    "        dict_urls.update(tmp_dict)\n",
    "        \n",
    "    if asyncio.get_event_loop().run_until_complete(have_button(page)):        \n",
    "        # Click next page button\n",
    "        asyncio.get_event_loop().run_until_complete(click_next_page(page))\n",
    "\n",
    "        print(\"next\")\n",
    "        # await page.screenshot({'path': 'example.png'})\n",
    "        time.sleep(1)\n",
    "        \n",
    "        # Get URLs\n",
    "        asyncio.get_event_loop().run_until_complete(get_url(page))\n",
    "\n",
    "        print(\"Got\")\n",
    "\n",
    "\n",
    "asyncio.get_event_loop().run_until_complete(get_url(page_tablet))\n",
    "print(len(dict_urls))"
   ]
  },
  {
   "cell_type": "markdown",
   "metadata": {},
   "source": [
    "### URLs Traversal"
   ]
  },
  {
   "cell_type": "code",
   "execution_count": 28,
   "metadata": {},
   "outputs": [],
   "source": [
    "async def traversal(page):\n",
    "    source = bs(await page.content(), 'lxml').prettify()\n",
    "    \n",
    "    for key, value in dict_urls.items():\n",
    "        page, browser = asyncio.get_event_loop().run_until_complete(get_item(value))        \n",
    "        asyncio.get_event_loop().run_until_complete(resolve_data(page, key))\n",
    "        save_csv()\n",
    "        \n",
    "        await browser.close()\n",
    "        \n",
    "asyncio.get_event_loop().run_until_complete(traversal(page_tablet))"
   ]
  },
  {
   "cell_type": "markdown",
   "metadata": {
    "colab_type": "text",
    "id": "9V4E4bubpBMk"
   },
   "source": [
    "## Crawl data"
   ]
  },
  {
   "cell_type": "code",
   "execution_count": 32,
   "metadata": {},
   "outputs": [],
   "source": [
    "async def get_data(page):\n",
    "    \n",
    "    # Get URLs\n",
    "    asyncio.get_event_loop().run_until_complete(get_url(page))\n",
    "    asyncio.get_event_loop().run_until_complete(traversal(page))\n",
    "    \n",
    "    \n",
    "\n",
    "asyncio.get_event_loop().run_until_complete(get_data(page_tablet))\n",
    "len(dict_urls)"
   ]
  },
  {
   "cell_type": "markdown",
   "metadata": {
    "colab": {},
    "colab_type": "code",
    "id": "noUdljtbgoEO"
   },
   "source": [
    "## Main"
   ]
  },
  {
   "cell_type": "code",
   "execution_count": 79,
   "metadata": {},
   "outputs": [],
   "source": [
    "async def main():\n",
    "    for page in pages:\n",
    "        syncio.get_event_loop().run_until_complete(get_data(page))\n",
    "        \n",
    "    \n",
    "        \n",
    "    # Close all browsers\n",
    "    for b in list_browsers:\n",
    "        await browser.close()\n",
    "        \n",
    "# asyncio.get_event_loop().run_until_complete(main())"
   ]
  },
  {
   "cell_type": "code",
   "execution_count": null,
   "metadata": {},
   "outputs": [],
   "source": []
  }
 ],
 "metadata": {
  "file_extension": ".py",
  "kernelspec": {
   "display_name": "Python 3",
   "language": "python",
   "name": "python3"
  },
  "language_info": {
   "codemirror_mode": {
    "name": "ipython",
    "version": 3
   },
   "file_extension": ".py",
   "mimetype": "text/x-python",
   "name": "python",
   "nbconvert_exporter": "python",
   "pygments_lexer": "ipython3",
   "version": "3.7.0"
  },
  "mimetype": "text/x-python",
  "name": "python",
  "npconvert_exporter": "python",
  "pygments_lexer": "ipython3",
  "version": 3
 },
 "nbformat": 4,
 "nbformat_minor": 2
}
