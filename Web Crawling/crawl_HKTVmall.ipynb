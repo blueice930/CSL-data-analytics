{
 "cells": [
  {
   "cell_type": "markdown",
   "metadata": {
    "colab_type": "text",
    "id": "N5Uefb1d1jA0"
   },
   "source": [
    "## Website\n",
    "https://www.hktvmall.com/hktv/zh/homenfamily"
   ]
  },
  {
   "cell_type": "markdown",
   "metadata": {},
   "source": [
    "## Environment and Imports\n",
    "No need to run the cell below if you have already installed the packages"
   ]
  },
  {
   "cell_type": "code",
   "execution_count": 147,
   "metadata": {
    "colab": {
     "base_uri": "https://localhost:8080/",
     "height": 119
    },
    "colab_type": "code",
    "executionInfo": {
     "elapsed": 3979,
     "status": "ok",
     "timestamp": 1570097009981,
     "user": {
      "displayName": "Taito C",
      "photoUrl": "https://lh3.googleusercontent.com/a-/AAuE7mDpybaj_DlTB1GsXFeTCz86kdSLAbD1Z9TmcOYzgkQ=s64",
      "userId": "12838637656458653008"
     },
     "user_tz": -480
    },
    "id": "spVhs0um0boM",
    "outputId": "52032265-eeb5-4526-a2b2-b41dcd85abbe"
   },
   "outputs": [
    {
     "name": "stdout",
     "output_type": "stream",
     "text": [
      "Requirement already satisfied: pyppeteer in /Library/Frameworks/Python.framework/Versions/3.7/lib/python3.7/site-packages (0.0.25)\n",
      "Requirement already satisfied: pyee in /Library/Frameworks/Python.framework/Versions/3.7/lib/python3.7/site-packages (from pyppeteer) (6.0.0)\n",
      "Requirement already satisfied: appdirs in /Library/Frameworks/Python.framework/Versions/3.7/lib/python3.7/site-packages (from pyppeteer) (1.4.3)\n",
      "Requirement already satisfied: urllib3 in /Library/Frameworks/Python.framework/Versions/3.7/lib/python3.7/site-packages (from pyppeteer) (1.24.3)\n",
      "Requirement already satisfied: websockets in /Library/Frameworks/Python.framework/Versions/3.7/lib/python3.7/site-packages (from pyppeteer) (8.0.2)\n",
      "Requirement already satisfied: tqdm in /Library/Frameworks/Python.framework/Versions/3.7/lib/python3.7/site-packages (from pyppeteer) (4.36.1)\n"
     ]
    }
   ],
   "source": [
    "!pip install pyppeteer"
   ]
  },
  {
   "cell_type": "code",
   "execution_count": 148,
   "metadata": {
    "colab": {},
    "colab_type": "code",
    "id": "-KeXQ35c1LoS"
   },
   "outputs": [],
   "source": [
    "from pyppeteer import launch\n",
    "import asyncio\n",
    "import nest_asyncio\n",
    "import re\n",
    "from bs4 import BeautifulSoup as bs"
   ]
  },
  {
   "cell_type": "code",
   "execution_count": 149,
   "metadata": {},
   "outputs": [],
   "source": [
    "nest_asyncio.apply()"
   ]
  },
  {
   "cell_type": "code",
   "execution_count": 150,
   "metadata": {},
   "outputs": [],
   "source": [
    "def run_asyncio(func, args=None):\n",
    "    return asyncio.get_event_loop().run_until_complete(func(args))"
   ]
  },
  {
   "cell_type": "markdown",
   "metadata": {
    "colab": {},
    "colab_type": "code",
    "id": "Qy4ELU1m1Lqn"
   },
   "source": [
    "## Getting Pages"
   ]
  },
  {
   "cell_type": "code",
   "execution_count": 151,
   "metadata": {},
   "outputs": [],
   "source": [
    "TABLET = 0\n",
    "LAPTOP = 1\n",
    "PHONE = 2\n",
    "urls = [\n",
    "    \"https://www.hktvmall.com/hktv/zh/search?categoryTag=AA32301500001\",\n",
    "    \"https://www.hktvmall.com/hktv/zh/search?categoryTag=AA32300500001\", \n",
    "    \"https://www.hktvmall.com/hktv/zh/search?categoryTag=AA32201010001\"\n",
    "]"
   ]
  },
  {
   "cell_type": "code",
   "execution_count": 155,
   "metadata": {},
   "outputs": [],
   "source": [
    "async def get_item_page(url: str):\n",
    "    '''\n",
    "    get the web page\n",
    "    params:\n",
    "        url: str, url of the web page\n",
    "    return: \n",
    "        page: pyppeteer.page.Page, the web page\n",
    "    '''\n",
    "    browser = await launch()\n",
    "    page = await browser.newPage()\n",
    "    await page.goto(url)\n",
    "    return page"
   ]
  },
  {
   "cell_type": "code",
   "execution_count": 154,
   "metadata": {},
   "outputs": [
    {
     "name": "stdout",
     "output_type": "stream",
     "text": [
      "平板電腦 | 香港電視 HKTVmall 網上購物\n",
      "手提電腦 | 香港電視 HKTVmall 網上購物\n",
      "智能電話 | 香港電視 HKTVmall 網上購物\n"
     ]
    }
   ],
   "source": [
    "category_pages = []\n",
    "category_pages_py = []\n",
    "for url in urls:\n",
    "    page = run_asyncio(get_item_page, url)\n",
    "    print(asyncio.run(page.title()))\n",
    "    # store beautiful soup object\n",
    "    category_pages.append(bs(asyncio.get_event_loop().run_until_complete(page.content()), \"lxml\"))\n",
    "    # store pyppeteer object\n",
    "    category_pages_py.append(page)"
   ]
  },
  {
   "cell_type": "code",
   "execution_count": 145,
   "metadata": {},
   "outputs": [],
   "source": [
    "def get_page_num(page):\n",
    "    '''\n",
    "    get number of page of the current category\n",
    "    params:\n",
    "        page: BeautifulSoup, the bs object of the webpage\n",
    "    return:\n",
    "        int: omitted\n",
    "    '''\n",
    "    page_string = re.findall(r\"/共\\d+頁\", str(page))\n",
    "    return int(page_string[0][2])"
   ]
  },
  {
   "cell_type": "code",
   "execution_count": 146,
   "metadata": {},
   "outputs": [
    {
     "name": "stdout",
     "output_type": "stream",
     "text": [
      "2 pages in tablets\n",
      "7 pages in laptops\n",
      "1 pages in smart phones\n"
     ]
    }
   ],
   "source": [
    "print(str(get_page_num(category_pages[0])) + \" pages in tablets\")\n",
    "print(str(get_page_num(category_pages[1])) + \" pages in laptops\")\n",
    "print(str(get_page_num(category_pages[2])) + \" pages in smart phones\")"
   ]
  },
  {
   "cell_type": "markdown",
   "metadata": {},
   "source": [
    "## To do:\n",
    "Change the format of URL so that different pages are well arranged"
   ]
  }
 ],
 "metadata": {
  "colab": {
   "collapsed_sections": [],
   "name": "crawl_HKTVmall.ipynb",
   "provenance": []
  },
  "kernelspec": {
   "display_name": "Python 3",
   "language": "python",
   "name": "python3"
  },
  "language_info": {
   "codemirror_mode": {
    "name": "ipython",
    "version": 3
   },
   "file_extension": ".py",
   "mimetype": "text/x-python",
   "name": "python",
   "nbconvert_exporter": "python",
   "pygments_lexer": "ipython3",
   "version": "3.7.0"
  }
 },
 "nbformat": 4,
 "nbformat_minor": 1
}
