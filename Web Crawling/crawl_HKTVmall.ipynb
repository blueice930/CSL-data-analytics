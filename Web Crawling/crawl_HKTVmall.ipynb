{
 "cells": [
  {
   "cell_type": "markdown",
   "metadata": {
    "colab_type": "text",
    "id": "N5Uefb1d1jA0"
   },
   "source": [
    "## Website\n",
    "https://www.hktvmall.com/hktv/zh/homenfamily"
   ]
  },
  {
   "cell_type": "markdown",
   "metadata": {},
   "source": [
    "## Environment and Imports\n",
    "No need to run the cell below if you have already installed the packages"
   ]
  },
  {
   "cell_type": "code",
   "execution_count": 1,
   "metadata": {
    "colab": {
     "base_uri": "https://localhost:8080/",
     "height": 119
    },
    "colab_type": "code",
    "executionInfo": {
     "elapsed": 3979,
     "status": "ok",
     "timestamp": 1570097009981,
     "user": {
      "displayName": "Taito C",
      "photoUrl": "https://lh3.googleusercontent.com/a-/AAuE7mDpybaj_DlTB1GsXFeTCz86kdSLAbD1Z9TmcOYzgkQ=s64",
      "userId": "12838637656458653008"
     },
     "user_tz": -480
    },
    "id": "spVhs0um0boM",
    "outputId": "52032265-eeb5-4526-a2b2-b41dcd85abbe"
   },
   "outputs": [
    {
     "name": "stdout",
     "output_type": "stream",
     "text": [
      "Requirement already satisfied: pyppeteer in /Library/Frameworks/Python.framework/Versions/3.7/lib/python3.7/site-packages (0.0.25)\n",
      "Requirement already satisfied: pyee in /Library/Frameworks/Python.framework/Versions/3.7/lib/python3.7/site-packages (from pyppeteer) (6.0.0)\n",
      "Requirement already satisfied: tqdm in /Library/Frameworks/Python.framework/Versions/3.7/lib/python3.7/site-packages (from pyppeteer) (4.36.1)\n",
      "Requirement already satisfied: urllib3 in /Library/Frameworks/Python.framework/Versions/3.7/lib/python3.7/site-packages (from pyppeteer) (1.24.3)\n",
      "Requirement already satisfied: appdirs in /Library/Frameworks/Python.framework/Versions/3.7/lib/python3.7/site-packages (from pyppeteer) (1.4.3)\n",
      "Requirement already satisfied: websockets in /Library/Frameworks/Python.framework/Versions/3.7/lib/python3.7/site-packages (from pyppeteer) (8.0.2)\n",
      "Requirement already satisfied: pandas in /Library/Frameworks/Python.framework/Versions/3.7/lib/python3.7/site-packages (0.25.0)\n",
      "Requirement already satisfied: python-dateutil>=2.6.1 in /Library/Frameworks/Python.framework/Versions/3.7/lib/python3.7/site-packages (from pandas) (2.7.5)\n",
      "Requirement already satisfied: numpy>=1.13.3 in /Library/Frameworks/Python.framework/Versions/3.7/lib/python3.7/site-packages (from pandas) (1.17.0)\n",
      "Requirement already satisfied: pytz>=2017.2 in /Library/Frameworks/Python.framework/Versions/3.7/lib/python3.7/site-packages (from pandas) (2019.2)\n",
      "Requirement already satisfied: six>=1.5 in /Library/Frameworks/Python.framework/Versions/3.7/lib/python3.7/site-packages (from python-dateutil>=2.6.1->pandas) (1.11.0)\n"
     ]
    }
   ],
   "source": [
    "!pip install pyppeteer\n",
    "!pip install pandas"
   ]
  },
  {
   "cell_type": "code",
   "execution_count": 2,
   "metadata": {
    "colab": {},
    "colab_type": "code",
    "id": "-KeXQ35c1LoS"
   },
   "outputs": [],
   "source": [
    "from pyppeteer import launch\n",
    "import asyncio\n",
    "import nest_asyncio\n",
    "import re\n",
    "import pandas as pd\n",
    "import urllib.parse\n",
    "from bs4 import BeautifulSoup as bs"
   ]
  },
  {
   "cell_type": "code",
   "execution_count": 3,
   "metadata": {},
   "outputs": [],
   "source": [
    "nest_asyncio.apply()\n",
    "pd.set_option('display.max_columns', None)\n",
    "pd.set_option('display.width', 500)\n",
    "pd.set_option('display.max_colwidth', 500)"
   ]
  },
  {
   "cell_type": "code",
   "execution_count": 4,
   "metadata": {},
   "outputs": [],
   "source": [
    "def run_asyncio(func, args=None):\n",
    "    return asyncio.get_event_loop().run_until_complete(func(args))"
   ]
  },
  {
   "cell_type": "markdown",
   "metadata": {
    "colab": {},
    "colab_type": "code",
    "id": "Qy4ELU1m1Lqn"
   },
   "source": [
    "## Getting Pages"
   ]
  },
  {
   "cell_type": "code",
   "execution_count": 5,
   "metadata": {},
   "outputs": [],
   "source": [
    "TABLET = 0\n",
    "LAPTOP = 1\n",
    "PHONE = 2\n",
    "urls = [\n",
    "    \"https://www.hktvmall.com/hktv/zh/search?page=0&q=%3Arelevance%3Acategory%3AAA32301500001%3Azone%3Ahomenfamily%3Astreet%3Amain%3A\",\n",
    "    \"https://www.hktvmall.com/hktv/zh/search?page=0&q=%3Arelevance%3Acategory%3AAA32300500001%3Azone%3Ahomenfamily%3Astreet%3Amain%3A\",\n",
    "    \"https://www.hktvmall.com/hktv/zh/search?page=0&q=%3Arelevance%3Acategory%3AAA32201010001%3Azone%3Ahomenfamily%3Astreet%3Amain%3A\"\n",
    "]"
   ]
  },
  {
   "cell_type": "code",
   "execution_count": 6,
   "metadata": {},
   "outputs": [],
   "source": [
    "# https://www.hktvmall.com/hktv/zh/search?categoryTag=AA32301500001 tablet\n",
    "# https://www.hktvmall.com/hktv/zh/search?categoryTag=AA32300500001 laptop\n",
    "# https://www.hktvmall.com/hktv/zh/search?categoryTag=AA32201010001 smartphone\n",
    "pd.set_option('display.max_columns', None)\n",
    "pd.set_option('display.width', 500)\n",
    "pd.set_option('display.max_colwidth', 50)"
   ]
  },
  {
   "cell_type": "code",
   "execution_count": 7,
   "metadata": {},
   "outputs": [],
   "source": [
    "async def get_item_page(url: str):\n",
    "    '''\n",
    "    get the web page\n",
    "    params:\n",
    "        url: str, url of the web page\n",
    "    return: \n",
    "        page: pyppeteer.page.Page, the web page\n",
    "    '''\n",
    "    browser = await launch()\n",
    "    page = await browser.newPage()\n",
    "    await page.setJavaScriptEnabled(enabled=True)\n",
    "    await page.goto(url)\n",
    "    soup = bs((await page.content()), \"lxml\")\n",
    "    await browser.close()\n",
    "    return soup"
   ]
  },
  {
   "cell_type": "code",
   "execution_count": 15,
   "metadata": {},
   "outputs": [
    {
     "name": "stdout",
     "output_type": "stream",
     "text": [
      "平板電腦 | 香港電視 HKTVmall 網上購物 \n",
      "手提電腦 | 香港電視 HKTVmall 網上購物 \n",
      "智能電話 | 香港電視 HKTVmall 網上購物 \n"
     ]
    }
   ],
   "source": [
    "category_pages = []\n",
    "category_pages_py = []\n",
    "for url in urls:\n",
    "    page = run_asyncio(get_item_page, url)\n",
    "    print(page.find(\"title\").text)\n",
    "    category_pages.append(page)"
   ]
  },
  {
   "cell_type": "code",
   "execution_count": 9,
   "metadata": {},
   "outputs": [],
   "source": [
    "def get_page_num(page):\n",
    "    '''\n",
    "    get number of page of the current category\n",
    "    params:\n",
    "        page: BeautifulSoup, the bs object of the webpage\n",
    "    return:\n",
    "        str\n",
    "    '''\n",
    "    page_string = re.findall(r\"/共\\d+頁\", str(page))\n",
    "    return page_string"
   ]
  },
  {
   "cell_type": "code",
   "execution_count": 36,
   "metadata": {},
   "outputs": [],
   "source": [
    "def correct_page(page):\n",
    "    return (len(get_page_num(page)) > 0)"
   ]
  },
  {
   "cell_type": "code",
   "execution_count": 16,
   "metadata": {},
   "outputs": [
    {
     "name": "stdout",
     "output_type": "stream",
     "text": [
      "['/共2頁', '/共2頁'] pages in tablets\n",
      "[] pages in laptops\n",
      "['/共14頁', '/共14頁'] pages in smart phones\n"
     ]
    }
   ],
   "source": [
    "# if any traceback occurs, run the block that calls get_item_page() again repeatedly\n",
    "print(str(get_page_num(category_pages[0])) + \" pages in tablets\")\n",
    "print(str(get_page_num(category_pages[1])) + \" pages in laptops\")\n",
    "print(str(get_page_num(category_pages[2])) + \" pages in smart phones\")"
   ]
  },
  {
   "cell_type": "markdown",
   "metadata": {},
   "source": [
    "## Extracting Information"
   ]
  },
  {
   "cell_type": "code",
   "execution_count": 17,
   "metadata": {},
   "outputs": [],
   "source": [
    "def handle_price(price_str):\n",
    "    price_str = price_str.replace(\"$\", '').replace(\",\", '')\n",
    "    return float(price_str)"
   ]
  },
  {
   "cell_type": "code",
   "execution_count": 23,
   "metadata": {},
   "outputs": [],
   "source": [
    "def store_customer_review(url, soup, customers):\n",
    "    '''\n",
    "    store the review of customers\n",
    "    params:\n",
    "        url: str, url of the page\n",
    "        soup: BeautifulSoup, soup of the page\n",
    "        customers: Dictionary, customer review to be placed in DataFrame\n",
    "    '''\n",
    "    ind = url.split(\"/\")[-1]\n",
    "    review_list = soup.find_all(\"div\", {\"class\": \"product-review-wrapper\"})\n",
    "    pattern = re.compile(\"(?<=\\\\xa0).*\") # e.g. \"評論 :\\xa0Excellent\"\n",
    "\n",
    "    for review in review_list:\n",
    "        name = review.find(\"span\", {\"class\": \"review-username\"}).text\n",
    "        date = review.find(\"span\", {\"class\": \"review-date\"}).text\n",
    "        rate = len(review.find_all(\"span\", {\"class\": \"star\"}))\n",
    "        content = str(review.find(\"div\", {\"class\": \"review-title\"}).text)\n",
    "        content = pattern.findall(content)[0]\n",
    "        \n",
    "        customers[\"product_index\"].append(ind)\n",
    "        customers[\"username\"].append(name)\n",
    "        customers[\"rate_date\"].append(date)\n",
    "        customers[\"user_rate\"].append(rate)\n",
    "        customers[\"buyer_comment\"].append(content)\n",
    "        \n",
    "        print([ind, name, date, rate, content])\n",
    "        "
   ]
  },
  {
   "cell_type": "code",
   "execution_count": 33,
   "metadata": {},
   "outputs": [],
   "source": [
    "def extract_and_store(soup_of_page, p_type):\n",
    "    '''\n",
    "    extract relevant information for the product\n",
    "    params:\n",
    "        soup_of_page: BeautifulSoup object of the page\n",
    "        p_type: str, type of product, tablet, smartphone, or laptop\n",
    "    return:\n",
    "        products: DataFrame in pandas that stores relevant information\n",
    "    '''\n",
    "    \n",
    "    BASE_URL = \"https://www.hktvmall.com/hktv/zh/\"\n",
    "    brand_product_name_list = soup_of_page.find_all(\"div\", class_=\"brand-product-name\")\n",
    "    # https://stackoverflow.com/questions/11205386/python-beautifulsoup-get-an-attribute-value-based-on-the-name-attribute\n",
    "    product_id = soup_of_page.find_all(\"div\", {\"class\":\"product-brief\"})\n",
    "    index_list = [pid.attrs[\"data-id\"] for pid in product_id]\n",
    "    price_list = soup_of_page.find_all(\"div\", {\"class\": \"price\"})\n",
    "    seller_list = soup_of_page.select(\".product-brief > a\")\n",
    "\n",
    "    ###### attributes to be placed in product csv file ######\n",
    "    products = {\n",
    "        \"product_index\": index_list,\n",
    "        \"product_type\": [],\n",
    "        \"product_brand\": [],\n",
    "        \"product_name\": [],\n",
    "        \"product_price\": [],\n",
    "        \"average_rate\": [],\n",
    "        \"no_of_rates\": [],\n",
    "        \"seller\": [],\n",
    "        \"website\": []\n",
    "    }\n",
    "    \n",
    "    customers = {\n",
    "        \"product_index\": [],\n",
    "        \"username\": [],\n",
    "        \"rate_date\": [],\n",
    "        \"user_rate\": [],\n",
    "        \"buyer_comment\": []\n",
    "    }\n",
    "\n",
    "    ###### add attributes ######\n",
    "    for price in price_list:\n",
    "        products[\"product_price\"].append(handle_price(price.text))\n",
    "\n",
    "    for seller in seller_list:\n",
    "        seller = seller.attrs[\"href\"]\n",
    "        products[\"website\"].append(urllib.parse.unquote(BASE_URL + seller))\n",
    "        seller = seller.split(\"/\")[1]    \n",
    "        products[\"seller\"].append(urllib.parse.unquote(seller))\n",
    "    \n",
    "\n",
    "    for i, bpn in enumerate(brand_product_name_list):\n",
    "        s = bpn.text.split(\" - \", 1)\n",
    "        products[\"product_type\"].append(\"tablet\")\n",
    "        products[\"product_brand\"].append(s[0])\n",
    "        products[\"product_name\"].append(s[1])\n",
    "    \n",
    "    products[\"average_rate\"] = []\n",
    "    products[\"no_of_rates\"] = []\n",
    "    for i in range(len(products[\"website\"])):\n",
    "        print(\"Getting page \" + str(i + 1) + \"...\")\n",
    "        print(\"URL: \" + products[\"website\"][i])\n",
    "        soup = run_asyncio(get_item_page, products[\"website\"][i])\n",
    "        avg_rating = soup.find(\"span\", {\"class\": \"averageRating\"})\n",
    "        comment_num = soup.find(\"span\", {\"class\": \"comment\"})\n",
    "        products[\"average_rate\"].append(avg_rating.text)\n",
    "    \n",
    "        comment_num = int(re.findall(r\"\\d+\", comment_num.text)[0])\n",
    "        print(str(comment_num) + \" comments retrieved from this page with an average rate of \" + str(avg_rating.text))\n",
    "        products[\"no_of_rates\"].append(comment_num)\n",
    "        \n",
    "        if comment_num > 0:\n",
    "            store_customer_review(products[\"website\"][i], soup, customers)\n",
    "    \n",
    "    products_df = pd.DataFrame(products)\n",
    "    customers_df = pd.DataFrame(customers)\n",
    "    return products_df, customers_df"
   ]
  },
  {
   "cell_type": "code",
   "execution_count": 32,
   "metadata": {},
   "outputs": [],
   "source": [
    "\n",
    "p.to_csv(\"./data/HKTVMall/Products_HKTVMall_tablet1.csv\", sep=',', na_rep='N/A', encoding=\"utf_8_sig\")\n",
    "c.to_csv(\"./data/HKTVMall/Customers_HKTVMall_tablet1.csv\", sep=',', na_rep='N/A', encoding=\"utf_8_sig\")"
   ]
  },
  {
   "cell_type": "markdown",
   "metadata": {},
   "source": [
    "## Run"
   ]
  },
  {
   "cell_type": "code",
   "execution_count": 42,
   "metadata": {},
   "outputs": [
    {
     "name": "stdout",
     "output_type": "stream",
     "text": [
      "Getting page 1...\n",
      "URL: https://www.hktvmall.com/hktv/zh/main/Vertex-恆進/s/S1076001/電子電器/電子電器/電腦及週邊設備/平板電腦/Lenovo-K5-Play-智能手機/p/S1076001_S_PADB0077HK\n",
      "0 comments retrieved from this page with an average rate of 0.0\n",
      "Getting page 2...\n",
      "URL: https://www.hktvmall.com/hktv/zh/main/PLUS-ONE-COMPANY/s/H6795001/電子電器/電子電器/電腦及週邊設備/周邊設備/繪圖板-手寫板/HS610/p/H6795001_S_HS610\n",
      "0 comments retrieved from this page with an average rate of 0.0\n",
      "Getting page 3...\n",
      "URL: https://www.hktvmall.com/hktv/zh/main/Vertex-恆進/s/S1076001/電子電器/電子電器/電腦及週邊設備/平板電腦/LENOVO-TB8504F-TAB4-8HD-WIFI-平板電腦BLACK/p/S1076001_S_191376165018\n",
      "0 comments retrieved from this page with an average rate of 0.0\n",
      "Getting page 4...\n",
      "URL: https://www.hktvmall.com/hktv/zh/main/PLUS-ONE-COMPANY/s/H6795001/電子電器/電子電器/電腦及週邊設備/周邊設備/繪圖板-手寫板/INSPIROY-Q11K-V2/p/H6795001_S_Q11v2\n",
      "0 comments retrieved from this page with an average rate of 0.0\n",
      "Getting page 5...\n",
      "URL: https://www.hktvmall.com/hktv/zh/main/月の光/s/H5087001/電子電器/電子電器/手機及平板電腦/平板電腦/柔韌彈性防撞-微重量-laptop-PC-tablet-電腦袋133inches-迪士尼米奇-4562358113567/p/H5087001_S_pccase3567\n",
      "0 comments retrieved from this page with an average rate of 0.0\n",
      "Getting page 6...\n",
      "URL: https://www.hktvmall.com/hktv/zh/main/輝煌數碼有限公司/s/H6588001/電子電器/電子電器/手機及平板電腦/平板電腦/Tab-S4-4GB64GB-LTE-黑色-香港行貨/p/H6588001_S_Samsung_TabS4_LTE_64GB_Black\n",
      "0 comments retrieved from this page with an average rate of 0.0\n",
      "Getting page 7...\n",
      "URL: https://www.hktvmall.com/hktv/zh/main/DISTEXPRESS/s/H0710001/電子電器/電子電器/電腦及週邊設備/平板電腦/BlueLounge-Mika-鋁銀色/p/H0710001_S_MA-AL\n",
      "0 comments retrieved from this page with an average rate of 0.0\n",
      "Getting page 8...\n",
      "URL: https://www.hktvmall.com/hktv/zh/main/Vertex-恆進/s/S1076001/電子電器/電子電器/電腦及週邊設備/平板電腦/Lenovo-TB8704X-TAB-4-8-Plus-LTE-ZA2F0051HK-平板電腦/p/S1076001_S_191376403783\n",
      "0 comments retrieved from this page with an average rate of 0.0\n",
      "Getting page 9...\n",
      "URL: https://www.hktvmall.com/hktv/zh/main/Vertex-恆進/s/S1076001/電子電器/電子電器/電腦及週邊設備/平板電腦/LENOVO-TAB-M10-Qualcomm-Snapdragon-平板電腦-SLATE-BACK-LTE/p/S1076001_S_192940573567\n",
      "0 comments retrieved from this page with an average rate of 0.0\n",
      "Getting page 10...\n",
      "URL: https://www.hktvmall.com/hktv/zh/main/ASK-Gadgets/s/H0972006/電子電器/電子電器/手機及平板電腦/平板電腦/RG910-IP68防水防塵認證-MILSTD-810G防摔-可戴上手套或濕手操作平板電腦/p/H0972006_S_RG910\n",
      "0 comments retrieved from this page with an average rate of 0.0\n",
      "Getting page 11...\n",
      "URL: https://www.hktvmall.com/hktv/zh/main/Mob-hk/s/H0762001/電子電器/電子電器/電腦及週邊設備/平板電腦/Galaxy-Tab-S4-WiFi-256GB-黑色/p/H0762001_S_Tab-S4-Wifi-T830-256GB-BK-800670038\n",
      "0 comments retrieved from this page with an average rate of 0.0\n",
      "Getting page 12...\n",
      "URL: https://www.hktvmall.com/hktv/zh/main/Vertex-恆進/s/S1076001/電子電器/電子電器/電腦及週邊設備/平板電腦/LENOVO-TBX705L-TAB-P10-LTE-平板電腦-BLACK/p/S1076001_S_192651498104\n",
      "0 comments retrieved from this page with an average rate of 0.0\n",
      "Getting page 13...\n",
      "URL: https://www.hktvmall.com/hktv/zh/main/DISTEXPRESS/s/H0710001/電子電器/電子電器/電腦及週邊設備/平板電腦/BlueLounge-Mika-純白色/p/H0710001_S_MA-WH\n",
      "0 comments retrieved from this page with an average rate of 0.0\n",
      "Getting page 14...\n",
      "URL: https://www.hktvmall.com/hktv/zh/main/DISTEXPRESS/s/H0710001/電子電器/電子電器/電腦及週邊設備/平板電腦/多功能底座-iPad-平板-手機-綠色-綠色1個/p/H0710001_S_NS-GRN\n",
      "0 comments retrieved from this page with an average rate of 0.0\n",
      "Getting page 15...\n",
      "URL: https://www.hktvmall.com/hktv/zh/main/Gaminghk/s/H5189001/電子電器/電子電器/電腦及週邊設備/平板電腦/Alldocube-X-128GB/p/H5189001_S_Alldocube-X-128GB\n",
      "0 comments retrieved from this page with an average rate of 0.0\n",
      "Getting page 16...\n",
      "URL: https://www.hktvmall.com/hktv/zh/main/JACKMAX-INDUSTRIES/s/H6623001/電子電器/電子電器/電腦及週邊設備/周邊設備/繪圖板-手寫板/12-液晶電子手寫板可局部擦寫/p/H6623001_S_GT1005_BLU\n",
      "0 comments retrieved from this page with an average rate of 0.0\n",
      "Getting page 17...\n",
      "URL: https://www.hktvmall.com/hktv/zh/main/輝煌數碼有限公司/s/H6588001/電子電器/電子電器/手機及平板電腦/平板電腦/Tab-S4-4GB64GB-LTE-灰色-香港行貨/p/H6588001_S_Samsung_TabS4_LTE_64GB_Gray\n",
      "0 comments retrieved from this page with an average rate of 0.0\n",
      "Getting page 18...\n",
      "URL: https://www.hktvmall.com/hktv/zh/main/PLUS-ONE-COMPANY/s/H6795001/電子電器/電子電器/電腦及週邊設備/周邊設備/繪圖板-手寫板/Kamvas-Pro-22/p/H6795001_S_kamvaspro22\n",
      "0 comments retrieved from this page with an average rate of 0.0\n",
      "Getting page 19...\n",
      "URL: https://www.hktvmall.com/hktv/zh/main/Vertex-恆進/s/S1076001/電子電器/電子電器/電腦及週邊設備/平板電腦/K8-3GB32GB-智能手機/p/S1076001_S_PA8B0021HK\n",
      "0 comments retrieved from this page with an average rate of 0.0\n",
      "Getting page 20...\n",
      "URL: https://www.hktvmall.com/hktv/zh/main/Protech-Computer/s/H5023002/電子電器/電子電器/電腦及週邊設備/平板電腦/Tab-3-7-Essential-TB3710F-1G16G-ZA0R0091HK-全新機行貨/p/H5023002_S_ZA0R0091HK_BN\n",
      "0 comments retrieved from this page with an average rate of 0.0\n",
      "Getting page 21...\n",
      "URL: https://www.hktvmall.com/hktv/zh/main/輝煌數碼有限公司/s/H6588001/電子電器/電子電器/手機及平板電腦/平板電腦/Fire-HD-8-16GB-平板電腦-黑色-平行進口-8th-Gen-2018/p/H6588001_S_Amazon_FireHD_8_2018_16GB_Black\n",
      "0 comments retrieved from this page with an average rate of 0.0\n",
      "Getting page 22...\n",
      "URL: https://www.hktvmall.com/hktv/zh/main/ASK-Super-Outlet/s/H1142001/電子電器/電子電器/手機及平板電腦/平板電腦/iPlay10-Pro-101英寸大屏娛樂平板電腦2019新款/p/H0972006_S_iplay10pro\n",
      "0 comments retrieved from this page with an average rate of 0.0\n",
      "Getting page 23...\n",
      "URL: https://www.hktvmall.com/hktv/zh/main/ASK-Super-Outlet/s/H1142001/電子電器/電子電器/手機及平板電腦/平板電腦/iPlay8-Pro-8英寸掌上輕薄遊戲娛樂平板電腦2019新款/p/H0972006_S_iplay8pro\n",
      "0 comments retrieved from this page with an average rate of 0.0\n",
      "Getting page 24...\n",
      "URL: https://www.hktvmall.com/hktv/zh/main/Gaminghk/s/H5189001/電子電器/電子電器/手機及平板電腦/平板電腦/Alldocube-iPlay-7T/p/H5189001_S_Alldocube-iPlay7T\n",
      "0 comments retrieved from this page with an average rate of 0.0\n",
      "Getting page 25...\n",
      "URL: https://www.hktvmall.com/hktv/zh/main/Gaminghk/s/H5189001/電子電器/電子電器/電腦及週邊設備/平板電腦/Alldocube-iPlay-8-Pro/p/H5189001_S_Alldocube-iPlay8pro\n",
      "0 comments retrieved from this page with an average rate of 0.0\n",
      "Getting page 26...\n",
      "URL: https://www.hktvmall.com/hktv/zh/main/Gaminghk/s/H5189001/電子電器/電子電器/電腦及週邊設備/平板電腦/Alldocube-iPlay-10-Pro/p/H5189001_S_Alldocube-iPlay10pro\n",
      "0 comments retrieved from this page with an average rate of 0.0\n",
      "Getting page 27...\n",
      "URL: https://www.hktvmall.com/hktv/zh/main/BusinessPro/s/H5967001/電子電器/電子電器/手機及平板電腦/平板電腦/Fire-HD-8-8th-Gen-2018-8-16GB-HD-Display-Tablet-with-Alexa-Voice-Conrtrol-黑色-平行進口/p/H5967001_S_hd8\n",
      "2 comments retrieved from this page with an average rate of 4.5\n",
      "['H5967001_S_hd8', 'Pak Nin Ho', ' 2019-07-23 ', 5, '非常感謝滿意']\n",
      "['H5967001_S_hd8', 'HO YUNG SUNG', ' 2019-06-23 ', 4, '續航力及畫面等整體上都不錯，不過介面暫時搵唔到繁體中文輸入，如果有就perfect。']\n",
      "Getting page 28...\n",
      "URL: https://www.hktvmall.com/hktv/zh/main/Vertex-恆進/s/S1076001/電子電器/電子電器/手機及平板電腦/手提電話/智能電話/Lenovo-K5-Play-智能手機/p/S1076001_S_193268748026\n",
      "0 comments retrieved from this page with an average rate of 0.0\n",
      "Getting page 29...\n",
      "URL: https://www.hktvmall.com/hktv/zh/main/Mob-hk/s/H0762001/電子電器/電子電器/電腦及週邊設備/平板電腦/Galaxy-Tab-S4-WiFi-64GB-灰色/p/H0762001_S_Tab-S4-Wifi-T830-64GB-GY-800670036\n",
      "0 comments retrieved from this page with an average rate of 0.0\n",
      "Getting page 30...\n",
      "URL: https://www.hktvmall.com/hktv/zh/main/OB-House/s/H5023001/電子電器/電子電器/手機及平板電腦/平板電腦/Tab-4-10-Plus-TBX704F-優質-101-吋平板電腦配備-ZA2M0000HK-高質陳列品/p/H5023001_S_ZA2M0000HK\n",
      "2 comments retrieved from this page with an average rate of 4.0\n",
      "['H5023001_S_ZA2M0000HK', 'MM Lau', ' 2019-07-05 ', 4, '雖然係陳列品，但質素唔錯，用咗幾日冇乜問題，平平地抵玩。']\n",
      "['H5023001_S_ZA2M0000HK', 'Yee Ching Mok', ' 2019-02-25 ', 4, '很好，售後服務很好']\n",
      "Getting page 31...\n",
      "URL: https://www.hktvmall.com/hktv/zh/main/蔡氏數碼科技(集團)有限公司/s/H7094001/電子電器/電子電器/電腦及週邊設備/周邊設備/鍵盤-滑鼠/鍵盤/NAME/p/H7094001_S_JBLTEST\n",
      "0 comments retrieved from this page with an average rate of 0.0\n",
      "Getting page 32...\n",
      "URL: https://www.hktvmall.com/hktv/zh/main/Metro-com/s/G5031001/電子電器/電子電器/手機及平板電腦/平板電腦/102inch-iPad-WiFi-2019-32GB-大空灰-HK行貨/p/G5031001_S_MW742\n",
      "0 comments retrieved from this page with an average rate of 0.0\n",
      "Getting page 33...\n",
      "URL: https://www.hktvmall.com/hktv/zh/main/Metro-com/s/G5031001/電子電器/電子電器/手機及平板電腦/平板電腦/102inch-iPad-WiFi-2019-128GB-太空灰-HK行貨/p/G5031001_S_MW772\n",
      "0 comments retrieved from this page with an average rate of 0.0\n",
      "Getting page 34...\n",
      "URL: https://www.hktvmall.com/hktv/zh/main/Metro-com/s/G5031001/電子電器/電子電器/手機及平板電腦/平板電腦/102inch-iPad-WiFi-Cellular-2019-128GB-太空灰-HK行貨/p/G5031001_S_MW6E2\n",
      "0 comments retrieved from this page with an average rate of 0.0\n"
     ]
    }
   ],
   "source": [
    "url = \"https://www.hktvmall.com/hktv/zh/search?page=1&q=%3Arelevance%3Acategory%3AAA32301500001%3Azone%3Ahomenfamily%3Astreet%3Amain%3A\"\n",
    "soup = run_asyncio(get_item_page, url)\n",
    "if not correct_page(soup):\n",
    "    print(\"Problem with page source... aborted, please run again\")\n",
    "else:\n",
    "    p, c = extract_and_store(soup, \"tablet\")\n",
    "    p.to_csv(\"./data/HKTVMall/Products_HKTVMall_tablet2.csv\", sep=',', na_rep='N/A', encoding=\"utf_8_sig\")\n",
    "    c.to_csv(\"./data/HKTVMall/Customers_HKTVMall_tablet2.csv\", sep=',', na_rep='N/A', encoding=\"utf_8_sig\")"
   ]
  },
  {
   "cell_type": "code",
   "execution_count": null,
   "metadata": {},
   "outputs": [],
   "source": []
  }
 ],
 "metadata": {
  "colab": {
   "collapsed_sections": [],
   "name": "crawl_HKTVmall.ipynb",
   "provenance": []
  },
  "kernelspec": {
   "display_name": "Python 3",
   "language": "python",
   "name": "python3"
  },
  "language_info": {
   "codemirror_mode": {
    "name": "ipython",
    "version": 3
   },
   "file_extension": ".py",
   "mimetype": "text/x-python",
   "name": "python",
   "nbconvert_exporter": "python",
   "pygments_lexer": "ipython3",
   "version": "3.7.0"
  }
 },
 "nbformat": 4,
 "nbformat_minor": 1
}
