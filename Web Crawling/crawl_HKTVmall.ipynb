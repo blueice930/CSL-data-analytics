{
 "cells": [
  {
   "cell_type": "markdown",
   "metadata": {
    "colab_type": "text",
    "id": "N5Uefb1d1jA0"
   },
   "source": [
    "## Website\n",
    "https://www.hktvmall.com/hktv/zh/homenfamily"
   ]
  },
  {
   "cell_type": "markdown",
   "metadata": {},
   "source": [
    "## Environment and Imports\n",
    "No need to run the cell below if you have already installed the packages"
   ]
  },
  {
   "cell_type": "code",
   "execution_count": 1,
   "metadata": {
    "colab": {
     "base_uri": "https://localhost:8080/",
     "height": 119
    },
    "colab_type": "code",
    "executionInfo": {
     "elapsed": 3979,
     "status": "ok",
     "timestamp": 1570097009981,
     "user": {
      "displayName": "Taito C",
      "photoUrl": "https://lh3.googleusercontent.com/a-/AAuE7mDpybaj_DlTB1GsXFeTCz86kdSLAbD1Z9TmcOYzgkQ=s64",
      "userId": "12838637656458653008"
     },
     "user_tz": -480
    },
    "id": "spVhs0um0boM",
    "outputId": "52032265-eeb5-4526-a2b2-b41dcd85abbe"
   },
   "outputs": [
    {
     "name": "stdout",
     "output_type": "stream",
     "text": [
      "Requirement already satisfied: pyppeteer in /Library/Frameworks/Python.framework/Versions/3.7/lib/python3.7/site-packages (0.0.25)\n",
      "Requirement already satisfied: urllib3 in /Library/Frameworks/Python.framework/Versions/3.7/lib/python3.7/site-packages (from pyppeteer) (1.24.3)\n",
      "Requirement already satisfied: pyee in /Library/Frameworks/Python.framework/Versions/3.7/lib/python3.7/site-packages (from pyppeteer) (6.0.0)\n",
      "Requirement already satisfied: tqdm in /Library/Frameworks/Python.framework/Versions/3.7/lib/python3.7/site-packages (from pyppeteer) (4.36.1)\n",
      "Requirement already satisfied: appdirs in /Library/Frameworks/Python.framework/Versions/3.7/lib/python3.7/site-packages (from pyppeteer) (1.4.3)\n",
      "Requirement already satisfied: websockets in /Library/Frameworks/Python.framework/Versions/3.7/lib/python3.7/site-packages (from pyppeteer) (8.0.2)\n",
      "Requirement already satisfied: pandas in /Library/Frameworks/Python.framework/Versions/3.7/lib/python3.7/site-packages (0.25.0)\n",
      "Requirement already satisfied: numpy>=1.13.3 in /Library/Frameworks/Python.framework/Versions/3.7/lib/python3.7/site-packages (from pandas) (1.17.0)\n",
      "Requirement already satisfied: pytz>=2017.2 in /Library/Frameworks/Python.framework/Versions/3.7/lib/python3.7/site-packages (from pandas) (2019.2)\n",
      "Requirement already satisfied: python-dateutil>=2.6.1 in /Library/Frameworks/Python.framework/Versions/3.7/lib/python3.7/site-packages (from pandas) (2.7.5)\n",
      "Requirement already satisfied: six>=1.5 in /Library/Frameworks/Python.framework/Versions/3.7/lib/python3.7/site-packages (from python-dateutil>=2.6.1->pandas) (1.11.0)\n"
     ]
    }
   ],
   "source": [
    "!pip install pyppeteer\n",
    "!pip install pandas"
   ]
  },
  {
   "cell_type": "code",
   "execution_count": 2,
   "metadata": {
    "colab": {},
    "colab_type": "code",
    "id": "-KeXQ35c1LoS"
   },
   "outputs": [],
   "source": [
    "from pyppeteer import launch\n",
    "import asyncio\n",
    "import nest_asyncio\n",
    "import re\n",
    "import pandas as pd\n",
    "import urllib.parse\n",
    "from bs4 import BeautifulSoup as bs"
   ]
  },
  {
   "cell_type": "code",
   "execution_count": 3,
   "metadata": {},
   "outputs": [],
   "source": [
    "nest_asyncio.apply()\n",
    "pd.set_option('display.max_columns', None)\n",
    "pd.set_option('display.width', 500)\n",
    "pd.set_option('display.max_colwidth', 500)"
   ]
  },
  {
   "cell_type": "code",
   "execution_count": 4,
   "metadata": {},
   "outputs": [],
   "source": [
    "def run_asyncio(func, args=None):\n",
    "    return asyncio.get_event_loop().run_until_complete(func(args))"
   ]
  },
  {
   "cell_type": "markdown",
   "metadata": {
    "colab": {},
    "colab_type": "code",
    "id": "Qy4ELU1m1Lqn"
   },
   "source": [
    "## Getting Pages"
   ]
  },
  {
   "cell_type": "code",
   "execution_count": 5,
   "metadata": {},
   "outputs": [],
   "source": [
    "TABLET = 0\n",
    "LAPTOP = 1\n",
    "PHONE = 2\n",
    "urls = [\n",
    "    \"https://www.hktvmall.com/hktv/zh/search?page=0&q=%3Arelevance%3Acategory%3AAA32301500001%3Azone%3Ahomenfamily%3Astreet%3Amain%3A\",\n",
    "    \"https://www.hktvmall.com/hktv/zh/search?page=0&q=%3Arelevance%3Acategory%3AAA32300500001%3Azone%3Ahomenfamily%3Astreet%3Amain%3A\",\n",
    "    \"https://www.hktvmall.com/hktv/zh/search?page=0&q=%3Arelevance%3Acategory%3AAA32201010001%3Azone%3Ahomenfamily%3Astreet%3Amain%3A\"\n",
    "]"
   ]
  },
  {
   "cell_type": "code",
   "execution_count": 6,
   "metadata": {},
   "outputs": [],
   "source": [
    "# https://www.hktvmall.com/hktv/zh/search?categoryTag=AA32301500001 tablet\n",
    "# https://www.hktvmall.com/hktv/zh/search?categoryTag=AA32300500001 laptop\n",
    "# https://www.hktvmall.com/hktv/zh/search?categoryTag=AA32201010001 smartphone\n",
    "pd.set_option('display.max_columns', None)\n",
    "pd.set_option('display.width', 500)\n",
    "pd.set_option('display.max_colwidth', 50)"
   ]
  },
  {
   "cell_type": "code",
   "execution_count": 7,
   "metadata": {},
   "outputs": [],
   "source": [
    "async def get_item_page(url: str):\n",
    "    '''\n",
    "    get the web page\n",
    "    params:\n",
    "        url: str, url of the web page\n",
    "    return: \n",
    "        page: pyppeteer.page.Page, the web page\n",
    "    '''\n",
    "    browser = await launch()\n",
    "    page = await browser.newPage()\n",
    "    await page.setJavaScriptEnabled(enabled=True)\n",
    "    await page.goto(url)\n",
    "    soup = bs((await page.content()), \"lxml\")\n",
    "    await browser.close()\n",
    "    return soup"
   ]
  },
  {
   "cell_type": "code",
   "execution_count": 8,
   "metadata": {},
   "outputs": [],
   "source": [
    "def get_page_num(page):\n",
    "    '''\n",
    "    get number of page of the current category\n",
    "    params:\n",
    "        page: BeautifulSoup, the bs object of the webpage\n",
    "    return:\n",
    "        str\n",
    "    '''\n",
    "    page_string = re.findall(r\"/共\\d+頁\", str(page))\n",
    "    return page_string"
   ]
  },
  {
   "cell_type": "code",
   "execution_count": 9,
   "metadata": {},
   "outputs": [],
   "source": [
    "def correct_page(page):\n",
    "    return (len(get_page_num(page)) > 0)"
   ]
  },
  {
   "cell_type": "markdown",
   "metadata": {},
   "source": [
    "## Extracting Information"
   ]
  },
  {
   "cell_type": "code",
   "execution_count": 10,
   "metadata": {},
   "outputs": [],
   "source": [
    "def handle_price(price_str):\n",
    "    price_str = price_str.replace(\"$\", '').replace(\",\", '')\n",
    "    return float(price_str)"
   ]
  },
  {
   "cell_type": "code",
   "execution_count": 11,
   "metadata": {},
   "outputs": [],
   "source": [
    "def store_customer_review(url, soup, customers):\n",
    "    '''\n",
    "    store the review of customers\n",
    "    params:\n",
    "        url: str, url of the page\n",
    "        soup: BeautifulSoup, soup of the page\n",
    "        customers: Dictionary, customer review to be placed in DataFrame\n",
    "    '''\n",
    "    ind = url.split(\"/\")[-1]\n",
    "    review_list = soup.find_all(\"div\", {\"class\": \"product-review-wrapper\"})\n",
    "    pattern = re.compile(\"(?<=\\\\xa0).*\") # e.g. \"評論 :\\xa0Excellent\"\n",
    "\n",
    "    for review in review_list:\n",
    "        name = review.find(\"span\", {\"class\": \"review-username\"}).text\n",
    "        date = review.find(\"span\", {\"class\": \"review-date\"}).text\n",
    "        rate = len(review.find_all(\"span\", {\"class\": \"star\"}))\n",
    "        content = str(review.find(\"div\", {\"class\": \"review-title\"}).text)\n",
    "        content = pattern.findall(content)[0]\n",
    "        \n",
    "        customers[\"product_index\"].append(ind)\n",
    "        customers[\"username\"].append(name)\n",
    "        customers[\"rate_date\"].append(date)\n",
    "        customers[\"user_rate\"].append(rate)\n",
    "        customers[\"buyer_comment\"].append(content)\n",
    "        \n",
    "        print([ind, name, date, rate, content])\n",
    "        "
   ]
  },
  {
   "cell_type": "code",
   "execution_count": 12,
   "metadata": {},
   "outputs": [],
   "source": [
    "def extract_and_store(soup_of_page, p_type):\n",
    "    '''\n",
    "    extract relevant information for the product\n",
    "    params:\n",
    "        soup_of_page: BeautifulSoup object of the page\n",
    "        p_type: str, type of product, tablet, smartphone, or laptop\n",
    "    return:\n",
    "        products: DataFrame in pandas that stores relevant information\n",
    "    '''\n",
    "    \n",
    "    BASE_URL = \"https://www.hktvmall.com/hktv/zh/\"\n",
    "    brand_product_name_list = soup_of_page.find_all(\"div\", class_=\"brand-product-name\")\n",
    "    # https://stackoverflow.com/questions/11205386/python-beautifulsoup-get-an-attribute-value-based-on-the-name-attribute\n",
    "    product_id = soup_of_page.find_all(\"div\", {\"class\":\"product-brief\"})\n",
    "    index_list = [pid.attrs[\"data-id\"] for pid in product_id]\n",
    "    price_list = soup_of_page.find_all(\"div\", {\"class\": \"price\"})\n",
    "    seller_list = soup_of_page.select(\".product-brief > a\")\n",
    "\n",
    "    ###### attributes to be placed in product csv file ######\n",
    "    products = {\n",
    "        \"product_index\": index_list,\n",
    "        \"product_type\": [],\n",
    "        \"product_brand\": [],\n",
    "        \"product_name\": [],\n",
    "        \"product_price\": [],\n",
    "        \"average_rate\": [],\n",
    "        \"no_of_rates\": [],\n",
    "        \"seller\": [],\n",
    "        \"website\": []\n",
    "    }\n",
    "    \n",
    "    customers = {\n",
    "        \"product_index\": [],\n",
    "        \"username\": [],\n",
    "        \"rate_date\": [],\n",
    "        \"user_rate\": [],\n",
    "        \"buyer_comment\": []\n",
    "    }\n",
    "\n",
    "    ###### add attributes ######\n",
    "    for price in price_list:\n",
    "        products[\"product_price\"].append(handle_price(price.text))\n",
    "\n",
    "    for seller in seller_list:\n",
    "        seller = seller.attrs[\"href\"]\n",
    "        products[\"website\"].append(urllib.parse.unquote(BASE_URL + seller))\n",
    "        seller = seller.split(\"/\")[1]    \n",
    "        products[\"seller\"].append(urllib.parse.unquote(seller))\n",
    "    \n",
    "\n",
    "    for i, bpn in enumerate(brand_product_name_list):\n",
    "        s = bpn.text.split(\" - \", 1)\n",
    "        products[\"product_type\"].append(p_type)\n",
    "        products[\"product_brand\"].append(s[0])\n",
    "        products[\"product_name\"].append(s[1])\n",
    "    \n",
    "    products[\"average_rate\"] = []\n",
    "    products[\"no_of_rates\"] = []\n",
    "    for i in range(len(products[\"website\"])):\n",
    "        while True:\n",
    "            try:\n",
    "                print(\"Getting page \" + str(i + 1) + \"...\")\n",
    "                print(\"URL: \" + products[\"website\"][i])\n",
    "                soup = run_asyncio(get_item_page, products[\"website\"][i])\n",
    "                avg_rating = soup.find(\"span\", {\"class\": \"averageRating\"})\n",
    "                comment_num = soup.find(\"span\", {\"class\": \"comment\"})\n",
    "                products[\"average_rate\"].append(avg_rating.text)\n",
    "    \n",
    "                comment_num = int(re.findall(r\"\\d+\", comment_num.text)[0])\n",
    "                print(str(comment_num) + \" comments retrieved from this page with an average rate of \" + str(avg_rating.text))\n",
    "                products[\"no_of_rates\"].append(comment_num)\n",
    "        \n",
    "                if comment_num > 0:\n",
    "                    store_customer_review(products[\"website\"][i], soup, customers)\n",
    "            \n",
    "            except:\n",
    "                print(\"Error when getting page: ... running again\")\n",
    "                continue\n",
    "                \n",
    "            break\n",
    "    \n",
    "    products_df = pd.DataFrame(products)\n",
    "    customers_df = pd.DataFrame(customers)\n",
    "    return products_df, customers_df"
   ]
  },
  {
   "cell_type": "markdown",
   "metadata": {},
   "source": [
    "## Run"
   ]
  },
  {
   "cell_type": "code",
   "execution_count": 17,
   "metadata": {},
   "outputs": [
    {
     "ename": "OSError",
     "evalue": "[Errno 24] Too many open files",
     "output_type": "error",
     "traceback": [
      "\u001b[0;31m---------------------------------------------------------------------------\u001b[0m",
      "\u001b[0;31mOSError\u001b[0m                                   Traceback (most recent call last)",
      "\u001b[0;32m<ipython-input-17-97226aba1b27>\u001b[0m in \u001b[0;36m<module>\u001b[0;34m\u001b[0m\n\u001b[1;32m      1\u001b[0m \u001b[0murl\u001b[0m \u001b[0;34m=\u001b[0m \u001b[0;34m\"https://www.hktvmall.com/hktv/zh/search?page=8&q=%3Arelevance%3Acategory%3AAA32201010001%3Azone%3Ahomenfamily%3Astreet%3Amain%3A\"\u001b[0m\u001b[0;34m\u001b[0m\u001b[0m\n\u001b[0;32m----> 2\u001b[0;31m \u001b[0msoup\u001b[0m \u001b[0;34m=\u001b[0m \u001b[0mrun_asyncio\u001b[0m\u001b[0;34m(\u001b[0m\u001b[0mget_item_page\u001b[0m\u001b[0;34m,\u001b[0m \u001b[0murl\u001b[0m\u001b[0;34m)\u001b[0m\u001b[0;34m\u001b[0m\u001b[0m\n\u001b[0m\u001b[1;32m      3\u001b[0m \u001b[0;32mwhile\u001b[0m \u001b[0;32mnot\u001b[0m \u001b[0mcorrect_page\u001b[0m\u001b[0;34m(\u001b[0m\u001b[0msoup\u001b[0m\u001b[0;34m)\u001b[0m\u001b[0;34m:\u001b[0m\u001b[0;34m\u001b[0m\u001b[0m\n\u001b[1;32m      4\u001b[0m     \u001b[0mprint\u001b[0m\u001b[0;34m(\u001b[0m\u001b[0;34m\"Problem with page source... aborted, running again\"\u001b[0m\u001b[0;34m)\u001b[0m\u001b[0;34m\u001b[0m\u001b[0m\n\u001b[1;32m      5\u001b[0m     \u001b[0msoup\u001b[0m \u001b[0;34m=\u001b[0m \u001b[0mrun_asyncio\u001b[0m\u001b[0;34m(\u001b[0m\u001b[0mget_item_page\u001b[0m\u001b[0;34m,\u001b[0m \u001b[0murl\u001b[0m\u001b[0;34m)\u001b[0m\u001b[0;34m\u001b[0m\u001b[0m\n",
      "\u001b[0;32m<ipython-input-4-ad6da67d8e59>\u001b[0m in \u001b[0;36mrun_asyncio\u001b[0;34m(func, args)\u001b[0m\n\u001b[1;32m      1\u001b[0m \u001b[0;32mdef\u001b[0m \u001b[0mrun_asyncio\u001b[0m\u001b[0;34m(\u001b[0m\u001b[0mfunc\u001b[0m\u001b[0;34m,\u001b[0m \u001b[0margs\u001b[0m\u001b[0;34m=\u001b[0m\u001b[0;32mNone\u001b[0m\u001b[0;34m)\u001b[0m\u001b[0;34m:\u001b[0m\u001b[0;34m\u001b[0m\u001b[0m\n\u001b[0;32m----> 2\u001b[0;31m     \u001b[0;32mreturn\u001b[0m \u001b[0masyncio\u001b[0m\u001b[0;34m.\u001b[0m\u001b[0mget_event_loop\u001b[0m\u001b[0;34m(\u001b[0m\u001b[0;34m)\u001b[0m\u001b[0;34m.\u001b[0m\u001b[0mrun_until_complete\u001b[0m\u001b[0;34m(\u001b[0m\u001b[0mfunc\u001b[0m\u001b[0;34m(\u001b[0m\u001b[0margs\u001b[0m\u001b[0;34m)\u001b[0m\u001b[0;34m)\u001b[0m\u001b[0;34m\u001b[0m\u001b[0m\n\u001b[0m",
      "\u001b[0;32m/Library/Frameworks/Python.framework/Versions/3.7/lib/python3.7/asyncio/base_events.py\u001b[0m in \u001b[0;36mrun_until_complete\u001b[0;34m(self, future)\u001b[0m\n\u001b[1;32m    566\u001b[0m             \u001b[0;32mraise\u001b[0m \u001b[0mRuntimeError\u001b[0m\u001b[0;34m(\u001b[0m\u001b[0;34m'Event loop stopped before Future completed.'\u001b[0m\u001b[0;34m)\u001b[0m\u001b[0;34m\u001b[0m\u001b[0m\n\u001b[1;32m    567\u001b[0m \u001b[0;34m\u001b[0m\u001b[0m\n\u001b[0;32m--> 568\u001b[0;31m         \u001b[0;32mreturn\u001b[0m \u001b[0mfuture\u001b[0m\u001b[0;34m.\u001b[0m\u001b[0mresult\u001b[0m\u001b[0;34m(\u001b[0m\u001b[0;34m)\u001b[0m\u001b[0;34m\u001b[0m\u001b[0m\n\u001b[0m\u001b[1;32m    569\u001b[0m \u001b[0;34m\u001b[0m\u001b[0m\n\u001b[1;32m    570\u001b[0m     \u001b[0;32mdef\u001b[0m \u001b[0mstop\u001b[0m\u001b[0;34m(\u001b[0m\u001b[0mself\u001b[0m\u001b[0;34m)\u001b[0m\u001b[0;34m:\u001b[0m\u001b[0;34m\u001b[0m\u001b[0m\n",
      "\u001b[0;32m/Library/Frameworks/Python.framework/Versions/3.7/lib/python3.7/asyncio/futures.py\u001b[0m in \u001b[0;36mresult\u001b[0;34m(self)\u001b[0m\n\u001b[1;32m    176\u001b[0m         \u001b[0mself\u001b[0m\u001b[0;34m.\u001b[0m\u001b[0m__log_traceback\u001b[0m \u001b[0;34m=\u001b[0m \u001b[0;32mFalse\u001b[0m\u001b[0;34m\u001b[0m\u001b[0m\n\u001b[1;32m    177\u001b[0m         \u001b[0;32mif\u001b[0m \u001b[0mself\u001b[0m\u001b[0;34m.\u001b[0m\u001b[0m_exception\u001b[0m \u001b[0;32mis\u001b[0m \u001b[0;32mnot\u001b[0m \u001b[0;32mNone\u001b[0m\u001b[0;34m:\u001b[0m\u001b[0;34m\u001b[0m\u001b[0m\n\u001b[0;32m--> 178\u001b[0;31m             \u001b[0;32mraise\u001b[0m \u001b[0mself\u001b[0m\u001b[0;34m.\u001b[0m\u001b[0m_exception\u001b[0m\u001b[0;34m\u001b[0m\u001b[0m\n\u001b[0m\u001b[1;32m    179\u001b[0m         \u001b[0;32mreturn\u001b[0m \u001b[0mself\u001b[0m\u001b[0;34m.\u001b[0m\u001b[0m_result\u001b[0m\u001b[0;34m\u001b[0m\u001b[0m\n\u001b[1;32m    180\u001b[0m \u001b[0;34m\u001b[0m\u001b[0m\n",
      "\u001b[0;32m/Library/Frameworks/Python.framework/Versions/3.7/lib/python3.7/asyncio/tasks.py\u001b[0m in \u001b[0;36m__step\u001b[0;34m(***failed resolving arguments***)\u001b[0m\n\u001b[1;32m    217\u001b[0m                 \u001b[0;31m# We use the `send` method directly, because coroutines\u001b[0m\u001b[0;34m\u001b[0m\u001b[0;34m\u001b[0m\u001b[0m\n\u001b[1;32m    218\u001b[0m                 \u001b[0;31m# don't have `__iter__` and `__next__` methods.\u001b[0m\u001b[0;34m\u001b[0m\u001b[0;34m\u001b[0m\u001b[0m\n\u001b[0;32m--> 219\u001b[0;31m                 \u001b[0mresult\u001b[0m \u001b[0;34m=\u001b[0m \u001b[0mcoro\u001b[0m\u001b[0;34m.\u001b[0m\u001b[0msend\u001b[0m\u001b[0;34m(\u001b[0m\u001b[0;32mNone\u001b[0m\u001b[0;34m)\u001b[0m\u001b[0;34m\u001b[0m\u001b[0m\n\u001b[0m\u001b[1;32m    220\u001b[0m             \u001b[0;32melse\u001b[0m\u001b[0;34m:\u001b[0m\u001b[0;34m\u001b[0m\u001b[0m\n\u001b[1;32m    221\u001b[0m                 \u001b[0mresult\u001b[0m \u001b[0;34m=\u001b[0m \u001b[0mcoro\u001b[0m\u001b[0;34m.\u001b[0m\u001b[0mthrow\u001b[0m\u001b[0;34m(\u001b[0m\u001b[0mexc\u001b[0m\u001b[0;34m)\u001b[0m\u001b[0;34m\u001b[0m\u001b[0m\n",
      "\u001b[0;32m<ipython-input-7-f51f3f1df81c>\u001b[0m in \u001b[0;36mget_item_page\u001b[0;34m(url)\u001b[0m\n\u001b[1;32m      7\u001b[0m         \u001b[0mpage\u001b[0m\u001b[0;34m:\u001b[0m \u001b[0mpyppeteer\u001b[0m\u001b[0;34m.\u001b[0m\u001b[0mpage\u001b[0m\u001b[0;34m.\u001b[0m\u001b[0mPage\u001b[0m\u001b[0;34m,\u001b[0m \u001b[0mthe\u001b[0m \u001b[0mweb\u001b[0m \u001b[0mpage\u001b[0m\u001b[0;34m\u001b[0m\u001b[0m\n\u001b[1;32m      8\u001b[0m     '''\n\u001b[0;32m----> 9\u001b[0;31m     \u001b[0mbrowser\u001b[0m \u001b[0;34m=\u001b[0m \u001b[0;32mawait\u001b[0m \u001b[0mlaunch\u001b[0m\u001b[0;34m(\u001b[0m\u001b[0;34m)\u001b[0m\u001b[0;34m\u001b[0m\u001b[0m\n\u001b[0m\u001b[1;32m     10\u001b[0m     \u001b[0mpage\u001b[0m \u001b[0;34m=\u001b[0m \u001b[0;32mawait\u001b[0m \u001b[0mbrowser\u001b[0m\u001b[0;34m.\u001b[0m\u001b[0mnewPage\u001b[0m\u001b[0;34m(\u001b[0m\u001b[0;34m)\u001b[0m\u001b[0;34m\u001b[0m\u001b[0m\n\u001b[1;32m     11\u001b[0m     \u001b[0;32mawait\u001b[0m \u001b[0mpage\u001b[0m\u001b[0;34m.\u001b[0m\u001b[0msetJavaScriptEnabled\u001b[0m\u001b[0;34m(\u001b[0m\u001b[0menabled\u001b[0m\u001b[0;34m=\u001b[0m\u001b[0;32mTrue\u001b[0m\u001b[0;34m)\u001b[0m\u001b[0;34m\u001b[0m\u001b[0m\n",
      "\u001b[0;32m/Library/Frameworks/Python.framework/Versions/3.7/lib/python3.7/site-packages/pyppeteer/launcher.py\u001b[0m in \u001b[0;36mlaunch\u001b[0;34m(options, **kwargs)\u001b[0m\n\u001b[1;32m    309\u001b[0m         \u001b[0moption\u001b[0m \u001b[0;32mwith\u001b[0m \u001b[0mextreme\u001b[0m \u001b[0mcaution\u001b[0m\u001b[0;34m.\u001b[0m\u001b[0;34m\u001b[0m\u001b[0m\n\u001b[1;32m    310\u001b[0m     \"\"\"\n\u001b[0;32m--> 311\u001b[0;31m     \u001b[0;32mreturn\u001b[0m \u001b[0;32mawait\u001b[0m \u001b[0mLauncher\u001b[0m\u001b[0;34m(\u001b[0m\u001b[0moptions\u001b[0m\u001b[0;34m,\u001b[0m \u001b[0;34m**\u001b[0m\u001b[0mkwargs\u001b[0m\u001b[0;34m)\u001b[0m\u001b[0;34m.\u001b[0m\u001b[0mlaunch\u001b[0m\u001b[0;34m(\u001b[0m\u001b[0;34m)\u001b[0m\u001b[0;34m\u001b[0m\u001b[0m\n\u001b[0m\u001b[1;32m    312\u001b[0m \u001b[0;34m\u001b[0m\u001b[0m\n\u001b[1;32m    313\u001b[0m \u001b[0;34m\u001b[0m\u001b[0m\n",
      "\u001b[0;32m/Library/Frameworks/Python.framework/Versions/3.7/lib/python3.7/site-packages/pyppeteer/launcher.py\u001b[0m in \u001b[0;36mlaunch\u001b[0;34m(self)\u001b[0m\n\u001b[1;32m    167\u001b[0m         self.proc = subprocess.Popen(  # type: ignore\n\u001b[1;32m    168\u001b[0m             \u001b[0mself\u001b[0m\u001b[0;34m.\u001b[0m\u001b[0mcmd\u001b[0m\u001b[0;34m,\u001b[0m\u001b[0;34m\u001b[0m\u001b[0m\n\u001b[0;32m--> 169\u001b[0;31m             \u001b[0;34m**\u001b[0m\u001b[0moptions\u001b[0m\u001b[0;34m,\u001b[0m\u001b[0;34m\u001b[0m\u001b[0m\n\u001b[0m\u001b[1;32m    170\u001b[0m         )\n\u001b[1;32m    171\u001b[0m \u001b[0;34m\u001b[0m\u001b[0m\n",
      "\u001b[0;32m/Library/Frameworks/Python.framework/Versions/3.7/lib/python3.7/subprocess.py\u001b[0m in \u001b[0;36m__init__\u001b[0;34m(self, args, bufsize, executable, stdin, stdout, stderr, preexec_fn, close_fds, shell, cwd, env, universal_newlines, startupinfo, creationflags, restore_signals, start_new_session, pass_fds, encoding, errors, text)\u001b[0m\n\u001b[1;32m    754\u001b[0m                                 \u001b[0mc2pread\u001b[0m\u001b[0;34m,\u001b[0m \u001b[0mc2pwrite\u001b[0m\u001b[0;34m,\u001b[0m\u001b[0;34m\u001b[0m\u001b[0m\n\u001b[1;32m    755\u001b[0m                                 \u001b[0merrread\u001b[0m\u001b[0;34m,\u001b[0m \u001b[0merrwrite\u001b[0m\u001b[0;34m,\u001b[0m\u001b[0;34m\u001b[0m\u001b[0m\n\u001b[0;32m--> 756\u001b[0;31m                                 restore_signals, start_new_session)\n\u001b[0m\u001b[1;32m    757\u001b[0m         \u001b[0;32mexcept\u001b[0m\u001b[0;34m:\u001b[0m\u001b[0;34m\u001b[0m\u001b[0m\n\u001b[1;32m    758\u001b[0m             \u001b[0;31m# Cleanup if the child failed starting.\u001b[0m\u001b[0;34m\u001b[0m\u001b[0;34m\u001b[0m\u001b[0m\n",
      "\u001b[0;32m/Library/Frameworks/Python.framework/Versions/3.7/lib/python3.7/subprocess.py\u001b[0m in \u001b[0;36m_execute_child\u001b[0;34m(self, args, executable, preexec_fn, close_fds, pass_fds, cwd, env, startupinfo, creationflags, shell, p2cread, p2cwrite, c2pread, c2pwrite, errread, errwrite, restore_signals, start_new_session)\u001b[0m\n\u001b[1;32m   1387\u001b[0m             \u001b[0;31m# Data format: \"exception name:hex errno:description\"\u001b[0m\u001b[0;34m\u001b[0m\u001b[0;34m\u001b[0m\u001b[0m\n\u001b[1;32m   1388\u001b[0m             \u001b[0;31m# Pickle is not used; it is complex and involves memory allocation.\u001b[0m\u001b[0;34m\u001b[0m\u001b[0;34m\u001b[0m\u001b[0m\n\u001b[0;32m-> 1389\u001b[0;31m             \u001b[0merrpipe_read\u001b[0m\u001b[0;34m,\u001b[0m \u001b[0merrpipe_write\u001b[0m \u001b[0;34m=\u001b[0m \u001b[0mos\u001b[0m\u001b[0;34m.\u001b[0m\u001b[0mpipe\u001b[0m\u001b[0;34m(\u001b[0m\u001b[0;34m)\u001b[0m\u001b[0;34m\u001b[0m\u001b[0m\n\u001b[0m\u001b[1;32m   1390\u001b[0m             \u001b[0;31m# errpipe_write must not be in the standard io 0, 1, or 2 fd range.\u001b[0m\u001b[0;34m\u001b[0m\u001b[0;34m\u001b[0m\u001b[0m\n\u001b[1;32m   1391\u001b[0m             \u001b[0mlow_fds_to_close\u001b[0m \u001b[0;34m=\u001b[0m \u001b[0;34m[\u001b[0m\u001b[0;34m]\u001b[0m\u001b[0;34m\u001b[0m\u001b[0m\n",
      "\u001b[0;31mOSError\u001b[0m: [Errno 24] Too many open files"
     ]
    }
   ],
   "source": [
    "url = \"https://www.hktvmall.com/hktv/zh/search?page=8&q=%3Arelevance%3Acategory%3AAA32201010001%3Azone%3Ahomenfamily%3Astreet%3Amain%3A\"\n",
    "soup = run_asyncio(get_item_page, url)\n",
    "while not correct_page(soup):\n",
    "    print(\"Problem with page source... aborted, running again\")\n",
    "    soup = run_asyncio(get_item_page, url)\n",
    "\n",
    "p, c = extract_and_store(soup, \"smartphone\")\n",
    "p.to_csv(\"./data/HKTVMall/Products_HKTVMall_smartphone9.csv\", sep=',', na_rep='N/A', encoding=\"utf_8_sig\")\n",
    "c.to_csv(\"./data/HKTVMall/Customers_HKTVMall_smartphone9.csv\", sep=',', na_rep='N/A', encoding=\"utf_8_sig\")"
   ]
  },
  {
   "cell_type": "code",
   "execution_count": null,
   "metadata": {},
   "outputs": [],
   "source": []
  }
 ],
 "metadata": {
  "colab": {
   "collapsed_sections": [],
   "name": "crawl_HKTVmall.ipynb",
   "provenance": []
  },
  "kernelspec": {
   "display_name": "Python 3",
   "language": "python",
   "name": "python3"
  },
  "language_info": {
   "codemirror_mode": {
    "name": "ipython",
    "version": 3
   },
   "file_extension": ".py",
   "mimetype": "text/x-python",
   "name": "python",
   "nbconvert_exporter": "python",
   "pygments_lexer": "ipython3",
   "version": "3.7.0"
  }
 },
 "nbformat": 4,
 "nbformat_minor": 1
}
