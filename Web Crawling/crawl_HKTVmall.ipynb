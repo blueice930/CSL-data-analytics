{
 "cells": [
  {
   "cell_type": "markdown",
   "metadata": {
    "colab_type": "text",
    "id": "N5Uefb1d1jA0"
   },
   "source": [
    "## Website\n",
    "https://www.hktvmall.com/hktv/zh/homenfamily"
   ]
  },
  {
   "cell_type": "markdown",
   "metadata": {},
   "source": [
    "## Environment and Imports\n",
    "No need to run the cell below if you have already installed the packages"
   ]
  },
  {
   "cell_type": "code",
   "execution_count": 116,
   "metadata": {
    "colab": {
     "base_uri": "https://localhost:8080/",
     "height": 119
    },
    "colab_type": "code",
    "executionInfo": {
     "elapsed": 3979,
     "status": "ok",
     "timestamp": 1570097009981,
     "user": {
      "displayName": "Taito C",
      "photoUrl": "https://lh3.googleusercontent.com/a-/AAuE7mDpybaj_DlTB1GsXFeTCz86kdSLAbD1Z9TmcOYzgkQ=s64",
      "userId": "12838637656458653008"
     },
     "user_tz": -480
    },
    "id": "spVhs0um0boM",
    "outputId": "52032265-eeb5-4526-a2b2-b41dcd85abbe"
   },
   "outputs": [
    {
     "name": "stdout",
     "output_type": "stream",
     "text": [
      "Requirement already satisfied: pyppeteer in /home/kaiwenxue3/anaconda3/lib/python3.7/site-packages (0.0.25)\n",
      "Requirement already satisfied: pyee in /home/kaiwenxue3/anaconda3/lib/python3.7/site-packages (from pyppeteer) (6.0.0)\n",
      "Requirement already satisfied: appdirs in /home/kaiwenxue3/anaconda3/lib/python3.7/site-packages (from pyppeteer) (1.4.3)\n",
      "Requirement already satisfied: websockets in /home/kaiwenxue3/anaconda3/lib/python3.7/site-packages (from pyppeteer) (8.0.2)\n",
      "Requirement already satisfied: urllib3 in /home/kaiwenxue3/anaconda3/lib/python3.7/site-packages (from pyppeteer) (1.24.2)\n",
      "Requirement already satisfied: tqdm in /home/kaiwenxue3/anaconda3/lib/python3.7/site-packages (from pyppeteer) (4.32.1)\n",
      "Requirement already satisfied: pandas in /home/kaiwenxue3/anaconda3/lib/python3.7/site-packages (0.24.2)\n",
      "Requirement already satisfied: pytz>=2011k in /home/kaiwenxue3/anaconda3/lib/python3.7/site-packages (from pandas) (2019.1)\n",
      "Requirement already satisfied: python-dateutil>=2.5.0 in /home/kaiwenxue3/anaconda3/lib/python3.7/site-packages (from pandas) (2.8.0)\n",
      "Requirement already satisfied: numpy>=1.12.0 in /home/kaiwenxue3/anaconda3/lib/python3.7/site-packages (from pandas) (1.16.4)\n",
      "Requirement already satisfied: six>=1.5 in /home/kaiwenxue3/anaconda3/lib/python3.7/site-packages (from python-dateutil>=2.5.0->pandas) (1.12.0)\n"
     ]
    }
   ],
   "source": [
    "!pip install pyppeteer\n",
    "!pip install pandas"
   ]
  },
  {
   "cell_type": "code",
   "execution_count": 115,
   "metadata": {
    "colab": {},
    "colab_type": "code",
    "id": "-KeXQ35c1LoS"
   },
   "outputs": [],
   "source": [
    "from pyppeteer import launch\n",
    "import asyncio\n",
    "import nest_asyncio\n",
    "import re\n",
    "import pandas as pd\n",
    "from bs4 import BeautifulSoup as bs"
   ]
  },
  {
   "cell_type": "code",
   "execution_count": 3,
   "metadata": {},
   "outputs": [],
   "source": [
    "nest_asyncio.apply()"
   ]
  },
  {
   "cell_type": "code",
   "execution_count": 4,
   "metadata": {},
   "outputs": [],
   "source": [
    "def run_asyncio(func, args=None):\n",
    "    return asyncio.get_event_loop().run_until_complete(func(args))"
   ]
  },
  {
   "cell_type": "markdown",
   "metadata": {
    "colab": {},
    "colab_type": "code",
    "id": "Qy4ELU1m1Lqn"
   },
   "source": [
    "## Getting Pages"
   ]
  },
  {
   "cell_type": "code",
   "execution_count": 76,
   "metadata": {},
   "outputs": [],
   "source": [
    "TABLET = 0\n",
    "LAPTOP = 1\n",
    "PHONE = 2\n",
    "urls = [\n",
    "    \"https://www.hktvmall.com/hktv/zh/search?page=0&q=%3Arelevance%3Acategory%3AAA32301500001%3Azone%3Ahomenfamily%3Astreet%3Amain%3A\",\n",
    "    \"https://www.hktvmall.com/hktv/zh/search?page=0&q=%3Arelevance%3Acategory%3AAA32300500001%3Azone%3Ahomenfamily%3Astreet%3Amain%3A\",\n",
    "    \"https://www.hktvmall.com/hktv/zh/search?page=0&q=%3Arelevance%3Acategory%3AAA32201010001%3Azone%3Ahomenfamily%3Astreet%3Amain%3A\"\n",
    "]"
   ]
  },
  {
   "cell_type": "code",
   "execution_count": 77,
   "metadata": {},
   "outputs": [],
   "source": [
    "# https://www.hktvmall.com/hktv/zh/search?categoryTag=AA32301500001 tablet\n",
    "# https://www.hktvmall.com/hktv/zh/search?categoryTag=AA32300500001 laptop\n",
    "# https://www.hktvmall.com/hktv/zh/search?categoryTag=AA32201010001 smartphone\n"
   ]
  },
  {
   "cell_type": "code",
   "execution_count": 78,
   "metadata": {},
   "outputs": [],
   "source": [
    "async def get_item_page(url: str):\n",
    "    '''\n",
    "    get the web page\n",
    "    params:\n",
    "        url: str, url of the web page\n",
    "    return: \n",
    "        page: pyppeteer.page.Page, the web page\n",
    "    '''\n",
    "    browser = await launch()\n",
    "    page = await browser.newPage()\n",
    "    await page.setJavaScriptEnabled(enabled=True)\n",
    "    await page.goto(url)\n",
    "    return page"
   ]
  },
  {
   "cell_type": "code",
   "execution_count": 102,
   "metadata": {},
   "outputs": [
    {
     "name": "stdout",
     "output_type": "stream",
     "text": [
      "平板電腦 | 香港電視 HKTVmall 網上購物\n",
      "手提電腦 | 香港電視 HKTVmall 網上購物\n",
      "智能電話 | 香港電視 HKTVmall 網上購物\n"
     ]
    }
   ],
   "source": [
    "category_pages = []\n",
    "category_pages_py = []\n",
    "for url in urls:\n",
    "    page = run_asyncio(get_item_page, url)\n",
    "    print(asyncio.run(page.title()))\n",
    "    # store beautiful soup object\n",
    "    category_pages.append(bs(asyncio.get_event_loop().run_until_complete(page.content()), \"lxml\"))\n",
    "    # store pyppeteer object\n",
    "    category_pages_py.append(page)"
   ]
  },
  {
   "cell_type": "code",
   "execution_count": 103,
   "metadata": {},
   "outputs": [],
   "source": [
    "def get_page_num(page):\n",
    "    '''\n",
    "    get number of page of the current category\n",
    "    params:\n",
    "        page: BeautifulSoup, the bs object of the webpage\n",
    "    return:\n",
    "        str\n",
    "    '''\n",
    "    page_string = re.findall(r\"/共\\d+頁\", str(page))\n",
    "    return page_string"
   ]
  },
  {
   "cell_type": "code",
   "execution_count": 104,
   "metadata": {},
   "outputs": [
    {
     "name": "stdout",
     "output_type": "stream",
     "text": [
      "['/共2頁', '/共2頁'] pages in tablets\n",
      "['/共7頁', '/共7頁'] pages in laptops\n",
      "['/共14頁', '/共14頁'] pages in smart phones\n"
     ]
    }
   ],
   "source": [
    "print(str(get_page_num(category_pages[0])) + \" pages in tablets\")\n",
    "print(str(get_page_num(category_pages[1])) + \" pages in laptops\")\n",
    "print(str(get_page_num(category_pages[2])) + \" pages in smart phones\")"
   ]
  },
  {
   "cell_type": "markdown",
   "metadata": {},
   "source": [
    "## Extracting Information"
   ]
  },
  {
   "cell_type": "code",
   "execution_count": 148,
   "metadata": {},
   "outputs": [],
   "source": [
    "def handle_price(price_str):\n",
    "    price_str = price_str.replace(\"$\", '').replace(\",\", '')\n",
    "    return float(price_str)"
   ]
  },
  {
   "cell_type": "code",
   "execution_count": 169,
   "metadata": {
    "scrolled": true
   },
   "outputs": [
    {
     "name": "stdout",
     "output_type": "stream",
     "text": [
      "59\n"
     ]
    }
   ],
   "source": [
    "###### getting plain html ######\n",
    "brand_product_name_list = category_pages[0].find_all(\"div\", class_=\"brand-product-name\")\n",
    "# https://stackoverflow.com/questions/11205386/python-beautifulsoup-get-an-attribute-value-based-on-the-name-attribute\n",
    "product_id = category_pages[0].find_all(\"div\", {\"class\":\"product-brief\"})\n",
    "index_list = [pid.attrs[\"data-id\"] for pid in product_id]\n",
    "price_list = category_pages[0].find_all(\"div\", {\"class\": \"price\"})\n",
    "seller_list = category_pages[0].select(\".product-brief > a\")\n",
    "\n",
    "###### attributes in product csv ######\n",
    "products = {\n",
    "    \"product_index\": index_list,\n",
    "    \"product_type\": [],\n",
    "    \"product_brand\": [],\n",
    "    \"product_name\": [],\n",
    "    \"product_price\": [],\n",
    "    \"product_seller\": []\n",
    "}\n",
    "\n",
    "###### add attributes ######\n",
    "for price in price_list:\n",
    "    products[\"product_price\"].append(handle_price(price.text))\n",
    "\n",
    "for seller in seller_list:\n",
    "    products[\"product_seller\"].append(seller.text)\n",
    "print(len(seller_list))\n",
    "\n",
    "for i, bpn in enumerate(brand_product_name_list):\n",
    "    s = bpn.text.split(\" - \", 1)\n",
    "    products[\"product_type\"].append(\"tablet\")\n",
    "    products[\"product_brand\"].append(s[0])\n",
    "    products[\"product_name\"].append(s[1])\n",
    "\n",
    "###### create and render dataframe ######\n",
    "# products_df = pd.DataFrame(products)\n",
    "# products_df"
   ]
  },
  {
   "cell_type": "code",
   "execution_count": 174,
   "metadata": {},
   "outputs": [
    {
     "name": "stdout",
     "output_type": "stream",
     "text": [
      "main/%E7%92%B0%E7%90%83%E8%B2%BF%E6%98%93/s/H6800001/%E9%9B%BB%E5%AD%90%E9%9B%BB%E5%99%A8/%E9%9B%BB%E5%AD%90%E9%9B%BB%E5%99%A8/%E9%9B%BB%E8%85%A6%E5%8F%8A%E9%80%B1%E9%82%8A%E8%A8%AD%E5%82%99/%E5%B9%B3%E6%9D%BF%E9%9B%BB%E8%85%A6/%E5%AE%89%E5%8D%9A%E7%A7%91%E6%8A%80-UPAD-PRO-4G%E9%80%81%E5%A5%97/p/H6800001_S_BGT0026\n",
      "main/Citylink/s/H5300001/%E9%9B%BB%E5%AD%90%E9%9B%BB%E5%99%A8/%E9%9B%BB%E5%AD%90%E9%9B%BB%E5%99%A8/%E6%89%8B%E6%A9%9F%E5%8F%8A%E5%B9%B3%E6%9D%BF%E9%9B%BB%E8%85%A6/%E5%B9%B3%E6%9D%BF%E9%9B%BB%E8%85%A6/Galaxy-Tab-A-101-WiFi-T510-2GB32GB-%E9%87%91%E8%89%B2%E5%B9%B3%E8%A1%8C%E9%80%B2%E5%8F%A3/p/H5300001_S_FSAT510232GBGD\n",
      "main/Citylink/s/H5300001/%E9%9B%BB%E5%AD%90%E9%9B%BB%E5%99%A8/%E9%9B%BB%E5%AD%90%E9%9B%BB%E5%99%A8/%E6%89%8B%E6%A9%9F%E5%8F%8A%E5%B9%B3%E6%9D%BF%E9%9B%BB%E8%85%A6/%E5%B9%B3%E6%9D%BF%E9%9B%BB%E8%85%A6/%E5%B0%8F%E7%B1%B3%E5%B9%B3%E6%9D%BF-4-80-LTE%E4%B8%80%E5%B9%B4%E4%BF%9D%E9%A4%8A464GB-%E9%87%91%E8%89%B2/p/H5300001_S_FXMM1806D9E464GBGD4\n",
      "main/%E8%BC%9D%E7%85%8C%E6%95%B8%E7%A2%BC%E6%9C%89%E9%99%90%E5%85%AC%E5%8F%B8/s/H6588001/%E9%9B%BB%E5%AD%90%E9%9B%BB%E5%99%A8/%E9%9B%BB%E5%AD%90%E9%9B%BB%E5%99%A8/%E6%89%8B%E6%A9%9F%E5%8F%8A%E5%B9%B3%E6%9D%BF%E9%9B%BB%E8%85%A6/%E5%B9%B3%E6%9D%BF%E9%9B%BB%E8%85%A6/Tab-S6-6GB128GB-WiFi-%E5%B9%B3%E6%9D%BF%E9%9B%BB%E8%85%A6-T860-%E7%81%B0%E8%89%B2-%E9%A6%99%E6%B8%AF%E8%A1%8C%E8%B2%A8/p/H6588001_S_Samsung_TabS6_WiFi_128_GY\n",
      "main/ASK-Gadgets/s/H0972006/%E9%9B%BB%E5%AD%90%E9%9B%BB%E5%99%A8/%E9%9B%BB%E5%AD%90%E9%9B%BB%E5%99%A8/%E6%89%8B%E6%A9%9F%E5%8F%8A%E5%B9%B3%E6%9D%BF%E9%9B%BB%E8%85%A6/%E5%B9%B3%E6%9D%BF%E9%9B%BB%E8%85%A6/%E8%B6%85%E8%96%84-notebook-F7-6128GB/p/H0972006_S_F7\n",
      "main/Citylink/s/H5300001/%E9%9B%BB%E5%AD%90%E9%9B%BB%E5%99%A8/%E9%9B%BB%E5%AD%90%E9%9B%BB%E5%99%A8/%E6%89%8B%E6%A9%9F%E5%8F%8A%E5%B9%B3%E6%9D%BF%E9%9B%BB%E8%85%A6/%E5%B9%B3%E6%9D%BF%E9%9B%BB%E8%85%A6/Galaxy-Tab-A-101-LTE-T515-2GB32GB-%E9%BB%91%E8%89%B2%E5%B9%B3%E8%A1%8C%E9%80%B2%E5%8F%A3/p/H5300001_S_FSAT5152-32GBBK\n",
      "main/%E8%BC%9D%E7%85%8C%E6%95%B8%E7%A2%BC%E6%9C%89%E9%99%90%E5%85%AC%E5%8F%B8/s/H6588001/%E9%9B%BB%E5%AD%90%E9%9B%BB%E5%99%A8/%E9%9B%BB%E5%AD%90%E9%9B%BB%E5%99%A8/%E6%89%8B%E6%A9%9F%E5%8F%8A%E5%B9%B3%E6%9D%BF%E9%9B%BB%E8%85%A6/%E5%B9%B3%E6%9D%BF%E9%9B%BB%E8%85%A6/M5-Lite-8-LTE-3GB32GB-%E5%B9%B3%E6%9D%BF%E9%9B%BB%E8%85%A6-%E6%B7%B1%E7%A9%BA%E7%81%B0%E8%89%B2-%E9%A6%99%E6%B8%AF%E8%A1%8C%E8%B2%A8/p/H6588001_S_Huawei_M5_Lite_8_LTE\n",
      "main/Mob-hk/s/H0762001/%E9%9B%BB%E5%AD%90%E9%9B%BB%E5%99%A8/%E9%9B%BB%E5%AD%90%E9%9B%BB%E5%99%A8/%E6%89%8B%E6%A9%9F%E5%8F%8A%E5%B9%B3%E6%9D%BF%E9%9B%BB%E8%85%A6/%E5%B9%B3%E6%9D%BF%E9%9B%BB%E8%85%A6/Galaxy-Tab-S5e-LTE-T725/p/H0762001_S_Galaxy-Tab-S5e-LTE-T725-800670050\n",
      "main/UNIVERSAL/s/H5912001/%E9%9B%BB%E5%AD%90%E9%9B%BB%E5%99%A8/%E9%9B%BB%E5%AD%90%E9%9B%BB%E5%99%A8/%E9%9B%BB%E8%85%A6%E5%8F%8A%E9%80%B1%E9%82%8A%E8%A8%AD%E5%82%99/%E5%B9%B3%E6%9D%BF%E9%9B%BB%E8%85%A6/MediaPad-M5-lite-%E5%B9%B3%E6%9D%BF-464GB%E9%A6%99%E6%B8%AF%E8%A1%8C%E8%B2%A8/p/H5912001_S_T0046\n",
      "main/Mob-hk/s/H0762001/%E9%9B%BB%E5%AD%90%E9%9B%BB%E5%99%A8/%E9%9B%BB%E5%AD%90%E9%9B%BB%E5%99%A8/%E6%89%8B%E6%A9%9F%E5%8F%8A%E5%B9%B3%E6%9D%BF%E9%9B%BB%E8%85%A6/%E5%B9%B3%E6%9D%BF%E9%9B%BB%E8%85%A6/Galaxy-Tab-S5e-WiFi/p/H0762001_S_Galaxy-Tab-S5e-Wifi-T720-800670048\n",
      "main/OB-House/s/H5023001/%E9%9B%BB%E5%AD%90%E9%9B%BB%E5%99%A8/%E9%9B%BB%E5%AD%90%E9%9B%BB%E5%99%A8/%E9%9B%BB%E8%85%A6%E5%8F%8A%E9%80%B1%E9%82%8A%E8%A8%AD%E5%82%99/%E6%89%8B%E6%8F%90%E9%9B%BB%E8%85%A6/Miix-51012ISK-Core-i5-2%E5%90%881-%E5%B9%B3%E6%9D%BF%E9%9B%BB%E8%85%A6-80U1002HHH-%E9%AB%98%E8%B3%AA%E9%99%B3%E5%88%97%E5%93%81/p/H5023001_S_80U1002HHH\n",
      "main/Citylink/s/H5300001/%E9%9B%BB%E5%AD%90%E9%9B%BB%E5%99%A8/%E9%9B%BB%E5%AD%90%E9%9B%BB%E5%99%A8/%E6%89%8B%E6%A9%9F%E5%8F%8A%E5%B9%B3%E6%9D%BF%E9%9B%BB%E8%85%A6/%E5%B9%B3%E6%9D%BF%E9%9B%BB%E8%85%A6/Honor-Pad-2-80-LTE%E4%B8%80%E5%B9%B4%E4%BF%9D%E9%A4%8A32GB-%E9%87%91%E8%89%B2/p/H5300001_S_FHUKOB-L0932GBGD4\n",
      "main/OB-House/s/H5023001/%E9%9B%BB%E5%AD%90%E9%9B%BB%E5%99%A8/%E9%9B%BB%E5%AD%90%E9%9B%BB%E5%99%A8/%E9%9B%BB%E8%85%A6%E5%8F%8A%E9%80%B1%E9%82%8A%E8%A8%AD%E5%82%99/%E6%89%8B%E6%8F%90%E9%9B%BB%E8%85%A6/Miix-51012ISK-Core-i5-256-SSD-2%E5%90%881-%E5%B9%B3%E6%9D%BF%E9%9B%BB%E8%85%A6-80U1002HHH256-%E9%AB%98%E8%B3%AA%E9%99%B3%E5%88%97%E5%93%81/p/H5023001_S_80U1002HHH_256\n",
      "main/Protech-Computer/s/H5023002/%E9%9B%BB%E5%AD%90%E9%9B%BB%E5%99%A8/%E9%9B%BB%E5%AD%90%E9%9B%BB%E5%99%A8/%E9%9B%BB%E8%85%A6%E5%8F%8A%E9%80%B1%E9%82%8A%E8%A8%AD%E5%82%99/%E6%89%8B%E6%8F%90%E9%9B%BB%E8%85%A6/Surface-Pro-6-8%E4%BB%A3i7-16G-512-SSD-%E4%BA%8C%E5%90%88%E4%B8%80%E5%B9%B3%E6%9D%BF%E9%9B%BB%E8%85%A6-Windows-10-%E5%B0%88%E6%A5%AD%E7%89%88-LQJ00022-%E9%80%81-%E5%AF%A6%E9%AB%94%E9%8D%B5%E7%9B%A4%E4%BF%9D%E8%AD%B7%E8%93%8B/p/H5023002_S_LQJ-00022\n",
      "main/Citylink/s/H5300001/%E9%9B%BB%E5%AD%90%E9%9B%BB%E5%99%A8/%E9%9B%BB%E5%AD%90%E9%9B%BB%E5%99%A8/%E6%89%8B%E6%A9%9F%E5%8F%8A%E5%B9%B3%E6%9D%BF%E9%9B%BB%E8%85%A6/%E5%B9%B3%E6%9D%BF%E9%9B%BB%E8%85%A6/Galaxy-Tab-S5e-105-WiFi-T720-4GB64GB-%E9%BB%91%E8%89%B2%E5%B9%B3%E8%A1%8C%E9%80%B2%E5%8F%A3/p/H5300001_S_FSAT7204-64GBBK\n",
      "main/%E8%BC%9D%E7%85%8C%E6%95%B8%E7%A2%BC%E6%9C%89%E9%99%90%E5%85%AC%E5%8F%B8/s/H6588001/%E9%9B%BB%E5%AD%90%E9%9B%BB%E5%99%A8/%E9%9B%BB%E5%AD%90%E9%9B%BB%E5%99%A8/%E6%89%8B%E6%A9%9F%E5%8F%8A%E5%B9%B3%E6%9D%BF%E9%9B%BB%E8%85%A6/%E5%B9%B3%E6%9D%BF%E9%9B%BB%E8%85%A6/Tab-S5e-6GB128GB-WiFi-%E9%8A%80%E8%89%B2-%E9%A6%99%E6%B8%AF%E8%A1%8C%E8%B2%A8/p/H6588001_S_Samsung_TabS5e_wifi_128GB_Silver\n",
      "main/%E8%BC%9D%E7%85%8C%E6%95%B8%E7%A2%BC%E6%9C%89%E9%99%90%E5%85%AC%E5%8F%B8/s/H6588001/%E9%9B%BB%E5%AD%90%E9%9B%BB%E5%99%A8/%E9%9B%BB%E5%AD%90%E9%9B%BB%E5%99%A8/%E6%89%8B%E6%A9%9F%E5%8F%8A%E5%B9%B3%E6%9D%BF%E9%9B%BB%E8%85%A6/%E5%B9%B3%E6%9D%BF%E9%9B%BB%E8%85%A6/M5-Pro-WiFi-4GB64GB-%E5%B9%B3%E6%9D%BF%E9%9B%BB%E8%85%A6-%E9%87%91%E8%89%B2-%E9%A6%99%E6%B8%AF%E8%A1%8C%E8%B2%A8/p/H6588001_S_Huawei_M5Pro_Gold\n",
      "main/UNIVERSAL/s/H5912001/%E9%9B%BB%E5%AD%90%E9%9B%BB%E5%99%A8/%E9%9B%BB%E5%AD%90%E9%9B%BB%E5%99%A8/%E9%9B%BB%E8%85%A6%E5%8F%8A%E9%80%B1%E9%82%8A%E8%A8%AD%E5%82%99/%E5%B9%B3%E6%9D%BF%E9%9B%BB%E8%85%A6/%E5%B9%B3%E6%9D%BF4-8%E8%8B%B1%E5%AF%B8%E5%B9%B3%E6%9D%BF%E9%9B%BB%E8%85%A6LTE%E7%89%88-4G64GB%E9%BB%91%E8%89%B2%E5%B9%B3%E8%A1%8C%E9%80%B2%E5%8F%A3/p/H5912001_S_T0044_bk\n",
      "main/%E8%BC%9D%E7%85%8C%E6%95%B8%E7%A2%BC%E6%9C%89%E9%99%90%E5%85%AC%E5%8F%B8/s/H6588001/%E9%9B%BB%E5%AD%90%E9%9B%BB%E5%99%A8/%E9%9B%BB%E5%AD%90%E9%9B%BB%E5%99%A8/%E6%89%8B%E6%A9%9F%E5%8F%8A%E5%B9%B3%E6%9D%BF%E9%9B%BB%E8%85%A6/%E5%B9%B3%E6%9D%BF%E9%9B%BB%E8%85%A6/M5-Lite-WiFi-4GB64GB-%E5%B9%B3%E6%9D%BF%E9%9B%BB%E8%85%A6-%E7%81%B0%E8%89%B2-%E9%A6%99%E6%B8%AF%E8%A1%8C%E8%B2%A8/p/H6588001_S_Huawei_M5_Lite_Grey\n",
      "main/DISTEXPRESS/s/H0710001/%E9%9B%BB%E5%AD%90%E9%9B%BB%E5%99%A8/%E9%9B%BB%E5%AD%90%E9%9B%BB%E5%99%A8/%E6%89%8B%E6%A9%9F%E5%8F%8A%E5%B9%B3%E6%9D%BF%E9%9B%BB%E8%85%A6/%E6%89%8B%E6%A9%9F%E5%91%A8%E9%82%8A%E9%85%8D%E4%BB%B6/%E5%85%B6%E4%BB%96%E6%89%8B%E6%8F%90%E9%9B%BB%E8%A9%B1%E9%85%8D%E4%BB%B6/Apple/iPad-6th-Dux-Plus-Duo-Pencil-%E6%88%96-Crayon-%E5%84%B2%E5%AD%98%E6%A7%BD-BLACK-STM222200JW01/p/H0710001_S_STM-222-200JW-01\n",
      "main/%E5%A4%A9%E6%99%82%E7%A7%91%E9%9B%BB%E5%95%86/s/H5683002/%E9%9B%BB%E5%AD%90%E9%9B%BB%E5%99%A8/%E9%9B%BB%E5%AD%90%E9%9B%BB%E5%99%A8/%E9%9B%BB%E8%85%A6%E5%8F%8A%E9%80%B1%E9%82%8A%E8%A8%AD%E5%82%99/%E5%B9%B3%E6%9D%BF%E9%9B%BB%E8%85%A6/938SP-10%E5%AF%B8%E9%80%9A%E8%A9%B1%E5%B9%B3%E6%9D%BF%E9%9B%BB%E8%85%A6/p/H5683002_S_P2224\n",
      "main/OB-House/s/H5023001/%E9%9B%BB%E5%AD%90%E9%9B%BB%E5%99%A8/%E9%9B%BB%E5%AD%90%E9%9B%BB%E5%99%A8/%E9%9B%BB%E8%85%A6%E5%8F%8A%E9%80%B1%E9%82%8A%E8%A8%AD%E5%82%99/%E6%89%8B%E6%8F%90%E9%9B%BB%E8%85%A6/Miix-700-12%E5%90%8B-2%E5%90%881%E5%B9%B3%E6%9D%BF%E9%9B%BB%E8%85%A6%E9%85%8D%E5%82%99-2K-FHD-IPS-%E8%A7%B8%E5%B1%8F%E5%8F%8A240G-SSD%E9%96%83%E5%AD%98-80QL008RHHM7-%E9%AB%98%E8%B3%AA%E9%99%B3%E5%88%97%E5%93%81/p/H5023001_S_80QL008RHH_M7\n",
      "main/Citylink/s/H5300001/%E9%9B%BB%E5%AD%90%E9%9B%BB%E5%99%A8/%E9%9B%BB%E5%AD%90%E9%9B%BB%E5%99%A8/%E6%89%8B%E6%A9%9F%E5%8F%8A%E5%B9%B3%E6%9D%BF%E9%9B%BB%E8%85%A6/%E5%B9%B3%E6%9D%BF%E9%9B%BB%E8%85%A6/Honor-Pad-2-96-LTE-3GB32GB-%E9%87%91%E8%89%B2%E5%B9%B3%E8%A1%8C%E9%80%B2%E5%8F%A3/p/H5300001_S_FHUAGS-L0932GBGD4\n",
      "main/Citylink/s/H5300001/%E9%9B%BB%E5%AD%90%E9%9B%BB%E5%99%A8/%E9%9B%BB%E5%AD%90%E9%9B%BB%E5%99%A8/%E6%89%8B%E6%A9%9F%E5%8F%8A%E5%B9%B3%E6%9D%BF%E9%9B%BB%E8%85%A6/%E5%B9%B3%E6%9D%BF%E9%9B%BB%E8%85%A6/Galaxy-Tab-S5e-105-LTE-T725-4GB64GB-%E9%8A%80%E8%89%B2%E5%B9%B3%E8%A1%8C%E9%80%B2%E5%8F%A3/p/H5300001_S_FSAT7254-64GBS\n",
      "main/Beauty-Balance-International-Group-Limited/s/S1235001/%E9%9B%BB%E5%AD%90%E9%9B%BB%E5%99%A8/%E9%9B%BB%E5%AD%90%E9%9B%BB%E5%99%A8/%E9%9B%BB%E8%85%A6%E5%8F%8A%E9%80%B1%E9%82%8A%E8%A8%AD%E5%82%99/%E9%A1%AF%E7%A4%BA%E5%99%A8/19%E5%90%8B%E4%BB%A5%E4%B8%8B%E9%A1%AF%E7%A4%BA%E5%99%A8/%E8%A1%8C%E8%B2%A8-%E6%9C%80%E6%96%B0156%E5%90%8B-4K-UHD-%E8%B6%85%E9%AB%98%E6%B8%85%E7%AA%84%E9%82%8A%E6%A1%86%E5%8F%AF%E6%94%9C%E5%BC%8F-USB31-TypeC-%E4%B8%80%E7%B7%9A%E9%80%9A-%E4%BE%9B%E9%9B%BB%E8%9E%A2%E5%B9%95-GS156UM-%E4%BF%9D%E9%A4%8A%E4%B8%80%E5%B9%B4/p/S1235001_S_GS70101\n",
      "main/%E8%BC%9D%E7%85%8C%E6%95%B8%E7%A2%BC%E6%9C%89%E9%99%90%E5%85%AC%E5%8F%B8/s/H6588001/%E9%9B%BB%E5%AD%90%E9%9B%BB%E5%99%A8/%E9%9B%BB%E5%AD%90%E9%9B%BB%E5%99%A8/%E6%89%8B%E6%A9%9F%E5%8F%8A%E5%B9%B3%E6%9D%BF%E9%9B%BB%E8%85%A6/%E5%B9%B3%E6%9D%BF%E9%9B%BB%E8%85%A6/Galaxy-Tab-A-8-with-S-Pen-3GB32GB-LTE-%E9%BB%91%E8%89%B2-%E9%A6%99%E6%B8%AF%E8%A1%8C%E8%B2%A8/p/H6588001_S_Samsung_TabA_8_SPen_LTE_Black\n",
      "main/JACKMAX-INDUSTRIES/s/H6623001/%E9%9B%BB%E5%AD%90%E9%9B%BB%E5%99%A8/%E9%9B%BB%E5%AD%90%E9%9B%BB%E5%99%A8/%E9%9B%BB%E8%85%A6%E5%8F%8A%E9%80%B1%E9%82%8A%E8%A8%AD%E5%82%99/%E5%91%A8%E9%82%8A%E8%A8%AD%E5%82%99/%E7%B9%AA%E5%9C%96%E6%9D%BF-%E6%89%8B%E5%AF%AB%E6%9D%BF/12-%E6%B6%B2%E6%99%B6%E9%9B%BB%E5%AD%90%E6%89%8B%E5%AF%AB%E6%9D%BF%E5%8F%AF%E5%B1%80%E9%83%A8%E6%93%A6%E5%AF%AB/p/H6623001_S_GT1005_P\n",
      "main/%E8%BC%9D%E7%85%8C%E6%95%B8%E7%A2%BC%E6%9C%89%E9%99%90%E5%85%AC%E5%8F%B8/s/H6588001/%E9%9B%BB%E5%AD%90%E9%9B%BB%E5%99%A8/%E9%9B%BB%E5%AD%90%E9%9B%BB%E5%99%A8/%E6%89%8B%E6%A9%9F%E5%8F%8A%E5%B9%B3%E6%9D%BF%E9%9B%BB%E8%85%A6/%E5%B9%B3%E6%9D%BF%E9%9B%BB%E8%85%A6/Tab-A-105-3GB32GB-WiFi-%E7%81%B0%E8%89%B2-%E9%A6%99%E6%B8%AF%E8%A1%8C%E8%B2%A8/p/H6588001_S_Samsung_TabA2018_WIFI_32GB_Gray\n",
      "main/Citylink/s/H5300001/%E9%9B%BB%E5%AD%90%E9%9B%BB%E5%99%A8/%E9%9B%BB%E5%AD%90%E9%9B%BB%E5%99%A8/%E6%89%8B%E6%A9%9F%E5%8F%8A%E5%B9%B3%E6%9D%BF%E9%9B%BB%E8%85%A6/%E5%B9%B3%E6%9D%BF%E9%9B%BB%E8%85%A6/%E5%B0%8F%E7%B1%B3%E5%B9%B3%E6%9D%BF-4-80-WiFi-64GB-%E9%BB%91%E8%89%B2%E5%B9%B3%E8%A1%8C%E9%80%B2%E5%8F%A3/p/H5300001_S_FXMM1806D9W64GBBK4\n",
      "main/Citylink/s/H5300001/%E9%9B%BB%E5%AD%90%E9%9B%BB%E5%99%A8/%E9%9B%BB%E5%AD%90%E9%9B%BB%E5%99%A8/%E6%89%8B%E6%A9%9F%E5%8F%8A%E5%B9%B3%E6%9D%BF%E9%9B%BB%E8%85%A6/%E5%B9%B3%E6%9D%BF%E9%9B%BB%E8%85%A6/%E5%B0%8F%E7%B1%B3%E5%B9%B3%E6%9D%BF-4-80-LTE%E4%B8%80%E5%B9%B4%E4%BF%9D%E9%A4%8A464GB-%E9%BB%91%E8%89%B2/p/H5300001_S_FXMM1806D9E464GBBK4\n",
      "main/OB-House/s/H5023001/%E9%9B%BB%E5%AD%90%E9%9B%BB%E5%99%A8/%E9%9B%BB%E5%AD%90%E9%9B%BB%E5%99%A8/%E6%89%8B%E6%A9%9F%E5%8F%8A%E5%B9%B3%E6%9D%BF%E9%9B%BB%E8%85%A6/%E5%B9%B3%E6%9D%BF%E9%9B%BB%E8%85%A6/TAB-4-8-PLUS-LTE-ZA2F0051HK-%E9%AB%98%E8%B3%AA%E9%99%B3%E5%88%97%E5%93%81/p/H5023001_S_ZA2F0051HK\n",
      "main/OB-House/s/H5023001/%E9%9B%BB%E5%AD%90%E9%9B%BB%E5%99%A8/%E9%9B%BB%E5%AD%90%E9%9B%BB%E5%99%A8/%E9%9B%BB%E8%85%A6%E5%8F%8A%E9%80%B1%E9%82%8A%E8%A8%AD%E5%82%99/%E6%89%8B%E6%8F%90%E9%9B%BB%E8%85%A6/Yoga-920-8%E4%BB%A3-i5-8G-80Y7000NHH-%E9%96%8B%E7%AE%B1%E6%A9%9F/p/H5023001_S_80Y7000NHH\n",
      "main/%E8%BC%9D%E7%85%8C%E6%95%B8%E7%A2%BC%E6%9C%89%E9%99%90%E5%85%AC%E5%8F%B8/s/H6588001/%E9%9B%BB%E5%AD%90%E9%9B%BB%E5%99%A8/%E9%9B%BB%E5%AD%90%E9%9B%BB%E5%99%A8/%E6%89%8B%E6%A9%9F%E5%8F%8A%E5%B9%B3%E6%9D%BF%E9%9B%BB%E8%85%A6/%E5%B9%B3%E6%9D%BF%E9%9B%BB%E8%85%A6/Tab-S6-8GB256GB-WiFi-%E5%B9%B3%E6%9D%BF%E9%9B%BB%E8%85%A6-T860-%E7%81%B0%E8%89%B2-%E9%A6%99%E6%B8%AF%E8%A1%8C%E8%B2%A8/p/H6588001_S_Samsung_TabS6_WiFi_256_GY\n",
      "main/%E8%BC%9D%E7%85%8C%E6%95%B8%E7%A2%BC%E6%9C%89%E9%99%90%E5%85%AC%E5%8F%B8/s/H6588001/%E9%9B%BB%E5%AD%90%E9%9B%BB%E5%99%A8/%E9%9B%BB%E5%AD%90%E9%9B%BB%E5%99%A8/%E6%89%8B%E6%A9%9F%E5%8F%8A%E5%B9%B3%E6%9D%BF%E9%9B%BB%E8%85%A6/%E5%B9%B3%E6%9D%BF%E9%9B%BB%E8%85%A6/M5-LTE-4GB64GB-%E5%B9%B3%E6%9D%BF%E9%9B%BB%E8%85%A6-%E9%87%91%E8%89%B2-%E9%A6%99%E6%B8%AF%E8%A1%8C%E8%B2%A8/p/H6588001_S_Huawei_M5_Gold\n",
      "main/LRT/s/H0183001/%E9%9B%BB%E5%AD%90%E9%9B%BB%E5%99%A8/%E9%9B%BB%E5%AD%90%E9%9B%BB%E5%99%A8/%E9%9B%BB%E8%85%A6%E5%8F%8A%E9%80%B1%E9%82%8A%E8%A8%AD%E5%82%99/%E5%B9%B3%E6%9D%BF%E9%9B%BB%E8%85%A6/Aegir-%E6%99%BA%E8%83%BD%E7%AD%86-%E7%B4%AB%E8%89%B2%E5%8E%9F%E8%A3%9D%E8%A1%8C%E8%B2%A8/p/H0183001_S_Aegir-Purple\n",
      "main/Vertex-%E6%81%86%E9%80%B2/s/S1076001/%E9%9B%BB%E5%AD%90%E9%9B%BB%E5%99%A8/%E9%9B%BB%E5%AD%90%E9%9B%BB%E5%99%A8/%E6%89%8B%E6%A9%9F%E5%8F%8A%E5%B9%B3%E6%9D%BF%E9%9B%BB%E8%85%A6/%E6%89%8B%E6%8F%90%E9%9B%BB%E8%A9%B1/%E6%99%BA%E8%83%BD%E9%9B%BB%E8%A9%B1/Lenovo-K5-Play-%E6%99%BA%E8%83%BD%E6%89%8B%E6%A9%9F/p/S1076001_S_193268748026\n",
      "main/LRT/s/H0183001/%E9%9B%BB%E5%AD%90%E9%9B%BB%E5%99%A8/%E9%9B%BB%E5%AD%90%E9%9B%BB%E5%99%A8/%E9%9B%BB%E8%85%A6%E5%8F%8A%E9%80%B1%E9%82%8A%E8%A8%AD%E5%82%99/%E5%B9%B3%E6%9D%BF%E9%9B%BB%E8%85%A6/Aegir-%E6%99%BA%E8%83%BD%E7%AD%86-%E7%B6%A0%E8%89%B2%E5%8E%9F%E8%A3%9D%E8%A1%8C%E8%B2%A8/p/H0183001_S_Aegir-Teal\n",
      "main/%E5%BE%B7%E8%AA%A0%E5%BD%B1%E6%A5%AD%E5%85%AC%E5%8F%B8/s/H6391001/%E9%9B%BB%E5%AD%90%E9%9B%BB%E5%99%A8/%E9%9B%BB%E5%AD%90%E9%9B%BB%E5%99%A8/%E9%9B%BB%E8%85%A6%E5%8F%8A%E9%80%B1%E9%82%8A%E8%A8%AD%E5%82%99/%E5%B9%B3%E6%9D%BF%E9%9B%BB%E8%85%A6/Samsung-Staedtler-Noris-Digital-Samsung-SPen-%E7%89%B9%E5%88%A5%E7%89%88/p/H6391001_S_Noris\n",
      "main/Citylink/s/H5300001/%E9%9B%BB%E5%AD%90%E9%9B%BB%E5%99%A8/%E9%9B%BB%E5%AD%90%E9%9B%BB%E5%99%A8/%E6%89%8B%E6%A9%9F%E5%8F%8A%E5%B9%B3%E6%9D%BF%E9%9B%BB%E8%85%A6/%E5%B9%B3%E6%9D%BF%E9%9B%BB%E8%85%A6/%E5%B0%8F%E7%B1%B3%E5%B9%B3%E6%9D%BF-4-80-WiFi-64GB-%E9%87%91%E8%89%B2%E5%B9%B3%E8%A1%8C%E9%80%B2%E5%8F%A3/p/H5300001_S_FXMM1806D9W64GBGD\n",
      "main/COOLMALL/s/H5688002/%E9%9B%BB%E5%AD%90%E9%9B%BB%E5%99%A8/%E9%9B%BB%E5%AD%90%E9%9B%BB%E5%99%A8/%E9%9B%BB%E8%85%A6%E5%8F%8A%E9%80%B1%E9%82%8A%E8%A8%AD%E5%82%99/%E5%B9%B3%E6%9D%BF%E9%9B%BB%E8%85%A6/Zagg-Universal-FLEX-Keyboard-with-Stand/p/H5688002_S_DG049300147\n",
      "main/DISTEXPRESS/s/H0710001/%E9%9B%BB%E5%AD%90%E9%9B%BB%E5%99%A8/%E9%9B%BB%E5%AD%90%E9%9B%BB%E5%99%A8/%E9%9B%BB%E8%85%A6%E5%8F%8A%E9%80%B1%E9%82%8A%E8%A8%AD%E5%82%99/%E5%B9%B3%E6%9D%BF%E9%9B%BB%E8%85%A6/%E5%A4%9A%E5%8A%9F%E8%83%BD%E5%BA%95%E5%BA%A7-iPad-%E5%B9%B3%E6%9D%BF-%E6%89%8B%E6%A9%9F-%E6%A9%99%E8%89%B21%E5%80%8B/p/H0710001_S_NS-ORG\n",
      "main/Protech-Computer/s/H5023002/%E9%9B%BB%E5%AD%90%E9%9B%BB%E5%99%A8/%E9%9B%BB%E5%AD%90%E9%9B%BB%E5%99%A8/%E9%9B%BB%E8%85%A6%E5%8F%8A%E9%80%B1%E9%82%8A%E8%A8%AD%E5%82%99/%E5%B9%B3%E6%9D%BF%E9%9B%BB%E8%85%A6/Lenovo-TAB4-10-WIFI-TBX304F-2G16G-ZA2J0063HK-%E5%85%A8%E6%96%B0%E6%A9%9F/p/H5023002_S_ZA2J0063HK\n",
      "main/Beauty-Balance-International-Group-Limited/s/S1235001/%E9%9B%BB%E5%AD%90%E9%9B%BB%E5%99%A8/%E9%9B%BB%E5%AD%90%E9%9B%BB%E5%99%A8/%E9%9B%BB%E8%85%A6%E5%8F%8A%E9%80%B1%E9%82%8A%E8%A8%AD%E5%82%99/%E9%A1%AF%E7%A4%BA%E5%99%A8/19%E5%90%8B%E4%BB%A5%E4%B8%8B%E9%A1%AF%E7%A4%BA%E5%99%A8/%E8%A1%8C%E8%B2%A8-%E6%9C%80%E6%96%B0156%E5%90%8B%E8%BC%95%E8%A7%B8%E5%BC%8F-4K-UHD%E8%B6%85%E9%AB%98%E6%B8%85%E7%AA%84%E9%82%8A%E6%A1%86%E5%8F%AF%E6%94%9C%E5%BC%8F-USB31-TypeC-%E4%B8%80%E7%B7%9A%E9%80%9A-%E4%BE%9B%E9%9B%BB%E8%9E%A2%E5%B9%95-GS156UT-%E4%BF%9D%E9%A4%8A%E4%B8%80%E5%B9%B4/p/S1235001_S_GS70102\n",
      "main/24BUYHK/s/H6201001/%E9%9B%BB%E5%AD%90%E9%9B%BB%E5%99%A8/%E9%9B%BB%E5%AD%90%E9%9B%BB%E5%99%A8/%E9%9B%BB%E8%85%A6%E5%8F%8A%E9%80%B1%E9%82%8A%E8%A8%AD%E5%82%99/%E5%B9%B3%E6%9D%BF%E9%9B%BB%E8%85%A6/Impact-Protection-Case-For-Apple-Watch-S3-%E9%98%B2%E6%92%9E%E4%BF%9D%E8%AD%B7%E5%A5%97-S2-%E9%81%A9%E7%94%A8-%E8%97%8D%E8%89%B2/p/H6201001_S_B01LZG3C712016\n",
      "main/JNH-%E7%94%9F%E6%B4%BB%E7%B2%BE%E5%93%81%E5%B1%8B/s/H6672002/%E9%9B%BB%E5%AD%90%E9%9B%BB%E5%99%A8/%E6%95%B8%E7%A2%BC%E6%B5%81%E5%8B%95%E7%94%A2%E5%93%81/%E8%BC%95%E8%A7%B8%E7%AD%86/%E5%9C%93%E7%9B%A4%E8%9E%A2%E5%B9%95%E8%A7%B8%E6%8E%A7%E7%AD%86-%E6%99%BA%E8%83%BD%E9%9B%BB%E8%A9%B1%E5%B9%B3%E6%9D%BF%E9%9B%BB%E8%85%A6%E9%81%A9%E7%94%A8%E7%81%B0%E8%89%B2/p/H6672002_S_Round-Disc-Stylus-Black\n",
      "main/DCONE/s/H0775001/%E9%9B%BB%E5%AD%90%E9%9B%BB%E5%99%A8/%E9%9B%BB%E5%AD%90%E9%9B%BB%E5%99%A8/%E9%9B%BB%E8%85%A6%E5%8F%8A%E9%80%B1%E9%82%8A%E8%A8%AD%E5%82%99/%E5%B9%B3%E6%9D%BF%E9%9B%BB%E8%85%A6/%E6%99%BA%E8%83%BD%E5%B9%B3%E6%9D%BF-P10-TBX705F-WIFI-%E9%BB%91%E8%89%B2/p/H0775001_S_TB_X705F\n",
      "main/JACKMAX-INDUSTRIES/s/H6623001/%E9%9B%BB%E5%AD%90%E9%9B%BB%E5%99%A8/%E9%9B%BB%E5%AD%90%E9%9B%BB%E5%99%A8/%E9%9B%BB%E8%85%A6%E5%8F%8A%E9%80%B1%E9%82%8A%E8%A8%AD%E5%82%99/%E5%91%A8%E9%82%8A%E8%A8%AD%E5%82%99/%E7%B9%AA%E5%9C%96%E6%9D%BF-%E6%89%8B%E5%AF%AB%E6%9D%BF/12-%E6%B6%B2%E6%99%B6%E9%9B%BB%E5%AD%90%E6%89%8B%E5%AF%AB%E6%9D%BF%E5%8F%AF%E5%B1%80%E9%83%A8%E6%93%A6%E5%AF%AB/p/H6623001_S_GT1005_BLK\n",
      "main/UNIVERSAL/s/H5912001/%E9%9B%BB%E5%AD%90%E9%9B%BB%E5%99%A8/%E9%9B%BB%E5%AD%90%E9%9B%BB%E5%99%A8/%E9%9B%BB%E8%85%A6%E5%8F%8A%E9%80%B1%E9%82%8A%E8%A8%AD%E5%82%99/%E5%B9%B3%E6%9D%BF%E9%9B%BB%E8%85%A6/TAB-4-8-PLUS-LTE-64GB-8704X%E7%99%BD%E9%A6%99%E6%B8%AF%E8%A1%8C%E8%B2%A8/p/H5912001_S_T0033_bk\n",
      "main/PLUS-ONE-COMPANY/s/H6795001/%E9%9B%BB%E5%AD%90%E9%9B%BB%E5%99%A8/%E9%9B%BB%E5%AD%90%E9%9B%BB%E5%99%A8/%E9%9B%BB%E8%85%A6%E5%8F%8A%E9%80%B1%E9%82%8A%E8%A8%AD%E5%82%99/%E5%91%A8%E9%82%8A%E8%A8%AD%E5%82%99/%E7%B9%AA%E5%9C%96%E6%9D%BF-%E6%89%8B%E5%AF%AB%E6%9D%BF/Kamvas-Pro-20/p/H6795001_S_Kamvaspro20\n",
      "main/Praesto-Lifestyle/s/H5892002/%E9%9B%BB%E5%AD%90%E9%9B%BB%E5%99%A8/%E9%9B%BB%E5%AD%90%E9%9B%BB%E5%99%A8/%E9%9B%BB%E8%85%A6%E5%8F%8A%E9%80%B1%E9%82%8A%E8%A8%AD%E5%82%99/%E5%85%B6%E4%BB%96%E9%9B%BB%E8%85%A6%E7%94%A2%E5%93%81/Mac%E5%B0%88%E7%94%A8%E9%85%8D%E4%BB%B6/97inch-iPad-Balance-FOLIO-METALLIC-Cases/p/H5892002_S_121948-6009\n",
      "main/UNIVERSAL/s/H5912001/%E9%9B%BB%E5%AD%90%E9%9B%BB%E5%99%A8/%E9%9B%BB%E5%AD%90%E9%9B%BB%E5%99%A8/%E9%9B%BB%E8%85%A6%E5%8F%8A%E9%80%B1%E9%82%8A%E8%A8%AD%E5%82%99/%E5%B9%B3%E6%9D%BF%E9%9B%BB%E8%85%A6/%E5%B9%B3%E6%9D%BF4-8%E8%8B%B1%E5%AF%B8%E5%B9%B3%E6%9D%BF%E9%9B%BB%E8%85%A6WIFI%E7%89%88-4G64GB%E5%B9%B3%E8%A1%8C%E9%80%B2%E5%8F%A3/p/H5912001_S_T0043_bk\n",
      "main/Vertex-%E6%81%86%E9%80%B2/s/S1076001/%E9%9B%BB%E5%AD%90%E9%9B%BB%E5%99%A8/%E9%9B%BB%E5%AD%90%E9%9B%BB%E5%99%A8/%E9%9B%BB%E8%85%A6%E5%8F%8A%E9%80%B1%E9%82%8A%E8%A8%AD%E5%82%99/%E5%B9%B3%E6%9D%BF%E9%9B%BB%E8%85%A6/%E9%8B%81%E9%87%91%E5%B1%AC%E5%B9%B3%E6%9D%BF%E9%9B%BB%E8%85%A6%E5%BA%A7-%E9%BB%91%E8%89%B2/p/S1076001_S_736211532176\n",
      "main/DCONE/s/H0775001/%E9%9B%BB%E5%AD%90%E9%9B%BB%E5%99%A8/%E9%9B%BB%E5%AD%90%E9%9B%BB%E5%99%A8/%E9%9B%BB%E8%85%A6%E5%8F%8A%E9%80%B1%E9%82%8A%E8%A8%AD%E5%82%99/%E5%B9%B3%E6%9D%BF%E9%9B%BB%E8%85%A6/%E6%99%BA%E8%83%BD%E5%B9%B3%E6%9D%BF-M10-TBX605L-LTE-%E9%BB%91%E8%89%B2/p/H0775001_S_TB_X605L\n",
      "main/DISTEXPRESS/s/H0710001/%E9%9B%BB%E5%AD%90%E9%9B%BB%E5%99%A8/%E9%9B%BB%E5%AD%90%E9%9B%BB%E5%99%A8/%E9%9B%BB%E8%85%A6%E5%8F%8A%E9%80%B1%E9%82%8A%E8%A8%AD%E5%82%99/%E5%B9%B3%E6%9D%BF%E9%9B%BB%E8%85%A6/DUX-iPad-6th-5th-Gen-%E9%98%B2%E6%92%9E%E4%BF%9D%E8%AD%B7%E5%A5%97-%E9%AE%AE%E7%B4%85%E8%89%B2/p/H0710001_S_STM-222-160JW-29\n",
      "main/Gaminghk/s/H5189001/%E9%9B%BB%E5%AD%90%E9%9B%BB%E5%99%A8/%E9%9B%BB%E5%AD%90%E9%9B%BB%E5%99%A8/%E9%9B%BB%E8%85%A6%E5%8F%8A%E9%80%B1%E9%82%8A%E8%A8%AD%E5%82%99/%E5%B9%B3%E6%9D%BF%E9%9B%BB%E8%85%A6/Alldocube-iPlay-8-16GB/p/H5189001_S_Alldocube-iPlay8-16GB\n",
      "main/Vertex-%E6%81%86%E9%80%B2/s/S1076001/%E9%9B%BB%E5%AD%90%E9%9B%BB%E5%99%A8/%E9%9B%BB%E5%AD%90%E9%9B%BB%E5%99%A8/%E9%9B%BB%E8%85%A6%E5%8F%8A%E9%80%B1%E9%82%8A%E8%A8%AD%E5%82%99/%E5%B9%B3%E6%9D%BF%E9%9B%BB%E8%85%A6/Lenovo-K5-Play-%E6%99%BA%E8%83%BD%E6%89%8B%E6%A9%9F/p/S1076001_S_193268721173\n",
      "main/Gaminghk/s/H5189001/%E9%9B%BB%E5%AD%90%E9%9B%BB%E5%99%A8/%E9%9B%BB%E5%AD%90%E9%9B%BB%E5%99%A8/%E9%9B%BB%E8%85%A6%E5%8F%8A%E9%80%B1%E9%82%8A%E8%A8%AD%E5%82%99/%E5%B9%B3%E6%9D%BF%E9%9B%BB%E8%85%A6/Alldocube-M8-32GB/p/H5189001_S_Alldocube-M8-32GB\n",
      "main/%E7%92%B0%E7%90%83%E8%B2%BF%E6%98%93/s/H6800001/%E9%9B%BB%E5%AD%90%E9%9B%BB%E5%99%A8/%E9%9B%BB%E5%AD%90%E9%9B%BB%E5%99%A8/%E9%9B%BB%E8%85%A6%E5%8F%8A%E9%80%B1%E9%82%8A%E8%A8%AD%E5%82%99/%E5%B9%B3%E6%9D%BF%E9%9B%BB%E8%85%A6/%E5%AE%89%E5%8D%9A%E7%A7%91%E6%8A%80-UPAD-PRO-4G-%E5%8F%B0%E7%81%A3%E7%89%88/p/H6800001_S_BGT0027\n",
      "main/Gaminghk/s/H5189001/%E9%9B%BB%E5%AD%90%E9%9B%BB%E5%99%A8/%E9%9B%BB%E5%AD%90%E9%9B%BB%E5%99%A8/%E9%9B%BB%E8%85%A6%E5%8F%8A%E9%80%B1%E9%82%8A%E8%A8%AD%E5%82%99/%E5%B9%B3%E6%9D%BF%E9%9B%BB%E8%85%A6/Alldocube-M5X-64GB/p/H5189001_S_Alldocube-M5X-64GB\n",
      "main/Citylink/s/H5300001/%E9%9B%BB%E5%AD%90%E9%9B%BB%E5%99%A8/%E9%9B%BB%E5%AD%90%E9%9B%BB%E5%99%A8/%E6%89%8B%E6%A9%9F%E5%8F%8A%E5%B9%B3%E6%9D%BF%E9%9B%BB%E8%85%A6/%E5%B9%B3%E6%9D%BF%E9%9B%BB%E8%85%A6/Honor-Pad-5-101-LTE-%E5%85%A8%E7%B6%B2%E9%80%9A%E7%89%88-4GB64GB-%E8%97%8D%E8%89%B2%E5%B9%B3%E8%A1%8C%E9%80%B2%E5%8F%A3/p/H5300001_S_FHUAGS2-AL00HN4-64GBB\n"
     ]
    }
   ],
   "source": [
    "seller_list = category_pages[0].select(\".product-brief > a\")\n",
    "for seller in seller_list:\n",
    "    seller = seller.attrs[\"href\"]\n",
    "    seller = seller.split(\"/\")[]"
   ]
  },
  {
   "cell_type": "code",
   "execution_count": null,
   "metadata": {},
   "outputs": [],
   "source": []
  }
 ],
 "metadata": {
  "colab": {
   "collapsed_sections": [],
   "name": "crawl_HKTVmall.ipynb",
   "provenance": []
  },
  "kernelspec": {
   "display_name": "Python 3",
   "language": "python",
   "name": "python3"
  },
  "language_info": {
   "codemirror_mode": {
    "name": "ipython",
    "version": 3
   },
   "file_extension": ".py",
   "mimetype": "text/x-python",
   "name": "python",
   "nbconvert_exporter": "python",
   "pygments_lexer": "ipython3",
   "version": "3.7.3"
  }
 },
 "nbformat": 4,
 "nbformat_minor": 1
}
