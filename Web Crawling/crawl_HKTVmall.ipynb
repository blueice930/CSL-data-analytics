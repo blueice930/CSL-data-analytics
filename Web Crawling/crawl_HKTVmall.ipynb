{
 "cells": [
  {
   "cell_type": "markdown",
   "metadata": {
    "colab_type": "text",
    "id": "N5Uefb1d1jA0"
   },
   "source": [
    "## Website\n",
    "https://www.hktvmall.com/hktv/zh/homenfamily"
   ]
  },
  {
   "cell_type": "markdown",
   "metadata": {},
   "source": [
    "## Environment and Imports\n",
    "No need to run the cell below if you have already installed the packages"
   ]
  },
  {
   "cell_type": "code",
   "execution_count": 1,
   "metadata": {
    "colab": {
     "base_uri": "https://localhost:8080/",
     "height": 119
    },
    "colab_type": "code",
    "executionInfo": {
     "elapsed": 3979,
     "status": "ok",
     "timestamp": 1570097009981,
     "user": {
      "displayName": "Taito C",
      "photoUrl": "https://lh3.googleusercontent.com/a-/AAuE7mDpybaj_DlTB1GsXFeTCz86kdSLAbD1Z9TmcOYzgkQ=s64",
      "userId": "12838637656458653008"
     },
     "user_tz": -480
    },
    "id": "spVhs0um0boM",
    "outputId": "52032265-eeb5-4526-a2b2-b41dcd85abbe"
   },
   "outputs": [
    {
     "name": "stdout",
     "output_type": "stream",
     "text": [
      "Requirement already satisfied: pyppeteer in /home/kaiwenxue3/anaconda3/lib/python3.7/site-packages (0.0.25)\r\n",
      "Requirement already satisfied: tqdm in /home/kaiwenxue3/anaconda3/lib/python3.7/site-packages (from pyppeteer) (4.32.1)\r\n",
      "Requirement already satisfied: appdirs in /home/kaiwenxue3/anaconda3/lib/python3.7/site-packages (from pyppeteer) (1.4.3)\r\n",
      "Requirement already satisfied: pyee in /home/kaiwenxue3/anaconda3/lib/python3.7/site-packages (from pyppeteer) (6.0.0)\r\n",
      "Requirement already satisfied: websockets in /home/kaiwenxue3/anaconda3/lib/python3.7/site-packages (from pyppeteer) (8.0.2)\r\n",
      "Requirement already satisfied: urllib3 in /home/kaiwenxue3/anaconda3/lib/python3.7/site-packages (from pyppeteer) (1.24.2)\r\n"
     ]
    }
   ],
   "source": [
    "!pip install pyppeteer"
   ]
  },
  {
   "cell_type": "code",
   "execution_count": 2,
   "metadata": {
    "colab": {},
    "colab_type": "code",
    "id": "-KeXQ35c1LoS"
   },
   "outputs": [],
   "source": [
    "from pyppeteer import launch\n",
    "import asyncio\n",
    "import nest_asyncio\n",
    "from bs4 import BeautifulSoup as bs"
   ]
  },
  {
   "cell_type": "code",
   "execution_count": 33,
   "metadata": {},
   "outputs": [],
   "source": [
    "nest_asyncio.apply()"
   ]
  },
  {
   "cell_type": "code",
   "execution_count": 43,
   "metadata": {},
   "outputs": [],
   "source": [
    "def run_asyncio(func, args=None):\n",
    "    return asyncio.get_event_loop().run_until_complete(func(args))"
   ]
  },
  {
   "cell_type": "markdown",
   "metadata": {
    "colab": {},
    "colab_type": "code",
    "id": "Qy4ELU1m1Lqn"
   },
   "source": [
    "## Getting Pages"
   ]
  },
  {
   "cell_type": "code",
   "execution_count": 4,
   "metadata": {},
   "outputs": [],
   "source": [
    "TABLET = 0\n",
    "LAPTOP = 1\n",
    "PHONE = 2\n",
    "urls = [\n",
    "    \"https://www.hktvmall.com/hktv/zh/search?categoryTag=AA32301500001\",\n",
    "    \"https://www.hktvmall.com/hktv/zh/search?categoryTag=AA32300500001\", \n",
    "    \"https://www.hktvmall.com/hktv/zh/search?categoryTag=AA32201010001\"\n",
    "]"
   ]
  },
  {
   "cell_type": "code",
   "execution_count": 32,
   "metadata": {},
   "outputs": [],
   "source": [
    "async def get_item_page(url: str):\n",
    "    '''\n",
    "    get the web page\n",
    "    params:\n",
    "        url: str, url of the web page\n",
    "    return: \n",
    "        page: pyppeteer.page.Page, the web page\n",
    "    '''\n",
    "    browser = await launch()\n",
    "    page = await browser.newPage()\n",
    "    await page.goto(url)\n",
    "    return page"
   ]
  },
  {
   "cell_type": "code",
   "execution_count": 44,
   "metadata": {},
   "outputs": [
    {
     "name": "stdout",
     "output_type": "stream",
     "text": [
      "平板電腦 | 香港電視 HKTVmall 網上購物\n",
      "手提電腦 | 香港電視 HKTVmall 網上購物\n",
      "智能電話 | 香港電視 HKTVmall 網上購物\n"
     ]
    }
   ],
   "source": [
    "category_pages = []\n",
    "for url in urls:\n",
    "    page = run_asyncio(get_item_page, url)\n",
    "    category_pages.append(page)\n",
    "    print(asyncio.run(page.title()))"
   ]
  },
  {
   "cell_type": "code",
   "execution_count": null,
   "metadata": {},
   "outputs": [],
   "source": [
    "async def get_page_num(page):\n",
    "    "
   ]
  }
 ],
 "metadata": {
  "colab": {
   "collapsed_sections": [],
   "name": "crawl_HKTVmall.ipynb",
   "provenance": []
  },
  "kernelspec": {
   "display_name": "Python 3",
   "language": "python",
   "name": "python3"
  },
  "language_info": {
   "codemirror_mode": {
    "name": "ipython",
    "version": 3
   },
   "file_extension": ".py",
   "mimetype": "text/x-python",
   "name": "python",
   "nbconvert_exporter": "python",
   "pygments_lexer": "ipython3",
   "version": "3.7.3"
  }
 },
 "nbformat": 4,
 "nbformat_minor": 1
}
